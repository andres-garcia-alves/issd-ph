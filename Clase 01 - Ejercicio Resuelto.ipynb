{
  "cells": [
    {
      "cell_type": "markdown",
      "metadata": {
        "id": "view-in-github",
        "colab_type": "text"
      },
      "source": [
        "<a href=\"https://colab.research.google.com/github/andres-garcia-alves/issd-ph/blob/main/Clase%2001%20-%20Ejercicio%20Resuelto.ipynb\" target=\"_parent\"><img src=\"https://colab.research.google.com/assets/colab-badge.svg\" alt=\"Open In Colab\"/></a>"
      ]
    },
    {
      "cell_type": "markdown",
      "metadata": {
        "id": "fps1NU66U4cz"
      },
      "source": [
        "# Ejercicio\n",
        "\n",
        "**Dado el siguiente texto**\n",
        "\n",
        "Aplastamiento de las Gotas - Julio Cortázar\n",
        "\n",
        "Yo no sé, mirá, es terrible cómo llueve. Llueve todo el tiempo, afuera tupido y gris, aquí contra el balcón con goterones cuajados y duros, que hacen plaf y se aplastan como bofetadas uno detrás de otro qué hastío. Ahora aparece una gotita en lo alto del marco de la ventana, se queda temblequeando contra el cielo que la triza en mil brillos apagados, va creciendo y se tambalea, ya va a caer y no se cae, todavía no se cae. Está prendida con todas las uñas, no quiere caerse y se la ve que se agarra con los dientes mientras le crece la barriga, ya es una gotaza que cuelga majestuosa y de pronto zup ahí va, plaf, deshecha, nada, una viscosidad en el mármol.\n",
        "\n",
        "Pero las hay que se suicidan y se entregan enseguida, brotan en el marco y ahí mismo se tiran; me parece ver la vibración del salto, sus piernitas desprendiéndose y el grito que las emborracha en esa nada del caer y aniquilarse. Tristes gotas, redondas inocentes gotas. Adiós gotas. Adiós."
      ]
    },
    {
      "cell_type": "code",
      "execution_count": 1,
      "metadata": {
        "id": "grRaq08KVNao"
      },
      "outputs": [],
      "source": [
        "corpus = [\"Aplastamiento de las Gotas - Julio Cortázar\",\n",
        "          \"Yo no sé, mirá, es terrible cómo llueve. Llueve todo el tiempo, afuera tupido y gris, aquí contra el balcón con goterones cuajados y duros, que hacen plaf y se aplastan como bofetadas uno detrás de otro qué hastío. Ahora aparece una gotita en lo alto del marco de la ventana, se queda temblequeando contra el cielo que la triza en mil brillos apagados, va creciendo y se tambalea, ya va a caer y no se cae, todavía no se cae. Está prendida con todas las uñas, no quiere caerse y se la ve que se agarra con los dientes mientras le crece la barriga, ya es una gotaza que cuelga majestuosa y de pronto zup ahí va, plaf, deshecha, nada, una viscosidad en el mármol.\",\n",
        "          \"Pero las hay que se suicidan y se entregan enseguida, brotan en el marco y ahí mismo se tiran; me parece ver la vibración del salto, sus piernitas desprendiéndose y el grito que las emborracha en esa nada del caer y aniquilarse. Tristes gotas, redondas inocentes gotas. Adiós gotas. Adiós.\"]"
      ]
    },
    {
      "cell_type": "code",
      "execution_count": 2,
      "metadata": {
        "id": "i_Z_PpQGZY9X"
      },
      "outputs": [],
      "source": [
        "corpus_dict = [\n",
        "    {\"id\": 0, \"texto\": \"Aplastamiento de las Gotas - Julio Cortázar\"},\n",
        "    {\"id\": 1, \"texto\": \"Yo no sé, mirá, es terrible cómo llueve. Llueve todo el tiempo, afuera tupido y gris, aquí contra el balcón con goterones cuajados y duros, que hacen plaf y se aplastan como bofetadas uno detrás de otro qué hastío. Ahora aparece una gotita en lo alto del marco de la ventana, se queda temblequeando contra el cielo que la triza en mil brillos apagados, va creciendo y se tambalea, ya va a caer y no se cae, todavía no se cae. Está prendida con todas las uñas, no quiere caerse y se la ve que se agarra con los dientes mientras le crece la barriga, ya es una gotaza que cuelga majestuosa y de pronto zup ahí va, plaf, deshecha, nada, una viscosidad en el mármol.\"},\n",
        "    {\"id\": 2, \"texto\": \"Pero las hay que se suicidan y se entregan enseguida, brotan en el marco y ahí mismo se tiran; me parece ver la vibración del salto, sus piernitas desprendiéndose y el grito que las emborracha en esa nada del caer y aniquilarse. Tristes gotas, redondas inocentes gotas. Adiós gotas. Adiós.\"}\n",
        "]"
      ]
    },
    {
      "cell_type": "markdown",
      "metadata": {
        "id": "iE_ocIdPIOMi"
      },
      "source": [
        "### Usar la librería Numpy y sklearn para calcular el Vector de Frecuencias, One-Hot-Encoding, y TF-IDF."
      ]
    },
    {
      "cell_type": "code",
      "execution_count": 3,
      "metadata": {
        "id": "IkZjOicpIVS9"
      },
      "outputs": [],
      "source": [
        "import numpy as np\n",
        "from sklearn.preprocessing import OneHotEncoder\n",
        "from sklearn.feature_extraction.text import CountVectorizer\n",
        "from sklearn.feature_extraction.text import TfidfVectorizer\n",
        "\n",
        "# por comodidad, aumento ancho al momento del print(), antes que se genere un salto de línea\n",
        "np.set_printoptions(linewidth=230)"
      ]
    },
    {
      "cell_type": "code",
      "source": [
        "# VECTOR DE FRECUENCIAS\n",
        "count_vectorizer = CountVectorizer()\n",
        "\n",
        "# fit & transform\n",
        "count_vectorizer.fit(corpus)\n",
        "vector = count_vectorizer.transform(corpus)\n",
        "\n",
        "# mostrar el vocabulario y el vector de frecuencias:\n",
        "print('Vector de frecuencias: \\n')\n",
        "print('- Vocabulario\\n {0} \\n'.format(count_vectorizer.get_feature_names_out()))\n",
        "print('- Matriz\\n {0}'.format(vector.toarray()))"
      ],
      "metadata": {
        "colab": {
          "base_uri": "https://localhost:8080/"
        },
        "id": "-xHe7WK2fPl_",
        "outputId": "60a1cc66-b053-4573-9ca8-1c1fe66c00f4"
      },
      "execution_count": 4,
      "outputs": [
        {
          "output_type": "stream",
          "name": "stdout",
          "text": [
            "Vector de frecuencias: \n",
            "\n",
            "- Vocabulario\n",
            " ['adiós' 'afuera' 'agarra' 'ahora' 'ahí' 'alto' 'aniquilarse' 'apagados' 'aparece' 'aplastamiento' 'aplastan' 'aquí' 'balcón' 'barriga' 'bofetadas' 'brillos' 'brotan' 'cae' 'caer' 'caerse' 'cielo' 'como' 'con' 'contra' 'cortázar'\n",
            " 'crece' 'creciendo' 'cuajados' 'cuelga' 'cómo' 'de' 'del' 'deshecha' 'desprendiéndose' 'detrás' 'dientes' 'duros' 'el' 'emborracha' 'en' 'enseguida' 'entregan' 'es' 'esa' 'está' 'gotas' 'gotaza' 'goterones' 'gotita' 'gris'\n",
            " 'grito' 'hacen' 'hastío' 'hay' 'inocentes' 'julio' 'la' 'las' 'le' 'llueve' 'lo' 'los' 'majestuosa' 'marco' 'me' 'mientras' 'mil' 'mirá' 'mismo' 'mármol' 'nada' 'no' 'otro' 'parece' 'pero' 'piernitas' 'plaf' 'prendida' 'pronto'\n",
            " 'que' 'queda' 'quiere' 'qué' 'redondas' 'salto' 'se' 'suicidan' 'sus' 'sé' 'tambalea' 'temblequeando' 'terrible' 'tiempo' 'tiran' 'todas' 'todavía' 'todo' 'tristes' 'triza' 'tupido' 'una' 'uno' 'uñas' 'va' 've' 'ventana' 'ver'\n",
            " 'vibración' 'viscosidad' 'ya' 'yo' 'zup'] \n",
            "\n",
            "- Matriz\n",
            " [[0 0 0 0 0 0 0 0 0 1 0 0 0 0 0 0 0 0 0 0 0 0 0 0 1 0 0 0 0 0 1 0 0 0 0 0 0 0 0 0 0 0 0 0 0 1 0 0 0 0 0 0 0 0 0 1 0 1 0 0 0 0 0 0 0 0 0 0 0 0 0 0 0 0 0 0 0 0 0 0 0 0 0 0 0 0 0 0 0 0 0 0 0 0 0 0 0 0 0 0 0 0 0 0 0 0 0 0 0 0 0 0]\n",
            " [0 1 1 1 1 1 0 1 1 0 1 1 1 1 1 1 0 2 1 1 1 1 3 2 0 1 1 1 1 1 3 1 1 0 1 1 1 4 0 3 0 0 2 0 1 0 1 1 1 1 0 1 1 0 0 0 4 1 1 2 1 1 1 1 0 1 1 1 0 1 1 4 1 0 0 0 2 1 1 4 1 1 1 0 0 7 0 0 1 1 1 1 1 0 1 1 1 0 1 1 3 1 1 3 1 1 0 0 1 2 1 1]\n",
            " [2 0 0 0 1 0 1 0 0 0 0 0 0 0 0 0 1 0 1 0 0 0 0 0 0 0 0 0 0 0 0 2 0 1 0 0 0 2 1 2 1 1 0 1 0 3 0 0 0 0 1 0 0 1 1 0 1 2 0 0 0 0 0 1 1 0 0 0 1 0 1 0 0 1 1 1 0 0 0 2 0 0 0 1 1 3 1 1 0 0 0 0 0 1 0 0 0 1 0 0 0 0 0 0 0 0 1 1 0 0 0 0]]\n"
          ]
        }
      ]
    },
    {
      "cell_type": "code",
      "source": [
        "# ONE-HOT-ENCONDING\n",
        "one_hot_vectorizer = CountVectorizer(binary=True)  # binary=True para one-hot-encoding\n",
        "\n",
        "# fit & transform: obtener la representación one-hot-encoding\n",
        "one_hot_vectorizer.fit(corpus)\n",
        "one_hot_vector = one_hot_vectorizer.transform(corpus)\n",
        "\n",
        "# Mostrar el vocabulario y la matriz resultante\n",
        "print('\\nOne-Hot-Encoding: \\n')\n",
        "print('- Vocabulario\\n {0} \\n'.format(one_hot_vectorizer.get_feature_names_out()))\n",
        "print('- Matriz\\n {0}'.format(one_hot_vector.toarray()))"
      ],
      "metadata": {
        "colab": {
          "base_uri": "https://localhost:8080/"
        },
        "id": "rpjmPp4mfQie",
        "outputId": "36111ace-234c-450c-9943-7aaa7c41fefb"
      },
      "execution_count": 5,
      "outputs": [
        {
          "output_type": "stream",
          "name": "stdout",
          "text": [
            "\n",
            "One-Hot-Encoding: \n",
            "\n",
            "- Vocabulario\n",
            " ['adiós' 'afuera' 'agarra' 'ahora' 'ahí' 'alto' 'aniquilarse' 'apagados' 'aparece' 'aplastamiento' 'aplastan' 'aquí' 'balcón' 'barriga' 'bofetadas' 'brillos' 'brotan' 'cae' 'caer' 'caerse' 'cielo' 'como' 'con' 'contra' 'cortázar'\n",
            " 'crece' 'creciendo' 'cuajados' 'cuelga' 'cómo' 'de' 'del' 'deshecha' 'desprendiéndose' 'detrás' 'dientes' 'duros' 'el' 'emborracha' 'en' 'enseguida' 'entregan' 'es' 'esa' 'está' 'gotas' 'gotaza' 'goterones' 'gotita' 'gris'\n",
            " 'grito' 'hacen' 'hastío' 'hay' 'inocentes' 'julio' 'la' 'las' 'le' 'llueve' 'lo' 'los' 'majestuosa' 'marco' 'me' 'mientras' 'mil' 'mirá' 'mismo' 'mármol' 'nada' 'no' 'otro' 'parece' 'pero' 'piernitas' 'plaf' 'prendida' 'pronto'\n",
            " 'que' 'queda' 'quiere' 'qué' 'redondas' 'salto' 'se' 'suicidan' 'sus' 'sé' 'tambalea' 'temblequeando' 'terrible' 'tiempo' 'tiran' 'todas' 'todavía' 'todo' 'tristes' 'triza' 'tupido' 'una' 'uno' 'uñas' 'va' 've' 'ventana' 'ver'\n",
            " 'vibración' 'viscosidad' 'ya' 'yo' 'zup'] \n",
            "\n",
            "- Matriz\n",
            " [[0 0 0 0 0 0 0 0 0 1 0 0 0 0 0 0 0 0 0 0 0 0 0 0 1 0 0 0 0 0 1 0 0 0 0 0 0 0 0 0 0 0 0 0 0 1 0 0 0 0 0 0 0 0 0 1 0 1 0 0 0 0 0 0 0 0 0 0 0 0 0 0 0 0 0 0 0 0 0 0 0 0 0 0 0 0 0 0 0 0 0 0 0 0 0 0 0 0 0 0 0 0 0 0 0 0 0 0 0 0 0 0]\n",
            " [0 1 1 1 1 1 0 1 1 0 1 1 1 1 1 1 0 1 1 1 1 1 1 1 0 1 1 1 1 1 1 1 1 0 1 1 1 1 0 1 0 0 1 0 1 0 1 1 1 1 0 1 1 0 0 0 1 1 1 1 1 1 1 1 0 1 1 1 0 1 1 1 1 0 0 0 1 1 1 1 1 1 1 0 0 1 0 0 1 1 1 1 1 0 1 1 1 0 1 1 1 1 1 1 1 1 0 0 1 1 1 1]\n",
            " [1 0 0 0 1 0 1 0 0 0 0 0 0 0 0 0 1 0 1 0 0 0 0 0 0 0 0 0 0 0 0 1 0 1 0 0 0 1 1 1 1 1 0 1 0 1 0 0 0 0 1 0 0 1 1 0 1 1 0 0 0 0 0 1 1 0 0 0 1 0 1 0 0 1 1 1 0 0 0 1 0 0 0 1 1 1 1 1 0 0 0 0 0 1 0 0 0 1 0 0 0 0 0 0 0 0 1 1 0 0 0 0]]\n"
          ]
        }
      ]
    },
    {
      "cell_type": "code",
      "source": [
        "# TF-IDF\n",
        "tf_idf_vectorizer = TfidfVectorizer()\n",
        "\n",
        "# Ajustar el vectorizador al corpus\n",
        "tf_idf_vectorizer.fit(corpus)\n",
        "\n",
        "# Obtener la representación TF-IDF\n",
        "tf_idf_matrix = tf_idf_vectorizer.transform(corpus)\n",
        "\n",
        "# Mostrar el vocabulario y la matriz TF-IDF\n",
        "print('\\nTF-IDF: \\n')\n",
        "print('- Vocabulario\\n {0} \\n'.format(tf_idf_vectorizer.get_feature_names_out()))\n",
        "print('- Matriz\\n {0}'.format(tf_idf_matrix.toarray()))"
      ],
      "metadata": {
        "colab": {
          "base_uri": "https://localhost:8080/"
        },
        "id": "XLmjDbS6fQB3",
        "outputId": "dd21ec27-2f15-451a-9038-74011ddf8146"
      },
      "execution_count": 7,
      "outputs": [
        {
          "output_type": "stream",
          "name": "stdout",
          "text": [
            "\n",
            "TF-IDF: \n",
            "\n",
            "- Vocabulario\n",
            " ['adiós' 'afuera' 'agarra' 'ahora' 'ahí' 'alto' 'aniquilarse' 'apagados' 'aparece' 'aplastamiento' 'aplastan' 'aquí' 'balcón' 'barriga' 'bofetadas' 'brillos' 'brotan' 'cae' 'caer' 'caerse' 'cielo' 'como' 'con' 'contra' 'cortázar'\n",
            " 'crece' 'creciendo' 'cuajados' 'cuelga' 'cómo' 'de' 'del' 'deshecha' 'desprendiéndose' 'detrás' 'dientes' 'duros' 'el' 'emborracha' 'en' 'enseguida' 'entregan' 'es' 'esa' 'está' 'gotas' 'gotaza' 'goterones' 'gotita' 'gris'\n",
            " 'grito' 'hacen' 'hastío' 'hay' 'inocentes' 'julio' 'la' 'las' 'le' 'llueve' 'lo' 'los' 'majestuosa' 'marco' 'me' 'mientras' 'mil' 'mirá' 'mismo' 'mármol' 'nada' 'no' 'otro' 'parece' 'pero' 'piernitas' 'plaf' 'prendida' 'pronto'\n",
            " 'que' 'queda' 'quiere' 'qué' 'redondas' 'salto' 'se' 'suicidan' 'sus' 'sé' 'tambalea' 'temblequeando' 'terrible' 'tiempo' 'tiran' 'todas' 'todavía' 'todo' 'tristes' 'triza' 'tupido' 'una' 'uno' 'uñas' 'va' 've' 'ventana' 'ver'\n",
            " 'vibración' 'viscosidad' 'ya' 'yo' 'zup'] \n",
            "\n",
            "- Matriz\n",
            " [[0.         0.         0.         0.         0.         0.         0.         0.         0.         0.4711101  0.         0.         0.         0.         0.         0.         0.         0.         0.         0.\n",
            "  0.         0.         0.         0.         0.4711101  0.         0.         0.         0.         0.         0.35829137 0.         0.         0.         0.         0.         0.         0.         0.         0.\n",
            "  0.         0.         0.         0.         0.         0.35829137 0.         0.         0.         0.         0.         0.         0.         0.         0.         0.4711101  0.         0.27824521 0.         0.\n",
            "  0.         0.         0.         0.         0.         0.         0.         0.         0.         0.         0.         0.         0.         0.         0.         0.         0.         0.         0.         0.\n",
            "  0.         0.         0.         0.         0.         0.         0.         0.         0.         0.         0.         0.         0.         0.         0.         0.         0.         0.         0.         0.\n",
            "  0.         0.         0.         0.         0.         0.         0.         0.         0.         0.         0.         0.        ]\n",
            " [0.         0.07093148 0.07093148 0.07093148 0.05394522 0.07093148 0.         0.07093148 0.07093148 0.         0.07093148 0.07093148 0.07093148 0.07093148 0.07093148 0.07093148 0.         0.14186297 0.05394522 0.07093148\n",
            "  0.07093148 0.07093148 0.21279445 0.14186297 0.         0.07093148 0.07093148 0.07093148 0.07093148 0.07093148 0.16183566 0.05394522 0.07093148 0.         0.07093148 0.07093148 0.07093148 0.21578089 0.         0.16183566\n",
            "  0.         0.         0.14186297 0.         0.07093148 0.         0.07093148 0.07093148 0.07093148 0.07093148 0.         0.07093148 0.07093148 0.         0.         0.         0.21578089 0.04189328 0.07093148 0.14186297\n",
            "  0.07093148 0.07093148 0.07093148 0.05394522 0.         0.07093148 0.07093148 0.07093148 0.         0.07093148 0.05394522 0.28372593 0.07093148 0.         0.         0.         0.14186297 0.07093148 0.07093148 0.21578089\n",
            "  0.07093148 0.07093148 0.07093148 0.         0.         0.37761655 0.         0.         0.07093148 0.07093148 0.07093148 0.07093148 0.07093148 0.         0.07093148 0.07093148 0.07093148 0.         0.07093148 0.07093148\n",
            "  0.21279445 0.07093148 0.07093148 0.21279445 0.07093148 0.07093148 0.         0.         0.07093148 0.14186297 0.07093148 0.07093148]\n",
            " [0.28018546 0.         0.         0.         0.10654413 0.         0.14009273 0.         0.         0.         0.         0.         0.         0.         0.         0.         0.14009273 0.         0.10654413 0.\n",
            "  0.         0.         0.         0.         0.         0.         0.         0.         0.         0.         0.         0.21308826 0.         0.14009273 0.         0.         0.         0.21308826 0.14009273 0.21308826\n",
            "  0.14009273 0.14009273 0.         0.14009273 0.         0.31963239 0.         0.         0.         0.         0.14009273 0.         0.         0.14009273 0.14009273 0.         0.10654413 0.16548205 0.         0.\n",
            "  0.         0.         0.         0.10654413 0.14009273 0.         0.         0.         0.14009273 0.         0.10654413 0.         0.         0.14009273 0.14009273 0.14009273 0.         0.         0.         0.21308826\n",
            "  0.         0.         0.         0.14009273 0.14009273 0.31963239 0.14009273 0.14009273 0.         0.         0.         0.         0.         0.14009273 0.         0.         0.         0.14009273 0.         0.\n",
            "  0.         0.         0.         0.         0.         0.         0.14009273 0.14009273 0.         0.         0.         0.        ]]\n"
          ]
        }
      ]
    }
  ],
  "metadata": {
    "colab": {
      "provenance": [],
      "include_colab_link": true
    },
    "kernelspec": {
      "display_name": "Python 3",
      "name": "python3"
    },
    "language_info": {
      "codemirror_mode": {
        "name": "ipython",
        "version": 3
      },
      "file_extension": ".py",
      "mimetype": "text/x-python",
      "name": "python",
      "nbconvert_exporter": "python",
      "pygments_lexer": "ipython3",
      "version": "3.12.2"
    }
  },
  "nbformat": 4,
  "nbformat_minor": 0
}