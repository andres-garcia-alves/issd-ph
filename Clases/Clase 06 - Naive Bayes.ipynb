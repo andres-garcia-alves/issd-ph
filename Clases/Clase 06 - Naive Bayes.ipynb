{
  "nbformat": 4,
  "nbformat_minor": 0,
  "metadata": {
    "colab": {
      "provenance": [],
      "collapsed_sections": [
        "kw4gWHA89fmb"
      ]
    },
    "kernelspec": {
      "name": "python3",
      "display_name": "Python 3"
    },
    "language_info": {
      "name": "python"
    }
  },
  "cells": [
    {
      "cell_type": "markdown",
      "source": [
        "# Introducción a la probabilidad bayesiana y a Naive Bayes"
      ],
      "metadata": {
        "id": "kw4gWHA89fmb"
      }
    },
    {
      "cell_type": "markdown",
      "source": [
        "## Probabilidad frecuentista\n",
        "\n",
        "En el enfoque frecuentista, la probabilidad se asocia con la frecuencia de un evento a lo largo del tiempo. No se actualiza en función de nueva información, sino que se calcula únicamente en base a los resultados observados.\n",
        "\n",
        "Comenzamos con un experimento simple: lanzar una moneda. La probabilidad frecuentista se basa en la proporción de veces que un evento ocurre después de repetir el experimento muchas veces."
      ],
      "metadata": {
        "id": "00HrszUx9fzV"
      }
    },
    {
      "cell_type": "code",
      "source": [
        "import random\n",
        "\n",
        "# Simulación de lanzamiento de moneda\n",
        "def lanzar_moneda(n_lanzamientos):\n",
        "    caras = 0\n",
        "    for _ in range(n_lanzamientos):\n",
        "        if random.choice(['cara', 'cruz']) == 'cara':\n",
        "            caras += 1\n",
        "    return caras / n_lanzamientos\n",
        "\n",
        "# Lanzamos la moneda 1000 veces\n",
        "probabilidad_frecuentista = lanzar_moneda(1000)\n",
        "print(f\"Probabilidad frecuentista de obtener cara: { probabilidad_frecuentista }\")"
      ],
      "metadata": {
        "colab": {
          "base_uri": "https://localhost:8080/"
        },
        "id": "diuSj3k79f_A",
        "outputId": "7f30e379-6dba-4d9d-efea-9b4e1a986595"
      },
      "execution_count": 27,
      "outputs": [
        {
          "output_type": "stream",
          "name": "stdout",
          "text": [
            "Probabilidad frecuentista de obtener cara: 0.496\n"
          ]
        }
      ]
    },
    {
      "cell_type": "markdown",
      "source": [
        "## Probabilidad Bayesiana"
      ],
      "metadata": {
        "id": "6ndTTTTF9phj"
      }
    },
    {
      "cell_type": "markdown",
      "source": [
        "Este enfoque permite actualizar la probabilidad de un evento a medida que se obtiene nueva información (concepto de \"creencia\").\n",
        "\n",
        "Los clasificadores bayesianos ingenuos se basan en métodos de clasificación bayesianos.\n",
        "\n",
        "Estos se basan en el teorema de Bayes, que es una ecuación que describe la relación entre las probabilidades condicionales de las cantidades estadísticas.\n"
      ],
      "metadata": {
        "id": "2lkSL1LB9yaq"
      }
    },
    {
      "cell_type": "markdown",
      "source": [
        "\n",
        "Aquí simularemos un ejemplo donde actualizamos la probabilidad de que una persona tenga una enfermedad dada cierta información adicional (e.g., resultados de una prueba médica).\n",
        "\n",
        "Suposiciones iniciales:\n",
        "\n",
        "* 1% de la población tiene la enfermedad (probabilidad previa).\n",
        "* La prueba tiene una precisión del 90% (sensibilidad y especificidad).\n",
        "\n",
        "Usamos el teorema de Bayes para actualizar nuestras creencias."
      ],
      "metadata": {
        "id": "qJ8_bc5RD3Xs"
      }
    },
    {
      "cell_type": "code",
      "source": [
        "# Probabilidades conocidas\n",
        "p_enfermedad = 0.01   # 1% de la población tiene la enfermedad\n",
        "p_no_enfermedad = 1 - p_enfermedad\n",
        "\n",
        "p_prueba_positivo_dado_enfermedad = 0.90  # Sensibilidad: 90%\n",
        "p_prueba_positivo_dado_no_enfermedad = 1 - p_prueba_positivo_dado_enfermedad  # Falsos positivos: 10%"
      ],
      "metadata": {
        "id": "hieZTWah-gvB"
      },
      "execution_count": 30,
      "outputs": []
    },
    {
      "cell_type": "markdown",
      "source": [
        "***Teorema de Bayes***\n",
        "\n",
        " $$ P(A_i|B) = \\frac{P(B|A_i)P(A_i)}{P(B)} $$"
      ],
      "metadata": {
        "id": "KborMlMkA0gU"
      }
    },
    {
      "cell_type": "markdown",
      "source": [
        " $$ P(enfermedad|prueba\\_positiva) = \\frac{P(prueba\\_positiva|enfermedad)P(enfermedad)}{P(prueba\\_positiva)} $$"
      ],
      "metadata": {
        "id": "SW3EDnZKBNo9"
      }
    },
    {
      "cell_type": "code",
      "source": [
        "# P (Prueba positiva) = [P(Prueba positiva | Enfermedad) * P(Enfermedad)] + [P(Prueba positiva | no_Enfermedad) * P(no_Enfermedad)]\n",
        "p_prueba_positivo = (p_prueba_positivo_dado_enfermedad * p_enfermedad) + (p_prueba_positivo_dado_no_enfermedad * p_no_enfermedad)\n",
        "p_prueba_positivo"
      ],
      "metadata": {
        "id": "GUnWN-Gg9pt7",
        "colab": {
          "base_uri": "https://localhost:8080/"
        },
        "outputId": "ac215063-ada3-4a7b-dda3-5056af51d438"
      },
      "execution_count": 32,
      "outputs": [
        {
          "output_type": "execute_result",
          "data": {
            "text/plain": [
              "0.10799999999999998"
            ]
          },
          "metadata": {},
          "execution_count": 32
        }
      ]
    },
    {
      "cell_type": "code",
      "source": [
        "# Teorema de Bayes\n",
        "# P(Enfermedad | Prueba positiva) = [P(Prueba positiva | Enfermedad) * P(Enfermedad)] / P(Prueba positiva)\n",
        "p_enfermedad_dado_prueba_positivo = (p_prueba_positivo_dado_enfermedad * p_enfermedad) / p_prueba_positivo\n",
        "\n",
        "print(f\"Probabilidad de tener la enfermedad dado un resultado positivo en la prueba: {p_enfermedad_dado_prueba_positivo:.4f}\")"
      ],
      "metadata": {
        "id": "zeLzgg9PCT2c",
        "colab": {
          "base_uri": "https://localhost:8080/"
        },
        "outputId": "1b1cf3e9-157c-455e-fff0-caf25dbf5abd"
      },
      "execution_count": 34,
      "outputs": [
        {
          "output_type": "stream",
          "name": "stdout",
          "text": [
            "Probabilidad de tener la enfermedad dado un resultado positivo en la prueba: 0.0833\n"
          ]
        }
      ]
    },
    {
      "cell_type": "markdown",
      "source": [
        "\n",
        "Todo lo que necesitamos ahora es algún modelo mediante el cual podamos calcular $P( B|A)$ para cada etiqueta.  \n",
        "Este modelo se denomina *modelo generativo* porque especifica el proceso aleatorio hipotético que genera los datos.\n",
        "\n",
        "Especificar este modelo generativo para cada etiqueta es la parte principal del entrenamiento de este clasificador bayesiano.  \n",
        "La versión general de este paso de entrenamiento es una tarea muy difícil, pero podemos simplificarla mediante el uso de algunas suposiciones simplificadoras sobre la forma de este modelo.\n",
        "\n",
        "Aquí es donde entra en juego el \"ingenuo\" en \"Bayes ingenuo\": si hacemos suposiciones muy ingenuas sobre el modelo generativo para cada etiqueta, podemos encontrar una aproximación aproximada del modelo generativo para cada clase y luego proceder con la clasificación bayesiana.  \n",
        "Los diferentes tipos de clasificadores bayesianos ingenuos se basan en diferentes suposiciones ingenuas sobre los datos, y examinaremos algunas de ellas en las siguientes secciones."
      ],
      "metadata": {
        "id": "zgxz01fuAHAk"
      }
    },
    {
      "cell_type": "markdown",
      "source": [
        "# **Introducción a Naive Bayes: Simplicidad Poderosa en Aprendizaje Automático**"
      ],
      "metadata": {
        "id": "xXGyhGxLPpPf"
      }
    },
    {
      "cell_type": "markdown",
      "source": [
        "\n",
        "\n",
        "**Naive Bayes** es uno de los algoritmos de clasificación más populares en aprendizaje automático, conocido por su **eficiencia, facilidad de implementación y resultados sorprendentemente buenos** incluso en problemas complejos.  \n",
        "A pesar de su \"ingenuidad\" (naive, en inglés), que hace referencia a una suposición simplificadora sobre los datos, este método es ampliamente utilizado en aplicaciones como:  \n",
        "\n",
        "- **Filtrado de spam** (clasificar correos como spam/no spam).  \n",
        "- **Análisis de sentimientos** (determinar si un texto es positivo o negativo).  \n",
        "- **Diagnóstico médico** (predecir enfermedades basadas en síntomas).  \n",
        "\n",
        "### **¿Cómo funciona Naive Bayes?**  \n",
        "\n",
        "El algoritmo se basa en el **Teorema de Bayes**, una fórmula probabilística que relaciona las probabilidades condicionales *a priori*.\n",
        "\n",
        "La idea clave es:  \n",
        "\n",
        "> *Dadas ciertas características (ej: palabras en un correo), ¿cuál es la probabilidad de que pertenezcan a una clase (ej: spam)?*"
      ],
      "metadata": {
        "id": "W0S8UR8lQMgl"
      }
    },
    {
      "cell_type": "markdown",
      "source": [
        "\n",
        "#### **Fórmula clave del Teorema de Bayes:**  \n",
        "\n",
        "\n",
        "$$ P(y|X) = \\frac{P(X|y) \\cdot P(y)}{P(X)} $$\n",
        "- $P(y|X)$: Probabilidad de la clase \\(y\\) dado un conjunto de características $X$ (**nuestra predicción**).  \n",
        "- $P(X|y)$: Probabilidad de observar \\(X\\) si la clase es \\(y\\).  \n",
        "- $P(y)$: Probabilidad *a priori* de la clase \\(y\\) (ej: frecuencia de spam en los datos).  \n",
        "- $P(X)$: Probabilidad marginal de las características (normalmente constante).  "
      ],
      "metadata": {
        "id": "_svlp8b5RD3w"
      }
    },
    {
      "cell_type": "markdown",
      "source": [
        "\n",
        "\n",
        "#### **La \"Ingenuidad\" de Naive Bayes**  \n",
        "El algoritmo asume que **las características son independientes entre sí** dada la clase.\n",
        "\n",
        "Por ejemplo:\n",
        "- En un filtro de spam, la aparición de la palabra \"GRATIS\" es independiente de \"OFERTA\".  \n",
        "- Esto simplifica el cálculo:  \n",
        "  $$ P(X|y) = P(x_1|y) \\cdot P(x_2|y) \\cdot ... \\cdot P(x_n|y) $$\n",
        "    \n",
        "Aunque esta suposición rara vez es cierta en la realidad, Naive Bayes funciona bien en muchos casos prácticos."
      ],
      "metadata": {
        "id": "W-UzkPl9Q9AM"
      }
    },
    {
      "cell_type": "markdown",
      "source": [
        "\n",
        "---\n",
        "\n",
        "### **Tipos de Naive Bayes**\n",
        "\n",
        "Dependiendo del tipo de datos, usamos diferentes variantes:  \n",
        "\n",
        "1. **Multinomial Naive Bayes**:  \n",
        "   - Para **datos discretos** (ej: conteos de palabras en texto).  \n",
        "   - Usado en clasificación de documentos.  \n",
        "\n",
        "2. **Gaussian Naive Bayes**:  \n",
        "   - Para **características continuas** (ej: altura, temperatura).  \n",
        "   - Asume que los datos siguen una distribución normal.  \n",
        "\n",
        "3. **Bernoulli Naive Bayes**:  \n",
        "   - Para **datos binarios** (ej: \"aparece/no aparece una palabra\").  \n",
        "\n",
        "---\n",
        "\n",
        "### **Ventajas y Limitaciones**\n",
        "\n",
        "✅ **Ventajas:**  \n",
        "- **Rápido y escalable**: Ideal para conjuntos de datos grandes.  \n",
        "- **Funciona bien con pocos datos**: Útil cuando el entrenamiento es limitado.  \n",
        "- **Buen rendimiento en alta dimensionalidad**: Como en procesamiento de lenguaje natural (NLP).  \n",
        "\n",
        "❌ **Limitaciones:**  \n",
        "- **Supuesto de independencia**: Si las características están correlacionadas, el modelo puede fallar.  \n",
        "- **Sensible a datos desbalanceados**: Si una clase es muy rara, puede ser ignorada.  "
      ],
      "metadata": {
        "id": "qxH16V3DQ9W6"
      }
    },
    {
      "cell_type": "markdown",
      "source": [
        "\n",
        "---\n",
        "\n",
        "### **Ejemplo básico en código**  \n",
        "Clasificación de texto con `scikit-learn` (Python):  \n",
        "\n"
      ],
      "metadata": {
        "id": "CQsuAIajQQGp"
      }
    },
    {
      "cell_type": "code",
      "source": [
        "from sklearn.naive_bayes import MultinomialNB\n",
        "from sklearn.feature_extraction.text import CountVectorizer\n",
        "\n",
        "# Datos de ejemplo: frases y sus etiquetas (0: negativo, 1: positivo)\n",
        "textos = [\"me encanta este producto\", \"odio este servicio\", \"excelente atención\"]\n",
        "etiquetas = [1, 0, 1]\n",
        "\n",
        "# Convertir texto a vectores de conteo\n",
        "vectorizer = CountVectorizer()\n",
        "X = vectorizer.fit_transform(textos)\n",
        "\n",
        "# Entrenar el modelo\n",
        "modelo = MultinomialNB()\n",
        "modelo.fit(X, etiquetas)\n",
        "\n",
        "# Predecir una nueva frase\n",
        "frase_nueva = vectorizer.transform([\"buen servicio\"]) # \"buen producto\" (ok), \"buen servicio\" (mal)\n",
        "print(modelo.predict(frase_nueva))                    # salida: [1] (positivo)"
      ],
      "metadata": {
        "colab": {
          "base_uri": "https://localhost:8080/"
        },
        "id": "WO5I3eHlQRi3",
        "outputId": "aba49b02-f24c-45f1-b1eb-cebadcc78291"
      },
      "execution_count": 41,
      "outputs": [
        {
          "output_type": "stream",
          "name": "stdout",
          "text": [
            "[0]\n"
          ]
        }
      ]
    },
    {
      "cell_type": "markdown",
      "source": [
        "\n",
        "\n",
        "### **Conclusión**  \n",
        "Naive Bayes es un **algoritmo fundamental** en aprendizaje automático, perfecto para introducir conceptos de clasificación probabilística.  \n",
        "Su simplicidad lo hace ideal para proyectos donde la velocidad y la interpretabilidad son clave, aunque es importante entender sus limitaciones.  \n",
        "\n",
        "**¿Por qué probarlo?**  \n",
        "- Es fácil de implementar.  \n",
        "- Requiere poco poder computacional.  \n",
        "- ¡A menudo supera a modelos más complejos en problemas con datos bien comportados!  \n"
      ],
      "metadata": {
        "id": "QON7W9UxQQbZ"
      }
    },
    {
      "cell_type": "markdown",
      "source": [
        "## Recursos\n",
        "\n",
        "Este artículo puede ayudarle a expandir más el concepto y seguir un ejemplo paso a paso\n",
        "\n",
        "https://www.freecodecamp.org/espanol/news/como-funcionan-los-clasificadores-naive-bayes-con-ejemplos-de-codigo-de-python/\n",
        "\n"
      ],
      "metadata": {
        "id": "HW6g-dVzGulK"
      }
    }
  ]
}