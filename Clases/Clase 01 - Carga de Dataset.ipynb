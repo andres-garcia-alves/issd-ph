{
  "nbformat": 4,
  "nbformat_minor": 0,
  "metadata": {
    "colab": {
      "provenance": [],
      "authorship_tag": "ABX9TyNAFcmKuMmlJsvPlsaOTjZk",
      "include_colab_link": true
    },
    "kernelspec": {
      "name": "python3",
      "display_name": "Python 3"
    },
    "language_info": {
      "name": "python"
    }
  },
  "cells": [
    {
      "cell_type": "markdown",
      "metadata": {
        "id": "view-in-github",
        "colab_type": "text"
      },
      "source": [
        "<a href=\"https://colab.research.google.com/github/anadiedrichs/procesamientoDelHabla/blob/main/UNIDAD_1_carga_dataset_ejemplos.ipynb\" target=\"_parent\"><img src=\"https://colab.research.google.com/assets/colab-badge.svg\" alt=\"Open In Colab\"/></a>"
      ]
    },
    {
      "cell_type": "markdown",
      "source": [
        "# Carga de datasets\n",
        "\n",
        "Datasets nos referimos a conjuntos de datos o datos.\n",
        "\n",
        "Enlace de descarga al dataset: https://archive.ics.uci.edu/dataset/484/travel+reviews"
      ],
      "metadata": {
        "id": "r49xMkdEmXgS"
      }
    },
    {
      "cell_type": "code",
      "execution_count": 18,
      "metadata": {
        "id": "n0sOBcfumPWk"
      },
      "outputs": [],
      "source": [
        "url = \"https://archive.ics.uci.edu/static/public/484/travel+reviews.zip\""
      ]
    },
    {
      "cell_type": "code",
      "source": [
        "! wget https://archive.ics.uci.edu/static/public/484/travel+reviews.zip"
      ],
      "metadata": {
        "colab": {
          "base_uri": "https://localhost:8080/"
        },
        "id": "jbhzFxw9mWw8",
        "outputId": "c3352fff-01e6-4ef0-dc4f-1795171ac42c"
      },
      "execution_count": 19,
      "outputs": [
        {
          "output_type": "stream",
          "name": "stdout",
          "text": [
            "--2025-03-27 22:18:12--  https://archive.ics.uci.edu/static/public/484/travel+reviews.zip\n",
            "Resolving archive.ics.uci.edu (archive.ics.uci.edu)... 128.195.10.252\n",
            "Connecting to archive.ics.uci.edu (archive.ics.uci.edu)|128.195.10.252|:443... connected.\n",
            "HTTP request sent, awaiting response... 200 OK\n",
            "Length: unspecified\n",
            "Saving to: ‘travel+reviews.zip.1’\n",
            "\n",
            "travel+reviews.zip.     [ <=>                ]  56.10K  --.-KB/s    in 0.05s   \n",
            "\n",
            "2025-03-27 22:18:12 (1.02 MB/s) - ‘travel+reviews.zip.1’ saved [57449]\n",
            "\n"
          ]
        }
      ]
    },
    {
      "cell_type": "code",
      "source": [
        "! ls"
      ],
      "metadata": {
        "colab": {
          "base_uri": "https://localhost:8080/"
        },
        "id": "tBicnaLuntTm",
        "outputId": "893530c3-955d-493a-c4f4-2a84b0d1d251"
      },
      "execution_count": 20,
      "outputs": [
        {
          "output_type": "stream",
          "name": "stdout",
          "text": [
            " __MACOSX     'sentiment labelled sentences'\t  travel+reviews.zip\t tripadvisor_review.csv\n",
            " sample_data   sentiment+labelled+sentences.zip   travel+reviews.zip.1\n"
          ]
        }
      ]
    },
    {
      "cell_type": "code",
      "source": [
        "! unzip travel+reviews.zip"
      ],
      "metadata": {
        "colab": {
          "base_uri": "https://localhost:8080/"
        },
        "id": "RXzTt7V_n665",
        "outputId": "9fb3a845-2127-4ce4-a25f-8704868d9816"
      },
      "execution_count": 21,
      "outputs": [
        {
          "output_type": "stream",
          "name": "stdout",
          "text": [
            "Archive:  travel+reviews.zip\n",
            "replace tripadvisor_review.csv? [y]es, [n]o, [A]ll, [N]one, [r]ename: y\n",
            " extracting: tripadvisor_review.csv  \n"
          ]
        }
      ]
    },
    {
      "cell_type": "code",
      "source": [
        "! ls"
      ],
      "metadata": {
        "colab": {
          "base_uri": "https://localhost:8080/"
        },
        "id": "TBDlh0ASoEvj",
        "outputId": "bf5b39e6-f075-4269-9526-cc2091c9de04"
      },
      "execution_count": 22,
      "outputs": [
        {
          "output_type": "stream",
          "name": "stdout",
          "text": [
            " __MACOSX     'sentiment labelled sentences'\t  travel+reviews.zip\t tripadvisor_review.csv\n",
            " sample_data   sentiment+labelled+sentences.zip   travel+reviews.zip.1\n"
          ]
        }
      ]
    },
    {
      "cell_type": "code",
      "source": [
        "# prompt: cargar el archivo tripadvisor_review.csv\n",
        "\n",
        "import pandas as pd\n",
        "\n",
        "# Check if the file exists before attempting to read it\n",
        "import os\n",
        "if os.path.exists(\"tripadvisor_review.csv\"):\n",
        "    df = pd.read_csv(\"tripadvisor_review.csv\")\n",
        "    print(\"File 'tripadvisor_review.csv' loaded successfully.\")\n",
        "else:\n",
        "    print(\"Error: File 'tripadvisor_review.csv' not found. Please make sure to unzip the downloaded archive.\")\n"
      ],
      "metadata": {
        "colab": {
          "base_uri": "https://localhost:8080/"
        },
        "id": "vaxR30BdoPwV",
        "outputId": "1d7839b5-271d-4908-d268-53f28a13f2c2"
      },
      "execution_count": 23,
      "outputs": [
        {
          "output_type": "stream",
          "name": "stdout",
          "text": [
            "File 'tripadvisor_review.csv' loaded successfully.\n"
          ]
        }
      ]
    },
    {
      "cell_type": "code",
      "source": [
        "df"
      ],
      "metadata": {
        "colab": {
          "base_uri": "https://localhost:8080/",
          "height": 423
        },
        "id": "BnP0xRvuonvq",
        "outputId": "537cc2eb-8b92-46ee-fbdf-92ad64a459f4"
      },
      "execution_count": 24,
      "outputs": [
        {
          "output_type": "execute_result",
          "data": {
            "text/plain": [
              "      User ID  Category 1  Category 2  Category 3  Category 4  Category 5  \\\n",
              "0      User 1        0.93        1.80        2.29        0.62        0.80   \n",
              "1      User 2        1.02        2.20        2.66        0.64        1.42   \n",
              "2      User 3        1.22        0.80        0.54        0.53        0.24   \n",
              "3      User 4        0.45        1.80        0.29        0.57        0.46   \n",
              "4      User 5        0.51        1.20        1.18        0.57        1.54   \n",
              "..        ...         ...         ...         ...         ...         ...   \n",
              "975  User 976        0.74        1.12        0.30        0.53        0.88   \n",
              "976  User 977        1.25        0.92        1.12        0.38        0.78   \n",
              "977  User 978        0.61        1.32        0.67        0.43        1.30   \n",
              "978  User 979        0.93        0.20        0.13        0.43        0.30   \n",
              "979  User 980        0.93        0.56        1.13        0.51        1.34   \n",
              "\n",
              "     Category 6  Category 7  Category 8  Category 9  Category 10  \n",
              "0          2.42        3.19        2.79        1.82         2.42  \n",
              "1          3.18        3.21        2.63        1.86         2.32  \n",
              "2          1.54        3.18        2.80        1.31         2.50  \n",
              "3          1.52        3.18        2.96        1.57         2.86  \n",
              "4          2.02        3.18        2.78        1.18         2.54  \n",
              "..          ...         ...         ...         ...          ...  \n",
              "975        1.38        3.17        2.78        0.99         3.20  \n",
              "976        1.68        3.18        2.79        1.34         2.80  \n",
              "977        1.78        3.17        2.81        1.34         3.02  \n",
              "978        0.40        3.18        2.98        1.12         2.46  \n",
              "979        2.36        3.18        2.87        1.34         2.40  \n",
              "\n",
              "[980 rows x 11 columns]"
            ],
            "text/html": [
              "\n",
              "  <div id=\"df-8de6da83-dfbd-4160-b48a-feb0e1fe22d6\" class=\"colab-df-container\">\n",
              "    <div>\n",
              "<style scoped>\n",
              "    .dataframe tbody tr th:only-of-type {\n",
              "        vertical-align: middle;\n",
              "    }\n",
              "\n",
              "    .dataframe tbody tr th {\n",
              "        vertical-align: top;\n",
              "    }\n",
              "\n",
              "    .dataframe thead th {\n",
              "        text-align: right;\n",
              "    }\n",
              "</style>\n",
              "<table border=\"1\" class=\"dataframe\">\n",
              "  <thead>\n",
              "    <tr style=\"text-align: right;\">\n",
              "      <th></th>\n",
              "      <th>User ID</th>\n",
              "      <th>Category 1</th>\n",
              "      <th>Category 2</th>\n",
              "      <th>Category 3</th>\n",
              "      <th>Category 4</th>\n",
              "      <th>Category 5</th>\n",
              "      <th>Category 6</th>\n",
              "      <th>Category 7</th>\n",
              "      <th>Category 8</th>\n",
              "      <th>Category 9</th>\n",
              "      <th>Category 10</th>\n",
              "    </tr>\n",
              "  </thead>\n",
              "  <tbody>\n",
              "    <tr>\n",
              "      <th>0</th>\n",
              "      <td>User 1</td>\n",
              "      <td>0.93</td>\n",
              "      <td>1.80</td>\n",
              "      <td>2.29</td>\n",
              "      <td>0.62</td>\n",
              "      <td>0.80</td>\n",
              "      <td>2.42</td>\n",
              "      <td>3.19</td>\n",
              "      <td>2.79</td>\n",
              "      <td>1.82</td>\n",
              "      <td>2.42</td>\n",
              "    </tr>\n",
              "    <tr>\n",
              "      <th>1</th>\n",
              "      <td>User 2</td>\n",
              "      <td>1.02</td>\n",
              "      <td>2.20</td>\n",
              "      <td>2.66</td>\n",
              "      <td>0.64</td>\n",
              "      <td>1.42</td>\n",
              "      <td>3.18</td>\n",
              "      <td>3.21</td>\n",
              "      <td>2.63</td>\n",
              "      <td>1.86</td>\n",
              "      <td>2.32</td>\n",
              "    </tr>\n",
              "    <tr>\n",
              "      <th>2</th>\n",
              "      <td>User 3</td>\n",
              "      <td>1.22</td>\n",
              "      <td>0.80</td>\n",
              "      <td>0.54</td>\n",
              "      <td>0.53</td>\n",
              "      <td>0.24</td>\n",
              "      <td>1.54</td>\n",
              "      <td>3.18</td>\n",
              "      <td>2.80</td>\n",
              "      <td>1.31</td>\n",
              "      <td>2.50</td>\n",
              "    </tr>\n",
              "    <tr>\n",
              "      <th>3</th>\n",
              "      <td>User 4</td>\n",
              "      <td>0.45</td>\n",
              "      <td>1.80</td>\n",
              "      <td>0.29</td>\n",
              "      <td>0.57</td>\n",
              "      <td>0.46</td>\n",
              "      <td>1.52</td>\n",
              "      <td>3.18</td>\n",
              "      <td>2.96</td>\n",
              "      <td>1.57</td>\n",
              "      <td>2.86</td>\n",
              "    </tr>\n",
              "    <tr>\n",
              "      <th>4</th>\n",
              "      <td>User 5</td>\n",
              "      <td>0.51</td>\n",
              "      <td>1.20</td>\n",
              "      <td>1.18</td>\n",
              "      <td>0.57</td>\n",
              "      <td>1.54</td>\n",
              "      <td>2.02</td>\n",
              "      <td>3.18</td>\n",
              "      <td>2.78</td>\n",
              "      <td>1.18</td>\n",
              "      <td>2.54</td>\n",
              "    </tr>\n",
              "    <tr>\n",
              "      <th>...</th>\n",
              "      <td>...</td>\n",
              "      <td>...</td>\n",
              "      <td>...</td>\n",
              "      <td>...</td>\n",
              "      <td>...</td>\n",
              "      <td>...</td>\n",
              "      <td>...</td>\n",
              "      <td>...</td>\n",
              "      <td>...</td>\n",
              "      <td>...</td>\n",
              "      <td>...</td>\n",
              "    </tr>\n",
              "    <tr>\n",
              "      <th>975</th>\n",
              "      <td>User 976</td>\n",
              "      <td>0.74</td>\n",
              "      <td>1.12</td>\n",
              "      <td>0.30</td>\n",
              "      <td>0.53</td>\n",
              "      <td>0.88</td>\n",
              "      <td>1.38</td>\n",
              "      <td>3.17</td>\n",
              "      <td>2.78</td>\n",
              "      <td>0.99</td>\n",
              "      <td>3.20</td>\n",
              "    </tr>\n",
              "    <tr>\n",
              "      <th>976</th>\n",
              "      <td>User 977</td>\n",
              "      <td>1.25</td>\n",
              "      <td>0.92</td>\n",
              "      <td>1.12</td>\n",
              "      <td>0.38</td>\n",
              "      <td>0.78</td>\n",
              "      <td>1.68</td>\n",
              "      <td>3.18</td>\n",
              "      <td>2.79</td>\n",
              "      <td>1.34</td>\n",
              "      <td>2.80</td>\n",
              "    </tr>\n",
              "    <tr>\n",
              "      <th>977</th>\n",
              "      <td>User 978</td>\n",
              "      <td>0.61</td>\n",
              "      <td>1.32</td>\n",
              "      <td>0.67</td>\n",
              "      <td>0.43</td>\n",
              "      <td>1.30</td>\n",
              "      <td>1.78</td>\n",
              "      <td>3.17</td>\n",
              "      <td>2.81</td>\n",
              "      <td>1.34</td>\n",
              "      <td>3.02</td>\n",
              "    </tr>\n",
              "    <tr>\n",
              "      <th>978</th>\n",
              "      <td>User 979</td>\n",
              "      <td>0.93</td>\n",
              "      <td>0.20</td>\n",
              "      <td>0.13</td>\n",
              "      <td>0.43</td>\n",
              "      <td>0.30</td>\n",
              "      <td>0.40</td>\n",
              "      <td>3.18</td>\n",
              "      <td>2.98</td>\n",
              "      <td>1.12</td>\n",
              "      <td>2.46</td>\n",
              "    </tr>\n",
              "    <tr>\n",
              "      <th>979</th>\n",
              "      <td>User 980</td>\n",
              "      <td>0.93</td>\n",
              "      <td>0.56</td>\n",
              "      <td>1.13</td>\n",
              "      <td>0.51</td>\n",
              "      <td>1.34</td>\n",
              "      <td>2.36</td>\n",
              "      <td>3.18</td>\n",
              "      <td>2.87</td>\n",
              "      <td>1.34</td>\n",
              "      <td>2.40</td>\n",
              "    </tr>\n",
              "  </tbody>\n",
              "</table>\n",
              "<p>980 rows × 11 columns</p>\n",
              "</div>\n",
              "    <div class=\"colab-df-buttons\">\n",
              "\n",
              "  <div class=\"colab-df-container\">\n",
              "    <button class=\"colab-df-convert\" onclick=\"convertToInteractive('df-8de6da83-dfbd-4160-b48a-feb0e1fe22d6')\"\n",
              "            title=\"Convert this dataframe to an interactive table.\"\n",
              "            style=\"display:none;\">\n",
              "\n",
              "  <svg xmlns=\"http://www.w3.org/2000/svg\" height=\"24px\" viewBox=\"0 -960 960 960\">\n",
              "    <path d=\"M120-120v-720h720v720H120Zm60-500h600v-160H180v160Zm220 220h160v-160H400v160Zm0 220h160v-160H400v160ZM180-400h160v-160H180v160Zm440 0h160v-160H620v160ZM180-180h160v-160H180v160Zm440 0h160v-160H620v160Z\"/>\n",
              "  </svg>\n",
              "    </button>\n",
              "\n",
              "  <style>\n",
              "    .colab-df-container {\n",
              "      display:flex;\n",
              "      gap: 12px;\n",
              "    }\n",
              "\n",
              "    .colab-df-convert {\n",
              "      background-color: #E8F0FE;\n",
              "      border: none;\n",
              "      border-radius: 50%;\n",
              "      cursor: pointer;\n",
              "      display: none;\n",
              "      fill: #1967D2;\n",
              "      height: 32px;\n",
              "      padding: 0 0 0 0;\n",
              "      width: 32px;\n",
              "    }\n",
              "\n",
              "    .colab-df-convert:hover {\n",
              "      background-color: #E2EBFA;\n",
              "      box-shadow: 0px 1px 2px rgba(60, 64, 67, 0.3), 0px 1px 3px 1px rgba(60, 64, 67, 0.15);\n",
              "      fill: #174EA6;\n",
              "    }\n",
              "\n",
              "    .colab-df-buttons div {\n",
              "      margin-bottom: 4px;\n",
              "    }\n",
              "\n",
              "    [theme=dark] .colab-df-convert {\n",
              "      background-color: #3B4455;\n",
              "      fill: #D2E3FC;\n",
              "    }\n",
              "\n",
              "    [theme=dark] .colab-df-convert:hover {\n",
              "      background-color: #434B5C;\n",
              "      box-shadow: 0px 1px 3px 1px rgba(0, 0, 0, 0.15);\n",
              "      filter: drop-shadow(0px 1px 2px rgba(0, 0, 0, 0.3));\n",
              "      fill: #FFFFFF;\n",
              "    }\n",
              "  </style>\n",
              "\n",
              "    <script>\n",
              "      const buttonEl =\n",
              "        document.querySelector('#df-8de6da83-dfbd-4160-b48a-feb0e1fe22d6 button.colab-df-convert');\n",
              "      buttonEl.style.display =\n",
              "        google.colab.kernel.accessAllowed ? 'block' : 'none';\n",
              "\n",
              "      async function convertToInteractive(key) {\n",
              "        const element = document.querySelector('#df-8de6da83-dfbd-4160-b48a-feb0e1fe22d6');\n",
              "        const dataTable =\n",
              "          await google.colab.kernel.invokeFunction('convertToInteractive',\n",
              "                                                    [key], {});\n",
              "        if (!dataTable) return;\n",
              "\n",
              "        const docLinkHtml = 'Like what you see? Visit the ' +\n",
              "          '<a target=\"_blank\" href=https://colab.research.google.com/notebooks/data_table.ipynb>data table notebook</a>'\n",
              "          + ' to learn more about interactive tables.';\n",
              "        element.innerHTML = '';\n",
              "        dataTable['output_type'] = 'display_data';\n",
              "        await google.colab.output.renderOutput(dataTable, element);\n",
              "        const docLink = document.createElement('div');\n",
              "        docLink.innerHTML = docLinkHtml;\n",
              "        element.appendChild(docLink);\n",
              "      }\n",
              "    </script>\n",
              "  </div>\n",
              "\n",
              "\n",
              "<div id=\"df-380a441d-5ef0-480d-8e9b-8fcff5014b69\">\n",
              "  <button class=\"colab-df-quickchart\" onclick=\"quickchart('df-380a441d-5ef0-480d-8e9b-8fcff5014b69')\"\n",
              "            title=\"Suggest charts\"\n",
              "            style=\"display:none;\">\n",
              "\n",
              "<svg xmlns=\"http://www.w3.org/2000/svg\" height=\"24px\"viewBox=\"0 0 24 24\"\n",
              "     width=\"24px\">\n",
              "    <g>\n",
              "        <path d=\"M19 3H5c-1.1 0-2 .9-2 2v14c0 1.1.9 2 2 2h14c1.1 0 2-.9 2-2V5c0-1.1-.9-2-2-2zM9 17H7v-7h2v7zm4 0h-2V7h2v10zm4 0h-2v-4h2v4z\"/>\n",
              "    </g>\n",
              "</svg>\n",
              "  </button>\n",
              "\n",
              "<style>\n",
              "  .colab-df-quickchart {\n",
              "      --bg-color: #E8F0FE;\n",
              "      --fill-color: #1967D2;\n",
              "      --hover-bg-color: #E2EBFA;\n",
              "      --hover-fill-color: #174EA6;\n",
              "      --disabled-fill-color: #AAA;\n",
              "      --disabled-bg-color: #DDD;\n",
              "  }\n",
              "\n",
              "  [theme=dark] .colab-df-quickchart {\n",
              "      --bg-color: #3B4455;\n",
              "      --fill-color: #D2E3FC;\n",
              "      --hover-bg-color: #434B5C;\n",
              "      --hover-fill-color: #FFFFFF;\n",
              "      --disabled-bg-color: #3B4455;\n",
              "      --disabled-fill-color: #666;\n",
              "  }\n",
              "\n",
              "  .colab-df-quickchart {\n",
              "    background-color: var(--bg-color);\n",
              "    border: none;\n",
              "    border-radius: 50%;\n",
              "    cursor: pointer;\n",
              "    display: none;\n",
              "    fill: var(--fill-color);\n",
              "    height: 32px;\n",
              "    padding: 0;\n",
              "    width: 32px;\n",
              "  }\n",
              "\n",
              "  .colab-df-quickchart:hover {\n",
              "    background-color: var(--hover-bg-color);\n",
              "    box-shadow: 0 1px 2px rgba(60, 64, 67, 0.3), 0 1px 3px 1px rgba(60, 64, 67, 0.15);\n",
              "    fill: var(--button-hover-fill-color);\n",
              "  }\n",
              "\n",
              "  .colab-df-quickchart-complete:disabled,\n",
              "  .colab-df-quickchart-complete:disabled:hover {\n",
              "    background-color: var(--disabled-bg-color);\n",
              "    fill: var(--disabled-fill-color);\n",
              "    box-shadow: none;\n",
              "  }\n",
              "\n",
              "  .colab-df-spinner {\n",
              "    border: 2px solid var(--fill-color);\n",
              "    border-color: transparent;\n",
              "    border-bottom-color: var(--fill-color);\n",
              "    animation:\n",
              "      spin 1s steps(1) infinite;\n",
              "  }\n",
              "\n",
              "  @keyframes spin {\n",
              "    0% {\n",
              "      border-color: transparent;\n",
              "      border-bottom-color: var(--fill-color);\n",
              "      border-left-color: var(--fill-color);\n",
              "    }\n",
              "    20% {\n",
              "      border-color: transparent;\n",
              "      border-left-color: var(--fill-color);\n",
              "      border-top-color: var(--fill-color);\n",
              "    }\n",
              "    30% {\n",
              "      border-color: transparent;\n",
              "      border-left-color: var(--fill-color);\n",
              "      border-top-color: var(--fill-color);\n",
              "      border-right-color: var(--fill-color);\n",
              "    }\n",
              "    40% {\n",
              "      border-color: transparent;\n",
              "      border-right-color: var(--fill-color);\n",
              "      border-top-color: var(--fill-color);\n",
              "    }\n",
              "    60% {\n",
              "      border-color: transparent;\n",
              "      border-right-color: var(--fill-color);\n",
              "    }\n",
              "    80% {\n",
              "      border-color: transparent;\n",
              "      border-right-color: var(--fill-color);\n",
              "      border-bottom-color: var(--fill-color);\n",
              "    }\n",
              "    90% {\n",
              "      border-color: transparent;\n",
              "      border-bottom-color: var(--fill-color);\n",
              "    }\n",
              "  }\n",
              "</style>\n",
              "\n",
              "  <script>\n",
              "    async function quickchart(key) {\n",
              "      const quickchartButtonEl =\n",
              "        document.querySelector('#' + key + ' button');\n",
              "      quickchartButtonEl.disabled = true;  // To prevent multiple clicks.\n",
              "      quickchartButtonEl.classList.add('colab-df-spinner');\n",
              "      try {\n",
              "        const charts = await google.colab.kernel.invokeFunction(\n",
              "            'suggestCharts', [key], {});\n",
              "      } catch (error) {\n",
              "        console.error('Error during call to suggestCharts:', error);\n",
              "      }\n",
              "      quickchartButtonEl.classList.remove('colab-df-spinner');\n",
              "      quickchartButtonEl.classList.add('colab-df-quickchart-complete');\n",
              "    }\n",
              "    (() => {\n",
              "      let quickchartButtonEl =\n",
              "        document.querySelector('#df-380a441d-5ef0-480d-8e9b-8fcff5014b69 button');\n",
              "      quickchartButtonEl.style.display =\n",
              "        google.colab.kernel.accessAllowed ? 'block' : 'none';\n",
              "    })();\n",
              "  </script>\n",
              "</div>\n",
              "\n",
              "  <div id=\"id_7576153b-1684-44d5-a865-cc117e647a8f\">\n",
              "    <style>\n",
              "      .colab-df-generate {\n",
              "        background-color: #E8F0FE;\n",
              "        border: none;\n",
              "        border-radius: 50%;\n",
              "        cursor: pointer;\n",
              "        display: none;\n",
              "        fill: #1967D2;\n",
              "        height: 32px;\n",
              "        padding: 0 0 0 0;\n",
              "        width: 32px;\n",
              "      }\n",
              "\n",
              "      .colab-df-generate:hover {\n",
              "        background-color: #E2EBFA;\n",
              "        box-shadow: 0px 1px 2px rgba(60, 64, 67, 0.3), 0px 1px 3px 1px rgba(60, 64, 67, 0.15);\n",
              "        fill: #174EA6;\n",
              "      }\n",
              "\n",
              "      [theme=dark] .colab-df-generate {\n",
              "        background-color: #3B4455;\n",
              "        fill: #D2E3FC;\n",
              "      }\n",
              "\n",
              "      [theme=dark] .colab-df-generate:hover {\n",
              "        background-color: #434B5C;\n",
              "        box-shadow: 0px 1px 3px 1px rgba(0, 0, 0, 0.15);\n",
              "        filter: drop-shadow(0px 1px 2px rgba(0, 0, 0, 0.3));\n",
              "        fill: #FFFFFF;\n",
              "      }\n",
              "    </style>\n",
              "    <button class=\"colab-df-generate\" onclick=\"generateWithVariable('df')\"\n",
              "            title=\"Generate code using this dataframe.\"\n",
              "            style=\"display:none;\">\n",
              "\n",
              "  <svg xmlns=\"http://www.w3.org/2000/svg\" height=\"24px\"viewBox=\"0 0 24 24\"\n",
              "       width=\"24px\">\n",
              "    <path d=\"M7,19H8.4L18.45,9,17,7.55,7,17.6ZM5,21V16.75L18.45,3.32a2,2,0,0,1,2.83,0l1.4,1.43a1.91,1.91,0,0,1,.58,1.4,1.91,1.91,0,0,1-.58,1.4L9.25,21ZM18.45,9,17,7.55Zm-12,3A5.31,5.31,0,0,0,4.9,8.1,5.31,5.31,0,0,0,1,6.5,5.31,5.31,0,0,0,4.9,4.9,5.31,5.31,0,0,0,6.5,1,5.31,5.31,0,0,0,8.1,4.9,5.31,5.31,0,0,0,12,6.5,5.46,5.46,0,0,0,6.5,12Z\"/>\n",
              "  </svg>\n",
              "    </button>\n",
              "    <script>\n",
              "      (() => {\n",
              "      const buttonEl =\n",
              "        document.querySelector('#id_7576153b-1684-44d5-a865-cc117e647a8f button.colab-df-generate');\n",
              "      buttonEl.style.display =\n",
              "        google.colab.kernel.accessAllowed ? 'block' : 'none';\n",
              "\n",
              "      buttonEl.onclick = () => {\n",
              "        google.colab.notebook.generateWithVariable('df');\n",
              "      }\n",
              "      })();\n",
              "    </script>\n",
              "  </div>\n",
              "\n",
              "    </div>\n",
              "  </div>\n"
            ],
            "application/vnd.google.colaboratory.intrinsic+json": {
              "type": "dataframe",
              "variable_name": "df",
              "summary": "{\n  \"name\": \"df\",\n  \"rows\": 980,\n  \"fields\": [\n    {\n      \"column\": \"User ID\",\n      \"properties\": {\n        \"dtype\": \"string\",\n        \"num_unique_values\": 980,\n        \"samples\": [\n          \"User 789\",\n          \"User 441\",\n          \"User 140\"\n        ],\n        \"semantic_type\": \"\",\n        \"description\": \"\"\n      }\n    },\n    {\n      \"column\": \"Category 1\",\n      \"properties\": {\n        \"dtype\": \"number\",\n        \"std\": 0.3269122312002725,\n        \"min\": 0.34,\n        \"max\": 3.22,\n        \"num_unique_values\": 84,\n        \"samples\": [\n          0.94,\n          0.93,\n          1.97\n        ],\n        \"semantic_type\": \"\",\n        \"description\": \"\"\n      }\n    },\n    {\n      \"column\": \"Category 2\",\n      \"properties\": {\n        \"dtype\": \"number\",\n        \"std\": 0.47828015075667196,\n        \"min\": 0.0,\n        \"max\": 3.64,\n        \"num_unique_values\": 73,\n        \"samples\": [\n          1.28,\n          2.64,\n          2.84\n        ],\n        \"semantic_type\": \"\",\n        \"description\": \"\"\n      }\n    },\n    {\n      \"column\": \"Category 3\",\n      \"properties\": {\n        \"dtype\": \"number\",\n        \"std\": 0.788606876123795,\n        \"min\": 0.13,\n        \"max\": 3.62,\n        \"num_unique_values\": 195,\n        \"samples\": [\n          1.9,\n          1.12,\n          1.58\n        ],\n        \"semantic_type\": \"\",\n        \"description\": \"\"\n      }\n    },\n    {\n      \"column\": \"Category 4\",\n      \"properties\": {\n        \"dtype\": \"number\",\n        \"std\": 0.27973132995086125,\n        \"min\": 0.15,\n        \"max\": 3.44,\n        \"num_unique_values\": 91,\n        \"samples\": [\n          0.69,\n          0.43,\n          2.91\n        ],\n        \"semantic_type\": \"\",\n        \"description\": \"\"\n      }\n    },\n    {\n      \"column\": \"Category 5\",\n      \"properties\": {\n        \"dtype\": \"number\",\n        \"std\": 0.4374299664015203,\n        \"min\": 0.06,\n        \"max\": 3.3,\n        \"num_unique_values\": 87,\n        \"samples\": [\n          2.06,\n          0.8,\n          0.72\n        ],\n        \"semantic_type\": \"\",\n        \"description\": \"\"\n      }\n    },\n    {\n      \"column\": \"Category 6\",\n      \"properties\": {\n        \"dtype\": \"number\",\n        \"std\": 0.5395380403953226,\n        \"min\": 0.14,\n        \"max\": 3.76,\n        \"num_unique_values\": 135,\n        \"samples\": [\n          1.34,\n          1.84,\n          2.88\n        ],\n        \"semantic_type\": \"\",\n        \"description\": \"\"\n      }\n    },\n    {\n      \"column\": \"Category 7\",\n      \"properties\": {\n        \"dtype\": \"number\",\n        \"std\": 0.007824448113738674,\n        \"min\": 3.16,\n        \"max\": 3.21,\n        \"num_unique_values\": 6,\n        \"samples\": [\n          3.19,\n          3.21,\n          3.16\n        ],\n        \"semantic_type\": \"\",\n        \"description\": \"\"\n      }\n    },\n    {\n      \"column\": \"Category 8\",\n      \"properties\": {\n        \"dtype\": \"number\",\n        \"std\": 0.13750548814947852,\n        \"min\": 2.42,\n        \"max\": 3.39,\n        \"num_unique_values\": 68,\n        \"samples\": [\n          3.29,\n          2.7,\n          2.78\n        ],\n        \"semantic_type\": \"\",\n        \"description\": \"\"\n      }\n    },\n    {\n      \"column\": \"Category 9\",\n      \"properties\": {\n        \"dtype\": \"number\",\n        \"std\": 0.3646294540215749,\n        \"min\": 0.74,\n        \"max\": 3.17,\n        \"num_unique_values\": 65,\n        \"samples\": [\n          0.86,\n          3.01,\n          1.82\n        ],\n        \"semantic_type\": \"\",\n        \"description\": \"\"\n      }\n    },\n    {\n      \"column\": \"Category 10\",\n      \"properties\": {\n        \"dtype\": \"number\",\n        \"std\": 0.3213798306025527,\n        \"min\": 2.14,\n        \"max\": 3.66,\n        \"num_unique_values\": 56,\n        \"samples\": [\n          2.42,\n          3.66,\n          3.34\n        ],\n        \"semantic_type\": \"\",\n        \"description\": \"\"\n      }\n    }\n  ]\n}"
            }
          },
          "metadata": {},
          "execution_count": 24
        }
      ]
    },
    {
      "cell_type": "code",
      "source": [
        "# prompt: Mediante el marco de datos df: un resumen de los principales indicadores estadísticos de df\n",
        "\n",
        "# Display descriptive statistics for numerical columns\n",
        "print(df.describe())\n"
      ],
      "metadata": {
        "colab": {
          "base_uri": "https://localhost:8080/"
        },
        "id": "9td08eRuo6Wv",
        "outputId": "38e517a9-7f10-4947-b6ae-caa44d1daac6"
      },
      "execution_count": 25,
      "outputs": [
        {
          "output_type": "stream",
          "name": "stdout",
          "text": [
            "       Category 1  Category 2  Category 3  Category 4  Category 5  Category 6  \\\n",
            "count  980.000000  980.000000  980.000000  980.000000  980.000000  980.000000   \n",
            "mean     0.893194    1.352612    1.013306    0.532500    0.939735    1.842898   \n",
            "std      0.326912    0.478280    0.788607    0.279731    0.437430    0.539538   \n",
            "min      0.340000    0.000000    0.130000    0.150000    0.060000    0.140000   \n",
            "25%      0.670000    1.080000    0.270000    0.410000    0.640000    1.460000   \n",
            "50%      0.830000    1.280000    0.820000    0.500000    0.900000    1.800000   \n",
            "75%      1.020000    1.560000    1.572500    0.580000    1.200000    2.200000   \n",
            "max      3.220000    3.640000    3.620000    3.440000    3.300000    3.760000   \n",
            "\n",
            "       Category 7  Category 8  Category 9  Category 10  \n",
            "count  980.000000  980.000000  980.000000   980.000000  \n",
            "mean     3.180939    2.835061    1.569439     2.799224  \n",
            "std      0.007824    0.137505    0.364629     0.321380  \n",
            "min      3.160000    2.420000    0.740000     2.140000  \n",
            "25%      3.180000    2.740000    1.310000     2.540000  \n",
            "50%      3.180000    2.820000    1.540000     2.780000  \n",
            "75%      3.180000    2.910000    1.760000     3.040000  \n",
            "max      3.210000    3.390000    3.170000     3.660000  \n"
          ]
        }
      ]
    },
    {
      "cell_type": "code",
      "source": [
        "df.shape"
      ],
      "metadata": {
        "colab": {
          "base_uri": "https://localhost:8080/"
        },
        "id": "tBEXVWh-pO34",
        "outputId": "b87dbcf3-1ff7-49f7-f45c-deabdcd183a0"
      },
      "execution_count": 26,
      "outputs": [
        {
          "output_type": "execute_result",
          "data": {
            "text/plain": [
              "(980, 11)"
            ]
          },
          "metadata": {},
          "execution_count": 26
        }
      ]
    },
    {
      "cell_type": "code",
      "source": [],
      "metadata": {
        "id": "WC5cSE5cpY9G"
      },
      "execution_count": 26,
      "outputs": []
    },
    {
      "cell_type": "markdown",
      "source": [
        "# Dataset de análisis de sentimiento"
      ],
      "metadata": {
        "id": "aoKeOVfapj7q"
      }
    },
    {
      "cell_type": "code",
      "source": [
        "# prompt: Descargar el .zip desde https://archive.ics.uci.edu/static/public/331/sentiment+labelled+sentences.zip, descomprimirlo, cargar en variable dataset el archivo csv\n",
        "\n",
        "import pandas as pd\n",
        "import os\n",
        "\n",
        "# Descargar el archivo zip\n",
        "!wget https://archive.ics.uci.edu/static/public/331/sentiment+labelled+sentences.zip\n",
        "\n",
        "# Descomprimir el archivo zip\n",
        "!unzip sentiment+labelled+sentences.zip\n",
        "\n",
        "# Listar los archivos para verificar\n",
        "!ls\n",
        "\n",
        "# Cargar el archivo csv en un DataFrame de pandas\n",
        "# Asumiendo que el archivo se llama 'amazon_cells_labelled.txt'\n",
        "# Ajusta el nombre del archivo si es diferente\n",
        "\n",
        "# Lista de archivos CSV potenciales en el directorio actual\n",
        "csv_files = [file for file in os.listdir('.') if file.endswith('.txt') and 'amazon_cells' in file]\n",
        "\n"
      ],
      "metadata": {
        "colab": {
          "base_uri": "https://localhost:8080/"
        },
        "id": "aH5u2G9ypnPA",
        "outputId": "3ea96696-cbab-4957-f884-3c75a9147534"
      },
      "execution_count": null,
      "outputs": [
        {
          "output_type": "stream",
          "name": "stdout",
          "text": [
            "--2025-03-27 22:19:06--  https://archive.ics.uci.edu/static/public/331/sentiment+labelled+sentences.zip\n",
            "Resolving archive.ics.uci.edu (archive.ics.uci.edu)... 128.195.10.252\n",
            "Connecting to archive.ics.uci.edu (archive.ics.uci.edu)|128.195.10.252|:443... connected.\n",
            "HTTP request sent, awaiting response... 200 OK\n",
            "Length: unspecified\n",
            "Saving to: ‘sentiment+labelled+sentences.zip.1’\n",
            "\n",
            "sentiment+labelled+     [ <=>                ]  82.21K  --.-KB/s    in 0.08s   \n",
            "\n",
            "2025-03-27 22:19:07 (1.00 MB/s) - ‘sentiment+labelled+sentences.zip.1’ saved [84188]\n",
            "\n",
            "Archive:  sentiment+labelled+sentences.zip\n",
            "replace sentiment labelled sentences/.DS_Store? [y]es, [n]o, [A]ll, [N]one, [r]ename: "
          ]
        }
      ]
    },
    {
      "cell_type": "code",
      "source": [
        "! head sentiment\\ labelled\\ sentences/amazon_cells_labelled.txt"
      ],
      "metadata": {
        "id": "Hw7pjyzoqflr"
      },
      "execution_count": null,
      "outputs": []
    },
    {
      "cell_type": "markdown",
      "source": [],
      "metadata": {
        "id": "f1pFVjwrp6_9"
      }
    },
    {
      "cell_type": "code",
      "source": [
        "\n",
        "if csv_files:\n",
        "    dataset_file = csv_files[0]  # Toma el primer archivo .txt que contenga \"amazon_cells\"\n",
        "\n",
        "    if os.path.exists(dataset_file):\n",
        "        dataset = pd.read_csv(dataset_file, sep='\\t', header=None, names=['text', 'sentiment'])\n",
        "        print(f\"Archivo '{dataset_file}' cargado exitosamente.\")\n",
        "    else:\n",
        "        print(f\"Error: Archivo '{dataset_file}' no encontrado.\")\n",
        "else:\n",
        "    print(\"Error: No se encontró un archivo CSV con nombre 'amazon_cells' en el directorio actual.\")\n",
        "\n",
        "\n",
        "# Mostrar las primeras filas del dataset (opcional)\n",
        "# print(dataset.head())\n",
        "# dataset"
      ],
      "metadata": {
        "id": "kVjKDz95p7ZJ"
      },
      "execution_count": null,
      "outputs": []
    },
    {
      "cell_type": "code",
      "source": [
        "# prompt: cargar el dataset amazon_cells_labelled.txt del directorio sentiment labelled sentences\n",
        "\n",
        "import pandas as pd\n",
        "import os\n",
        "\n",
        "# Lista de archivos CSV potenciales en el directorio actual\n",
        "csv_files = [file for file in os.listdir('.') if file.endswith('.txt') and 'amazon_cells' in file]\n",
        "\n",
        "# Buscar el archivo en el directorio correcto\n",
        "filepath = \"sentiment labelled sentences/amazon_cells_labelled.txt\"\n",
        "\n",
        "if os.path.exists(filepath):\n",
        "    dataset = pd.read_csv(filepath, sep='\\t', header=None, names=['text', 'sentiment'])\n",
        "    print(f\"Archivo '{filepath}' cargado exitosamente.\")\n",
        "else:\n",
        "    print(f\"Error: Archivo '{filepath}' no encontrado.\")\n",
        "\n",
        "# Mostrar las primeras filas del dataset (opcional)\n",
        "print(dataset.head())\n"
      ],
      "metadata": {
        "id": "1EiVg4oVrCW9"
      },
      "execution_count": null,
      "outputs": []
    },
    {
      "cell_type": "code",
      "source": [
        "dataset.describe()"
      ],
      "metadata": {
        "id": "3EtMkQbMrVQu"
      },
      "execution_count": null,
      "outputs": []
    },
    {
      "cell_type": "code",
      "source": [
        "dataset.shape"
      ],
      "metadata": {
        "id": "Pm4DALzIrjjI"
      },
      "execution_count": null,
      "outputs": []
    }
  ]
}