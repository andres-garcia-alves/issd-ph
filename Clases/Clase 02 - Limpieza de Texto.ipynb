{
  "cells": [
    {
      "cell_type": "markdown",
      "metadata": {
        "id": "view-in-github"
      },
      "source": [
        "<a href=\"https://colab.research.google.com/github/anadiedrichs/procesamientoDelHabla/blob/main/UNIDAD_1_Limpieza_de_Texto_parte_1.ipynb\" target=\"_parent\"><img src=\"https://colab.research.google.com/assets/colab-badge.svg\" alt=\"Open In Colab\"/></a>"
      ],
      "id": "view-in-github"
    },
    {
      "cell_type": "markdown",
      "id": "d721e2f3",
      "metadata": {
        "id": "d721e2f3"
      },
      "source": [
        "# 🧼 Limpieza de texto\n",
        "\n",
        "Este notebook te guiará por los pasos más comunes para limpiar texto en tareas de procesamiento del lenguaje natural (NLP)."
      ]
    },
    {
      "cell_type": "markdown",
      "id": "f41c8224",
      "metadata": {
        "id": "f41c8224"
      },
      "source": [
        "## 🧭 Objetivo\n",
        "Explorar distintas técnicas de limpieza de texto y reflexionar sobre su impacto en tareas de procesamiento del lenguaje."
      ]
    },
    {
      "cell_type": "markdown",
      "id": "441deec4",
      "metadata": {
        "id": "441deec4"
      },
      "source": [
        "## 📚 Ejemplos de texto desordenado"
      ]
    },
    {
      "cell_type": "code",
      "execution_count": 1,
      "id": "06aae95e",
      "metadata": {
        "id": "06aae95e",
        "colab": {
          "base_uri": "https://localhost:8080/"
        },
        "outputId": "4808036c-a898-40cc-d34e-ddd5cc4edefa"
      },
      "outputs": [
        {
          "output_type": "stream",
          "name": "stdout",
          "text": [
            "1. ¡Hola! ¿cómo estás??? Estoy viendo la serie 'Dark' 😱💥 en Netflix desde ayer!!!\n",
            "2. Este producto es malííísimo... no lo recomiendo 😡😡😡\n",
            "3. <html><body>Oferta del día: 50% OFF!!! <a href='promo.html'>Ver más</a></body></html>\n",
            "4. Q ondaa!!! akí re tranqui, vo' sabes 😎✌️\n"
          ]
        }
      ],
      "source": [
        "ejemplos = [\n",
        "    \"¡Hola! ¿cómo estás??? Estoy viendo la serie 'Dark' 😱💥 en Netflix desde ayer!!!\",\n",
        "    \"Este producto es malííísimo... no lo recomiendo 😡😡😡\",\n",
        "    \"<html><body>Oferta del día: 50% OFF!!! <a href='promo.html'>Ver más</a></body></html>\",\n",
        "    \"Q ondaa!!! akí re tranqui, vo' sabes 😎✌️\"\n",
        "]\n",
        "\n",
        "for i, texto in enumerate(ejemplos, 1):\n",
        "    print(f\"{i}. {texto}\")"
      ]
    },
    {
      "cell_type": "markdown",
      "id": "8eecc1cf",
      "metadata": {
        "id": "8eecc1cf"
      },
      "source": [
        "## 🔧 Limpieza paso a paso"
      ]
    },
    {
      "cell_type": "markdown",
      "id": "2e12ce21",
      "metadata": {
        "id": "2e12ce21"
      },
      "source": [
        "### a. Pasar a minúsculas"
      ]
    },
    {
      "cell_type": "code",
      "execution_count": 2,
      "id": "2f785d69",
      "metadata": {
        "id": "2f785d69",
        "colab": {
          "base_uri": "https://localhost:8080/",
          "height": 35
        },
        "outputId": "d0ed1053-7d83-41f0-bf78-16968805b830"
      },
      "outputs": [
        {
          "output_type": "execute_result",
          "data": {
            "text/plain": [
              "\"¡hola! ¿cómo estás??? estoy viendo la serie 'dark' 😱💥 en netflix desde ayer!!!\""
            ],
            "application/vnd.google.colaboratory.intrinsic+json": {
              "type": "string"
            }
          },
          "metadata": {},
          "execution_count": 2
        }
      ],
      "source": [
        "ejemplo = ejemplos[0]\n",
        "ejemplo.lower()"
      ]
    },
    {
      "cell_type": "markdown",
      "id": "7170275f",
      "metadata": {
        "id": "7170275f"
      },
      "source": [
        "### b. Eliminar signos de puntuación"
      ]
    },
    {
      "cell_type": "code",
      "execution_count": 3,
      "id": "c705cc7b",
      "metadata": {
        "id": "c705cc7b",
        "colab": {
          "base_uri": "https://localhost:8080/"
        },
        "outputId": "452ba6be-1c27-4c67-879b-78bb162eecd0"
      },
      "outputs": [
        {
          "output_type": "stream",
          "name": "stdout",
          "text": [
            "¡hola ¿cómo estás estoy viendo la serie dark 😱💥 en netflix desde ayer\n"
          ]
        }
      ],
      "source": [
        "import string\n",
        "\n",
        "ejemplo = ejemplo.lower()\n",
        "sin_puntuacion = ''.join(c for c in ejemplo if c not in string.punctuation)\n",
        "\n",
        "print(sin_puntuacion)"
      ]
    },
    {
      "cell_type": "markdown",
      "id": "70a30c08",
      "metadata": {
        "id": "70a30c08"
      },
      "source": [
        "### c. Eliminar emojis y símbolos"
      ]
    },
    {
      "cell_type": "code",
      "execution_count": 4,
      "id": "ef2dca19",
      "metadata": {
        "id": "ef2dca19",
        "colab": {
          "base_uri": "https://localhost:8080/",
          "height": 35
        },
        "outputId": "af79efd3-ea09-4714-c609-d8c4cd15be30"
      },
      "outputs": [
        {
          "output_type": "execute_result",
          "data": {
            "text/plain": [
              "'hola cómo estás estoy viendo la serie dark  en netflix desde ayer'"
            ],
            "application/vnd.google.colaboratory.intrinsic+json": {
              "type": "string"
            }
          },
          "metadata": {},
          "execution_count": 4
        }
      ],
      "source": [
        "import re\n",
        "\n",
        "# elimina cualquier caracter que no sea un número, un espacio o una coma\n",
        "def quitar_emojis(texto):\n",
        "    return re.sub(r'[^\\w\\s,]', '', texto)\n",
        "\n",
        "quitar_emojis(sin_puntuacion)"
      ]
    },
    {
      "cell_type": "markdown",
      "id": "UIyDKv3kjPLM",
      "metadata": {
        "id": "UIyDKv3kjPLM"
      },
      "source": [
        "#### Expresiones regulares\n",
        "\n",
        "* `re.sub(pattern, replacement, texto)` reemplaza todas las coincidencias del pattern por replacement en texto.\n",
        "\n",
        "* `r'[^\\w\\s,]'` es una expresión regular que indica qué queremos eliminar.\n",
        "\n",
        "\n",
        "#### Análisis de la expresión [^\\w\\s,]\n",
        "\n",
        "\n",
        "* `[...]`: indica un conjunto de caracteres.\n",
        "\n",
        "* `^`: dentro de los corchetes, niega el conjunto. Es decir, busca lo que no está en lo que viene después.\n",
        "\n",
        "* `\\w`: cualquier carácter alfa-numérico (letras y números, y también guion bajo _).\n",
        "\n",
        "* `\\s`: cualquier carácter de espacio en blanco (espacio, tabulador, salto de línea).\n",
        "\n",
        "* `,`: el carácter coma, incluido explícitamente.\n",
        "\n",
        "Entonces `r'[^\\w\\s,]'` significa:\n",
        "**Cualquier carácter que no sea una letra, número, espacio o coma**"
      ]
    },
    {
      "cell_type": "markdown",
      "id": "f6680fea",
      "metadata": {
        "id": "f6680fea"
      },
      "source": [
        "### d. Eliminar stopwords"
      ]
    },
    {
      "cell_type": "code",
      "execution_count": 8,
      "id": "22fae65d",
      "metadata": {
        "id": "22fae65d",
        "colab": {
          "base_uri": "https://localhost:8080/"
        },
        "outputId": "5be1e32c-cb2c-432e-87e6-decfaa5d0e6c"
      },
      "outputs": [
        {
          "output_type": "stream",
          "name": "stdout",
          "text": [
            "['hola', 'cómo', 'viendo', 'serie', 'dark', 'netflix', 'ayer']\n"
          ]
        },
        {
          "output_type": "stream",
          "name": "stderr",
          "text": [
            "[nltk_data] Downloading package stopwords to /root/nltk_data...\n",
            "[nltk_data]   Package stopwords is already up-to-date!\n"
          ]
        }
      ],
      "source": [
        "import nltk\n",
        "nltk.download('stopwords')\n",
        "from nltk.corpus import stopwords\n",
        "\n",
        "stopwords_es = set(stopwords.words('spanish'))\n",
        "# print(len(stopwords_es))\n",
        "\n",
        "palabras = quitar_emojis(sin_puntuacion).split()\n",
        "filtradas = [p for p in palabras if p not in stopwords_es]\n",
        "print(filtradas)"
      ]
    },
    {
      "cell_type": "markdown",
      "id": "bd97e9e8",
      "metadata": {
        "id": "bd97e9e8"
      },
      "source": [
        "## 🔍 Comparar antes y después"
      ]
    },
    {
      "cell_type": "code",
      "execution_count": 9,
      "id": "4075653f",
      "metadata": {
        "id": "4075653f",
        "colab": {
          "base_uri": "https://localhost:8080/"
        },
        "outputId": "d98b2de1-4089-4fe5-b3d3-a50ecc3784ae"
      },
      "outputs": [
        {
          "output_type": "stream",
          "name": "stdout",
          "text": [
            "1. Original: ¡Hola! ¿cómo estás??? Estoy viendo la serie 'Dark' 😱💥 en Netflix desde ayer!!!\n",
            "   Limpio  : hola cómo viendo serie dark netflix ayer\n",
            "\n",
            "2. Original: Este producto es malííísimo... no lo recomiendo 😡😡😡\n",
            "   Limpio  : producto malííísimo recomiendo\n",
            "\n",
            "3. Original: <html><body>Oferta del día: 50% OFF!!! <a href='promo.html'>Ver más</a></body></html>\n",
            "   Limpio  : htmlbodyoferta día 50 off hrefpromohtmlver másabodyhtml\n",
            "\n",
            "4. Original: Q ondaa!!! akí re tranqui, vo' sabes 😎✌️\n",
            "   Limpio  : q ondaa akí re tranqui vo sabes\n",
            "\n"
          ]
        }
      ],
      "source": [
        "def limpiar_texto(texto):\n",
        "    texto = texto.lower()\n",
        "    texto = ''.join(c for c in texto if c not in string.punctuation)\n",
        "    texto = quitar_emojis(texto)\n",
        "    palabras = texto.split()\n",
        "    palabras = [p for p in palabras if p not in stopwords_es]\n",
        "    return ' '.join(palabras)\n",
        "\n",
        "for i, texto in enumerate(ejemplos, 1):\n",
        "    print(f\"{i}. Original: {texto}\")\n",
        "    print(f\"   Limpio  : {limpiar_texto(texto)}\\n\")"
      ]
    }
  ],
  "metadata": {
    "colab": {
      "provenance": []
    },
    "language_info": {
      "name": "python"
    },
    "kernelspec": {
      "name": "python3",
      "display_name": "Python 3"
    }
  },
  "nbformat": 4,
  "nbformat_minor": 5
}