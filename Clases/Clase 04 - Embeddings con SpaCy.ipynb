{
  "cells": [
    {
      "cell_type": "markdown",
      "id": "6fcdc3ef",
      "metadata": {
        "id": "6fcdc3ef"
      },
      "source": [
        "\n",
        "# Uso de Embeddings con SpaCy en Español\n",
        "\n",
        "Este Jupyter Notebook proporciona ejemplos de cómo usar **word embeddings** en español utilizando la biblioteca **SpaCy**. Los embeddings permiten representar palabras o frases como vectores numéricos, lo que facilita el cálculo de similitudes semánticas entre palabras o frases.\n",
        "\n",
        "## Instalación de SpaCy y el modelo en español\n",
        "Antes de ejecutar los ejemplos en este notebook, asegúrate de instalar la biblioteca SpaCy y el modelo con vectores preentrenados para español. Puedes hacerlo con los siguientes comandos:\n",
        "\n",
        "```bash\n",
        "pip install spacy\n",
        "python -m spacy download es_core_news_md  # Modelo con word vectors\n",
        "```\n"
      ]
    },
    {
      "cell_type": "code",
      "source": [
        "!pip install spacy\n",
        "!python -m spacy download es_core_news_md"
      ],
      "metadata": {
        "colab": {
          "base_uri": "https://localhost:8080/"
        },
        "id": "_P61MRJ9c_Zd",
        "outputId": "901c7cd3-d64f-4af6-866a-f0880c50980b"
      },
      "id": "_P61MRJ9c_Zd",
      "execution_count": 1,
      "outputs": [
        {
          "output_type": "stream",
          "name": "stdout",
          "text": [
            "Requirement already satisfied: spacy in /usr/local/lib/python3.11/dist-packages (3.8.5)\n",
            "Requirement already satisfied: spacy-legacy<3.1.0,>=3.0.11 in /usr/local/lib/python3.11/dist-packages (from spacy) (3.0.12)\n",
            "Requirement already satisfied: spacy-loggers<2.0.0,>=1.0.0 in /usr/local/lib/python3.11/dist-packages (from spacy) (1.0.5)\n",
            "Requirement already satisfied: murmurhash<1.1.0,>=0.28.0 in /usr/local/lib/python3.11/dist-packages (from spacy) (1.0.12)\n",
            "Requirement already satisfied: cymem<2.1.0,>=2.0.2 in /usr/local/lib/python3.11/dist-packages (from spacy) (2.0.11)\n",
            "Requirement already satisfied: preshed<3.1.0,>=3.0.2 in /usr/local/lib/python3.11/dist-packages (from spacy) (3.0.9)\n",
            "Requirement already satisfied: thinc<8.4.0,>=8.3.4 in /usr/local/lib/python3.11/dist-packages (from spacy) (8.3.6)\n",
            "Requirement already satisfied: wasabi<1.2.0,>=0.9.1 in /usr/local/lib/python3.11/dist-packages (from spacy) (1.1.3)\n",
            "Requirement already satisfied: srsly<3.0.0,>=2.4.3 in /usr/local/lib/python3.11/dist-packages (from spacy) (2.5.1)\n",
            "Requirement already satisfied: catalogue<2.1.0,>=2.0.6 in /usr/local/lib/python3.11/dist-packages (from spacy) (2.0.10)\n",
            "Requirement already satisfied: weasel<0.5.0,>=0.1.0 in /usr/local/lib/python3.11/dist-packages (from spacy) (0.4.1)\n",
            "Requirement already satisfied: typer<1.0.0,>=0.3.0 in /usr/local/lib/python3.11/dist-packages (from spacy) (0.15.2)\n",
            "Requirement already satisfied: tqdm<5.0.0,>=4.38.0 in /usr/local/lib/python3.11/dist-packages (from spacy) (4.67.1)\n",
            "Requirement already satisfied: numpy>=1.19.0 in /usr/local/lib/python3.11/dist-packages (from spacy) (2.0.2)\n",
            "Requirement already satisfied: requests<3.0.0,>=2.13.0 in /usr/local/lib/python3.11/dist-packages (from spacy) (2.32.3)\n",
            "Requirement already satisfied: pydantic!=1.8,!=1.8.1,<3.0.0,>=1.7.4 in /usr/local/lib/python3.11/dist-packages (from spacy) (2.11.3)\n",
            "Requirement already satisfied: jinja2 in /usr/local/lib/python3.11/dist-packages (from spacy) (3.1.6)\n",
            "Requirement already satisfied: setuptools in /usr/local/lib/python3.11/dist-packages (from spacy) (75.2.0)\n",
            "Requirement already satisfied: packaging>=20.0 in /usr/local/lib/python3.11/dist-packages (from spacy) (24.2)\n",
            "Requirement already satisfied: langcodes<4.0.0,>=3.2.0 in /usr/local/lib/python3.11/dist-packages (from spacy) (3.5.0)\n",
            "Requirement already satisfied: language-data>=1.2 in /usr/local/lib/python3.11/dist-packages (from langcodes<4.0.0,>=3.2.0->spacy) (1.3.0)\n",
            "Requirement already satisfied: annotated-types>=0.6.0 in /usr/local/lib/python3.11/dist-packages (from pydantic!=1.8,!=1.8.1,<3.0.0,>=1.7.4->spacy) (0.7.0)\n",
            "Requirement already satisfied: pydantic-core==2.33.1 in /usr/local/lib/python3.11/dist-packages (from pydantic!=1.8,!=1.8.1,<3.0.0,>=1.7.4->spacy) (2.33.1)\n",
            "Requirement already satisfied: typing-extensions>=4.12.2 in /usr/local/lib/python3.11/dist-packages (from pydantic!=1.8,!=1.8.1,<3.0.0,>=1.7.4->spacy) (4.13.1)\n",
            "Requirement already satisfied: typing-inspection>=0.4.0 in /usr/local/lib/python3.11/dist-packages (from pydantic!=1.8,!=1.8.1,<3.0.0,>=1.7.4->spacy) (0.4.0)\n",
            "Requirement already satisfied: charset-normalizer<4,>=2 in /usr/local/lib/python3.11/dist-packages (from requests<3.0.0,>=2.13.0->spacy) (3.4.1)\n",
            "Requirement already satisfied: idna<4,>=2.5 in /usr/local/lib/python3.11/dist-packages (from requests<3.0.0,>=2.13.0->spacy) (3.10)\n",
            "Requirement already satisfied: urllib3<3,>=1.21.1 in /usr/local/lib/python3.11/dist-packages (from requests<3.0.0,>=2.13.0->spacy) (2.3.0)\n",
            "Requirement already satisfied: certifi>=2017.4.17 in /usr/local/lib/python3.11/dist-packages (from requests<3.0.0,>=2.13.0->spacy) (2025.1.31)\n",
            "Requirement already satisfied: blis<1.4.0,>=1.3.0 in /usr/local/lib/python3.11/dist-packages (from thinc<8.4.0,>=8.3.4->spacy) (1.3.0)\n",
            "Requirement already satisfied: confection<1.0.0,>=0.0.1 in /usr/local/lib/python3.11/dist-packages (from thinc<8.4.0,>=8.3.4->spacy) (0.1.5)\n",
            "Requirement already satisfied: click>=8.0.0 in /usr/local/lib/python3.11/dist-packages (from typer<1.0.0,>=0.3.0->spacy) (8.1.8)\n",
            "Requirement already satisfied: shellingham>=1.3.0 in /usr/local/lib/python3.11/dist-packages (from typer<1.0.0,>=0.3.0->spacy) (1.5.4)\n",
            "Requirement already satisfied: rich>=10.11.0 in /usr/local/lib/python3.11/dist-packages (from typer<1.0.0,>=0.3.0->spacy) (13.9.4)\n",
            "Requirement already satisfied: cloudpathlib<1.0.0,>=0.7.0 in /usr/local/lib/python3.11/dist-packages (from weasel<0.5.0,>=0.1.0->spacy) (0.21.0)\n",
            "Requirement already satisfied: smart-open<8.0.0,>=5.2.1 in /usr/local/lib/python3.11/dist-packages (from weasel<0.5.0,>=0.1.0->spacy) (7.1.0)\n",
            "Requirement already satisfied: MarkupSafe>=2.0 in /usr/local/lib/python3.11/dist-packages (from jinja2->spacy) (3.0.2)\n",
            "Requirement already satisfied: marisa-trie>=1.1.0 in /usr/local/lib/python3.11/dist-packages (from language-data>=1.2->langcodes<4.0.0,>=3.2.0->spacy) (1.2.1)\n",
            "Requirement already satisfied: markdown-it-py>=2.2.0 in /usr/local/lib/python3.11/dist-packages (from rich>=10.11.0->typer<1.0.0,>=0.3.0->spacy) (3.0.0)\n",
            "Requirement already satisfied: pygments<3.0.0,>=2.13.0 in /usr/local/lib/python3.11/dist-packages (from rich>=10.11.0->typer<1.0.0,>=0.3.0->spacy) (2.18.0)\n",
            "Requirement already satisfied: wrapt in /usr/local/lib/python3.11/dist-packages (from smart-open<8.0.0,>=5.2.1->weasel<0.5.0,>=0.1.0->spacy) (1.17.2)\n",
            "Requirement already satisfied: mdurl~=0.1 in /usr/local/lib/python3.11/dist-packages (from markdown-it-py>=2.2.0->rich>=10.11.0->typer<1.0.0,>=0.3.0->spacy) (0.1.2)\n",
            "Collecting es-core-news-md==3.8.0\n",
            "  Downloading https://github.com/explosion/spacy-models/releases/download/es_core_news_md-3.8.0/es_core_news_md-3.8.0-py3-none-any.whl (42.3 MB)\n",
            "\u001b[2K     \u001b[90m━━━━━━━━━━━━━━━━━━━━━━━━━━━━━━━━━━━━━━━━\u001b[0m \u001b[32m42.3/42.3 MB\u001b[0m \u001b[31m18.6 MB/s\u001b[0m eta \u001b[36m0:00:00\u001b[0m\n",
            "\u001b[?25hInstalling collected packages: es-core-news-md\n",
            "Successfully installed es-core-news-md-3.8.0\n",
            "\u001b[38;5;2m✔ Download and installation successful\u001b[0m\n",
            "You can now load the package via spacy.load('es_core_news_md')\n",
            "\u001b[38;5;3m⚠ Restart to reload dependencies\u001b[0m\n",
            "If you are in a Jupyter or Colab notebook, you may need to restart Python in\n",
            "order to load all the package's dependencies. You can do this by selecting the\n",
            "'Restart kernel' or 'Restart runtime' option.\n"
          ]
        }
      ]
    },
    {
      "cell_type": "code",
      "execution_count": 4,
      "id": "8ccaefb2",
      "metadata": {
        "colab": {
          "base_uri": "https://localhost:8080/"
        },
        "id": "8ccaefb2",
        "outputId": "26a46ce9-ae57-4f3c-cc2a-07e087bd7e88"
      },
      "outputs": [
        {
          "output_type": "stream",
          "name": "stdout",
          "text": [
            "Vector de 'gato':\n",
            " [-0.3633   -0.48841  -2.7278    2.3517    1.6459   -0.14743  -3.071\n",
            "  0.43446   2.376     2.939    -3.1857   -1.3094    1.8059   -1.7071\n",
            " -0.98022  -1.7231   -2.4354   -2.9543    0.64656  -2.2967    0.34807\n",
            " -2.8105    1.1762    3.2424    0.18839  -2.8763   -0.85192  -1.8524\n",
            " -2.2221    3.7512   -3.0247    0.58154   1.5971    1.6494   -0.64399\n",
            "  1.8924    0.77904  -1.6907   -0.94121  -0.28061   0.9683    2.1969\n",
            "  1.0211    2.092    -2.2401   -1.7143   -0.44994   0.071469  1.3566\n",
            " -3.014     1.2851    0.27378   1.2742    0.55748  -3.4488   -0.16216\n",
            " -0.24527  -0.93641   0.94152   2.3763    0.53665   0.89439   2.1799\n",
            "  1.0793    1.0502   -2.5831    1.8174   -2.0587   -3.7014    3.5125\n",
            " -2.5576   -0.21629  -3.1582   -2.1678    2.6088   -2.1502   -1.7187\n",
            "  2.1234   -3.6737   -4.2948    0.28615  -1.4556    1.5618   -1.1729\n",
            " -4.9728    0.60744  -2.2477   -3.1606   -1.5781   -0.69417  -0.32749\n",
            "  1.5317   -1.2592   -2.7738    1.14      0.46923  -0.87273  -0.21848\n",
            "  0.22565  -0.59636  -1.9601    1.9623    1.1068    3.9961   -0.011909\n",
            "  2.8441   -3.4065   -1.0487   -0.22615  -3.1205    0.43137   1.8768\n",
            " -0.61303   1.5307   -1.6693    2.6521   -3.9042    0.65099  -3.865\n",
            "  0.071395 -0.19876  -0.53764  -0.7734   -0.85461   1.8388   -2.048\n",
            "  1.4305    2.0518    1.926    -0.17568  -0.87003   2.5502    4.247\n",
            " -1.3054    1.5488    0.43527  -2.2223    2.726    -0.1085    0.89474\n",
            " -0.42681  -1.181    -0.83361  -1.0829    0.98432   5.2924   -2.1318\n",
            " -0.1971   -0.73554   4.4138   -1.0698    1.0611    0.42646   2.5666\n",
            "  0.13698   0.3878    3.4338    0.80204   1.9867   -6.2636    1.2783\n",
            "  2.1879    1.9532    4.5902   -0.40992   4.4139    1.3003   -3.671\n",
            " -1.1165    3.484     0.93629   1.5106   -2.1363   -0.057473 -0.73711\n",
            "  0.090913  2.6206    3.3185   -1.4552    2.1621    0.47805   0.78012\n",
            " -4.8698   -0.83735   3.4817   -2.7028   -4.4796    2.5653    2.4439\n",
            " -1.326     2.1689    0.44454   2.6548    1.1941    0.77388  -1.0307\n",
            " -0.36114   0.76456   0.13615   0.60107  -1.9584   -1.8456    2.7714\n",
            " -0.40363  -2.0218   -2.7975    0.87308  -0.60881   0.54529  -0.83025\n",
            " -2.6085   -0.61694  -1.3153   -0.93897   1.2439    1.6728    3.6878\n",
            "  1.1282    0.76686  -0.65263  -0.38874  -5.5994   -1.7555    1.3363\n",
            "  2.3496    0.43585  -0.95383   0.13321  -1.9174   -0.18698  -0.42904\n",
            " -2.4861   -0.84611   1.4622   -1.0449    0.97269  -1.8023   -1.3815\n",
            "  1.2853   -0.31632  -0.5437    0.83663   2.0028   -2.0846   -1.0597\n",
            "  2.8311   -1.0626    0.28471   1.6699    2.5709   -1.3432    2.5363\n",
            "  1.8258   -3.5312   -0.36535  -1.491     1.5293    0.76608  -2.2002\n",
            " -3.0562   -2.1962    0.95726   2.4487   -0.57422  -2.5642    1.7715\n",
            " -0.82127  -3.1916    0.32214   2.2568   -2.7959   -0.39209  -2.1158\n",
            "  1.4973   -0.83545  -1.6194    1.3295    2.1082    0.14522  -5.5109\n",
            " -0.10648  -0.624    -2.8821    0.12921   0.3974    1.1959   -3.0543\n",
            "  0.58479  -2.5255    1.3405    0.66003   0.26409  -0.70738  -0.75407\n",
            " -1.237    -3.6562   -2.3117   -2.4754   -1.362     0.68819 ]\n"
          ]
        }
      ],
      "source": [
        "import spacy\n",
        "\n",
        "# Cargar el modelo en español con vectores preentrenados\n",
        "nlp = spacy.load(\"es_core_news_md\")\n",
        "\n",
        "# Crear un objeto Doc con una frase en español\n",
        "doc = nlp(\"El gato está en la casa\")\n",
        "\n",
        "# Obtener el vector de la palabra \"gato\"\n",
        "gato_vector = doc[1].vector\n",
        "\n",
        "print(f\"Vector de 'gato':\\n { gato_vector }\")"
      ]
    },
    {
      "cell_type": "markdown",
      "id": "d11a8b4b",
      "metadata": {
        "id": "d11a8b4b"
      },
      "source": [
        "\n",
        "## Calcular la similitud entre palabras\n",
        "\n",
        "Una aplicación común de los embeddings es calcular la similitud entre palabras.  \n",
        "En este ejemplo, comparamos las palabras \"gato\" y \"perro\" para ver qué tan similares son en el espacio de vectores.\n"
      ]
    },
    {
      "cell_type": "code",
      "execution_count": 15,
      "id": "5f3efddf",
      "metadata": {
        "colab": {
          "base_uri": "https://localhost:8080/"
        },
        "id": "5f3efddf",
        "outputId": "a121d13e-f5d2-4a4b-bc60-f93af4001e41"
      },
      "outputs": [
        {
          "output_type": "stream",
          "name": "stdout",
          "text": [
            "Similitud entre 'gato' y 'perro': 0.8487286567687988\n"
          ]
        }
      ],
      "source": [
        "# Crear documentos para cada palabra\n",
        "gato = nlp(\"gato\")\n",
        "perro = nlp(\"perro\")\n",
        "\n",
        "# Calcular la similitud entre los vectores de \"gato\" y \"perro\"\n",
        "similaridad = gato.similarity(perro)\n",
        "\n",
        "print(f\"Similitud entre 'gato' y 'perro': { similaridad }\")"
      ]
    },
    {
      "cell_type": "markdown",
      "id": "6923a994",
      "metadata": {
        "id": "6923a994"
      },
      "source": [
        "\n",
        "## Calcular la similitud entre frases\n",
        "\n",
        "También puedes comparar frases completas usando embeddings. Los embeddings de una frase son, en general, un promedio de los vectores de las palabras que la componen.\n"
      ]
    },
    {
      "cell_type": "code",
      "execution_count": 16,
      "id": "ce0b06ec",
      "metadata": {
        "colab": {
          "base_uri": "https://localhost:8080/"
        },
        "id": "ce0b06ec",
        "outputId": "49e3af88-11a0-4e13-c024-4d38aa57c9f2"
      },
      "outputs": [
        {
          "output_type": "stream",
          "name": "stdout",
          "text": [
            "Similitud entre las frases: 0.7609798312187195\n"
          ]
        }
      ],
      "source": [
        "# Crear objetos Doc para las frases\n",
        "frase_1 = nlp(\"El gato está en la casa\")\n",
        "frase_2 = nlp(\"El perro duerme en el jardín\")\n",
        "\n",
        "# Calcular la similitud entre las dos frases\n",
        "similaridad_frases = frase_1.similarity(frase_2)\n",
        "\n",
        "print(f\"Similitud entre las frases: { similaridad_frases }\")"
      ]
    },
    {
      "cell_type": "markdown",
      "id": "a6baf2b1",
      "metadata": {
        "id": "a6baf2b1"
      },
      "source": [
        "\n",
        "## Obtener el vector de una frase completa\n",
        "\n",
        "También es posible obtener el **embedding** promedio de todas las palabras en una frase.\n"
      ]
    },
    {
      "cell_type": "code",
      "execution_count": 17,
      "id": "d24f23ea",
      "metadata": {
        "colab": {
          "base_uri": "https://localhost:8080/"
        },
        "id": "d24f23ea",
        "outputId": "7d6dd285-a84a-4c79-9eb9-b2f9499c45b1"
      },
      "outputs": [
        {
          "output_type": "stream",
          "name": "stdout",
          "text": [
            "Vector de la frase 'El gato está en la casa':\n",
            " [ 2.14393333e-01  5.21314979e-01  5.22298396e-01  5.57366788e-01\n",
            "  1.89340818e+00 -1.13828826e+00 -1.98866680e-01  4.49193507e-01\n",
            "  1.07705832e+00 -1.92526817e+00 -8.09166670e-01  5.33816576e-01\n",
            "  2.18054342e+00 -2.95427632e+00 -3.68596643e-01  4.20696646e-01\n",
            " -2.67783254e-01  1.09818840e+00 -1.06603205e-01  9.01215017e-01\n",
            " -2.84586638e-01 -1.34965169e+00 -1.39365518e+00  2.16133666e+00\n",
            "  1.72486508e+00 -1.78616837e-01  9.84063148e-01  1.82244670e+00\n",
            " -1.07233442e-01  9.98576701e-01 -4.57103699e-01 -9.82980013e-01\n",
            "  1.38643324e+00  8.63183320e-01  2.00636685e-01 -2.60723853e+00\n",
            "  5.05411625e-01  1.67163324e+00  1.37247992e+00 -1.55748022e+00\n",
            " -7.69106805e-01  1.09973061e+00 -2.89684987e+00  1.55511487e+00\n",
            " -2.17049980e+00  2.12296653e+00  1.74752009e+00  2.03754857e-01\n",
            " -9.72191811e-01 -7.03999996e-01  3.19599986e-01  1.09098673e+00\n",
            "  2.49531674e+00  1.47053003e+00  3.45366716e-01 -5.36143303e-01\n",
            " -2.19624996e+00 -1.40903330e+00 -2.85539985e+00  7.34905005e-01\n",
            "  3.06991667e-01  1.74286330e+00 -2.99334645e-01 -6.35269940e-01\n",
            "  4.22913283e-01  9.98583257e-01 -9.34840024e-01 -8.35628331e-01\n",
            " -3.26352715e+00 -2.73545265e+00 -7.70770073e-01  6.36586666e-01\n",
            " -9.75150287e-01  2.34000292e-02  1.12252665e+00  1.97923851e+00\n",
            " -2.45846674e-01  1.23180997e+00 -1.66815186e+00 -5.70218325e-01\n",
            " -4.89000082e-02 -1.22689998e+00 -2.55705667e+00  2.50416684e+00\n",
            "  5.32800019e-01  9.10823345e-01 -8.23198318e-01 -1.94081652e+00\n",
            "  1.03342676e+00  3.23288321e-01 -2.94366670e+00  1.91028655e+00\n",
            " -2.79200530e+00 -3.45655054e-01  1.05287158e+00  4.47046638e-01\n",
            " -1.21953821e+00 -1.04087222e+00 -2.18259335e+00 -1.62572670e+00\n",
            " -1.22906506e+00  7.52531588e-01 -6.14440024e-01  7.87066638e-01\n",
            " -3.60144824e-01 -2.59624982e+00  4.84336644e-01 -2.98020291e+00\n",
            "  1.79673004e+00  6.42419994e-01  1.44771004e+00  1.67614174e+00\n",
            " -4.18346643e-01  9.66866314e-02 -1.75659513e+00  5.43778419e-01\n",
            " -1.10789835e+00  4.53014803e+00 -6.50526702e-01  2.00536561e+00\n",
            "  2.78774190e+00  1.34003675e+00 -1.37125003e+00 -2.23060799e+00\n",
            "  1.43947136e+00  2.97666013e-01  4.16150004e-01 -1.12698996e+00\n",
            "  1.14746332e+00 -2.12882662e+00  1.92938006e+00 -2.37672329e+00\n",
            " -4.18971539e-01 -3.00108337e+00  3.09288001e+00 -5.96693337e-01\n",
            " -1.63275826e+00  8.28800023e-01  1.40106678e+00  2.95764995e+00\n",
            "  8.48396719e-01  3.07988477e+00  5.15261710e-01  1.58179665e+00\n",
            " -2.08344674e+00 -1.30195022e-01 -2.01063657e+00 -2.52832675e+00\n",
            " -2.09638333e+00  1.59917402e+00 -9.11133349e-01 -8.47004652e-02\n",
            "  3.97126675e-01  1.78048837e+00  1.45703125e+00  8.25730026e-01\n",
            " -6.39366284e-02  7.53588200e-01 -3.12361693e+00 -1.42054319e+00\n",
            "  1.40646493e+00  1.08021843e+00  3.42730045e-01  1.05987990e+00\n",
            "  1.89647663e+00  1.34993327e+00 -2.00756669e+00  8.73515606e-02\n",
            "  2.66130000e-01 -1.28696334e+00  1.70976508e+00  1.70190012e+00\n",
            " -2.79396844e+00  2.97808456e+00  1.32272494e+00  1.45581877e+00\n",
            " -2.61373353e+00 -2.24379945e+00  2.64327717e-03 -4.89494920e-01\n",
            "  1.75379074e+00 -2.39610004e+00  3.51716518e-01 -1.83341503e+00\n",
            " -2.48316541e-01 -3.14453340e+00 -1.98770666e+00  2.24277329e+00\n",
            "  1.35148361e-01 -1.79136649e-01  3.47718328e-01 -1.14387834e+00\n",
            " -8.26918364e-01  9.03676689e-01  3.14341998e+00  7.09616661e-01\n",
            " -1.04095674e+00  1.77040994e+00  1.40507507e+00 -5.86088538e-01\n",
            "  1.46635008e+00 -1.36460173e+00  4.82664973e-01 -1.57750845e+00\n",
            " -7.80333459e-01 -1.01097333e+00  2.21701837e+00  1.31061995e+00\n",
            "  1.38288009e+00 -2.34401703e-01 -1.20759833e+00 -1.42006838e+00\n",
            "  1.77073002e+00 -5.64138353e-01  6.50123298e-01  1.75659001e+00\n",
            "  2.69659996e+00  2.74576497e+00 -2.88512325e+00 -5.02299853e-02\n",
            " -1.51023877e+00 -4.10481602e-01 -1.80739009e+00 -8.95981610e-01\n",
            "  4.13372326e+00 -5.04504554e-02 -1.15593827e+00  2.18166900e-03\n",
            " -1.34908330e+00  1.48117340e+00  1.27714336e+00  1.23258674e+00\n",
            "  3.82235050e-01  1.04197168e+00 -3.88011605e-01 -7.23989964e-01\n",
            " -2.96709985e-01 -1.38783324e+00  7.24720001e-01  6.71646774e-01\n",
            "  5.98113358e-01 -6.54301703e-01 -4.02487993e+00 -1.38125002e+00\n",
            " -1.57550335e+00  1.79035664e+00 -4.48391765e-01  1.81401825e+00\n",
            "  1.24458659e+00  1.23872006e+00  9.80033398e-01 -1.66524994e+00\n",
            "  4.60300058e-01  2.98110676e+00  1.85386145e+00 -3.07299852e-01\n",
            " -1.28413343e+00 -1.03573656e+00 -9.50150013e-01  1.81833312e-01\n",
            "  5.63798368e-01  1.40327835e+00 -1.64971828e+00  3.75803351e-01\n",
            " -1.01816701e-02 -1.21866865e-02 -9.34213936e-01 -1.22175014e+00\n",
            "  9.11948264e-01  2.37802505e+00 -2.91513324e+00 -9.16581810e-01\n",
            "  2.54154325e+00 -3.99450846e-02 -6.00079894e-01 -4.14426804e+00\n",
            "  1.25663316e+00  2.60388994e+00 -4.88146782e-01 -3.50967479e+00\n",
            "  5.55806637e-01 -1.95800018e+00  6.21683300e-01  1.09577835e+00\n",
            "  2.79180527e+00  2.55036664e+00 -3.01082325e+00 -1.06773007e+00\n",
            " -8.74666691e-01 -2.17718983e+00 -4.57983799e-02 -9.52358544e-01\n",
            " -1.52283001e+00 -6.03379965e-01  1.90649998e+00  7.68100023e-01\n",
            "  4.89333086e-02 -5.20826638e-01  7.31801689e-01  1.04284000e+00]\n"
          ]
        }
      ],
      "source": [
        "# Obtener el vector para toda la frase\n",
        "vector_frase = frase_1.vector\n",
        "\n",
        "print(f\"Vector de la frase 'El gato está en la casa':\\n { vector_frase }\")"
      ]
    },
    {
      "cell_type": "markdown",
      "id": "b542cca6",
      "metadata": {
        "id": "b542cca6"
      },
      "source": [
        "\n",
        "## Embeddings para palabras fuera del vocabulario\n",
        "\n",
        "Si intentas obtener el vector de una palabra que no está en el vocabulario del modelo, SpaCy asigna un vector de ceros.  \n",
        "Por ejemplo:\n"
      ]
    },
    {
      "cell_type": "code",
      "execution_count": 18,
      "id": "e0b8e235",
      "metadata": {
        "colab": {
          "base_uri": "https://localhost:8080/"
        },
        "id": "e0b8e235",
        "outputId": "62cb0f9f-d5e8-4151-848b-77ea2c333e9b"
      },
      "outputs": [
        {
          "output_type": "stream",
          "name": "stdout",
          "text": [
            "Vector de 'supercalifragilisticoespialidoso':\n",
            " [0. 0. 0. 0. 0. 0. 0. 0. 0. 0. 0. 0. 0. 0. 0. 0. 0. 0. 0. 0. 0. 0. 0. 0.\n",
            " 0. 0. 0. 0. 0. 0. 0. 0. 0. 0. 0. 0. 0. 0. 0. 0. 0. 0. 0. 0. 0. 0. 0. 0.\n",
            " 0. 0. 0. 0. 0. 0. 0. 0. 0. 0. 0. 0. 0. 0. 0. 0. 0. 0. 0. 0. 0. 0. 0. 0.\n",
            " 0. 0. 0. 0. 0. 0. 0. 0. 0. 0. 0. 0. 0. 0. 0. 0. 0. 0. 0. 0. 0. 0. 0. 0.\n",
            " 0. 0. 0. 0. 0. 0. 0. 0. 0. 0. 0. 0. 0. 0. 0. 0. 0. 0. 0. 0. 0. 0. 0. 0.\n",
            " 0. 0. 0. 0. 0. 0. 0. 0. 0. 0. 0. 0. 0. 0. 0. 0. 0. 0. 0. 0. 0. 0. 0. 0.\n",
            " 0. 0. 0. 0. 0. 0. 0. 0. 0. 0. 0. 0. 0. 0. 0. 0. 0. 0. 0. 0. 0. 0. 0. 0.\n",
            " 0. 0. 0. 0. 0. 0. 0. 0. 0. 0. 0. 0. 0. 0. 0. 0. 0. 0. 0. 0. 0. 0. 0. 0.\n",
            " 0. 0. 0. 0. 0. 0. 0. 0. 0. 0. 0. 0. 0. 0. 0. 0. 0. 0. 0. 0. 0. 0. 0. 0.\n",
            " 0. 0. 0. 0. 0. 0. 0. 0. 0. 0. 0. 0. 0. 0. 0. 0. 0. 0. 0. 0. 0. 0. 0. 0.\n",
            " 0. 0. 0. 0. 0. 0. 0. 0. 0. 0. 0. 0. 0. 0. 0. 0. 0. 0. 0. 0. 0. 0. 0. 0.\n",
            " 0. 0. 0. 0. 0. 0. 0. 0. 0. 0. 0. 0. 0. 0. 0. 0. 0. 0. 0. 0. 0. 0. 0. 0.\n",
            " 0. 0. 0. 0. 0. 0. 0. 0. 0. 0. 0. 0.]\n"
          ]
        }
      ],
      "source": [
        "# Palabra que no está en el vocabulario\n",
        "doc = nlp(\"supercalifragilisticoespialidoso\")\n",
        "\n",
        "# Verificar el vector\n",
        "print(f\"Vector de 'supercalifragilisticoespialidoso':\\n { doc[0].vector }\")"
      ]
    },
    {
      "cell_type": "markdown",
      "id": "9013a8a5",
      "metadata": {
        "id": "9013a8a5"
      },
      "source": [
        "\n",
        "## Comparar palabras de diferentes tipos (sustantivos, verbos, etc.)\n",
        "\n",
        "Puedes comparar palabras que no necesariamente son similares en significado pero que quieras medir.  \n",
        "Por ejemplo, comparar un verbo y un sustantivo:"
      ]
    },
    {
      "cell_type": "code",
      "execution_count": 24,
      "id": "ccc81659",
      "metadata": {
        "colab": {
          "base_uri": "https://localhost:8080/"
        },
        "id": "ccc81659",
        "outputId": "db150e19-cc15-4002-a0c7-8f79f3a14e3b"
      },
      "outputs": [
        {
          "output_type": "stream",
          "name": "stdout",
          "text": [
            "Similitud entre 'correr' y 'gato': 0.21468470990657806\n"
          ]
        }
      ],
      "source": [
        "# Comparar un verbo y un sustantivo\n",
        "correr = nlp(\"correr\")  # computadora\n",
        "gato = nlp(\"gato\")      # computación\n",
        "\n",
        "similaridad_correr_gato = correr.similarity(gato)\n",
        "print(f\"Similitud entre 'correr' y 'gato': { similaridad_correr_gato }\")"
      ]
    }
  ],
  "metadata": {
    "colab": {
      "provenance": []
    },
    "language_info": {
      "name": "python"
    },
    "kernelspec": {
      "name": "python3",
      "display_name": "Python 3"
    }
  },
  "nbformat": 4,
  "nbformat_minor": 5
}