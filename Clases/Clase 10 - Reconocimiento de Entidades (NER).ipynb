{
  "nbformat": 4,
  "nbformat_minor": 0,
  "metadata": {
    "colab": {
      "provenance": [],
      "collapsed_sections": [
        "Z3txOoW-9T5A",
        "y_HoyyCW9Tl-",
        "6VcmqxUvDJLY",
        "SQLxQKZ6CmiA",
        "TKn5As3g-YDb",
        "jbOkGmpZHmJY",
        "Zn2F88fgHhPK",
        "t33a8brgHXc1",
        "pxT5eoTxHPd1",
        "h22Fd18BAm8-",
        "pJsYyWy4HAYA"
      ]
    },
    "kernelspec": {
      "name": "python3",
      "display_name": "Python 3"
    },
    "language_info": {
      "name": "python"
    },
    "widgets": {
      "application/vnd.jupyter.widget-state+json": {
        "ea18f486865249d19129ccdeb17998e5": {
          "model_module": "@jupyter-widgets/controls",
          "model_name": "HBoxModel",
          "model_module_version": "1.5.0",
          "state": {
            "_dom_classes": [],
            "_model_module": "@jupyter-widgets/controls",
            "_model_module_version": "1.5.0",
            "_model_name": "HBoxModel",
            "_view_count": null,
            "_view_module": "@jupyter-widgets/controls",
            "_view_module_version": "1.5.0",
            "_view_name": "HBoxView",
            "box_style": "",
            "children": [
              "IPY_MODEL_261511e304a543f3b9a350a3da2db9b7",
              "IPY_MODEL_95973d10ab9d4baaae04a27f28a57f8b",
              "IPY_MODEL_deb205b00e114249aa1082999539fd43"
            ],
            "layout": "IPY_MODEL_ed889cbd99f1480fb45e0c40633366d3"
          }
        },
        "261511e304a543f3b9a350a3da2db9b7": {
          "model_module": "@jupyter-widgets/controls",
          "model_name": "HTMLModel",
          "model_module_version": "1.5.0",
          "state": {
            "_dom_classes": [],
            "_model_module": "@jupyter-widgets/controls",
            "_model_module_version": "1.5.0",
            "_model_name": "HTMLModel",
            "_view_count": null,
            "_view_module": "@jupyter-widgets/controls",
            "_view_module_version": "1.5.0",
            "_view_name": "HTMLView",
            "description": "",
            "description_tooltip": null,
            "layout": "IPY_MODEL_97062db4441d43348abb409325ad32db",
            "placeholder": "​",
            "style": "IPY_MODEL_ab6c7698b46d45a2a30b305176439f33",
            "value": "tokenizer_config.json: 100%"
          }
        },
        "95973d10ab9d4baaae04a27f28a57f8b": {
          "model_module": "@jupyter-widgets/controls",
          "model_name": "FloatProgressModel",
          "model_module_version": "1.5.0",
          "state": {
            "_dom_classes": [],
            "_model_module": "@jupyter-widgets/controls",
            "_model_module_version": "1.5.0",
            "_model_name": "FloatProgressModel",
            "_view_count": null,
            "_view_module": "@jupyter-widgets/controls",
            "_view_module_version": "1.5.0",
            "_view_name": "ProgressView",
            "bar_style": "success",
            "description": "",
            "description_tooltip": null,
            "layout": "IPY_MODEL_6ffb5408d05548b1a229192ce42546b4",
            "max": 136,
            "min": 0,
            "orientation": "horizontal",
            "style": "IPY_MODEL_bbd9d9b49d89447ab01f24e3b144c31d",
            "value": 136
          }
        },
        "deb205b00e114249aa1082999539fd43": {
          "model_module": "@jupyter-widgets/controls",
          "model_name": "HTMLModel",
          "model_module_version": "1.5.0",
          "state": {
            "_dom_classes": [],
            "_model_module": "@jupyter-widgets/controls",
            "_model_module_version": "1.5.0",
            "_model_name": "HTMLModel",
            "_view_count": null,
            "_view_module": "@jupyter-widgets/controls",
            "_view_module_version": "1.5.0",
            "_view_name": "HTMLView",
            "description": "",
            "description_tooltip": null,
            "layout": "IPY_MODEL_47dd7da7855a425c92d10b313e61eca5",
            "placeholder": "​",
            "style": "IPY_MODEL_0607eb3a3dcf4869a111e4886b7390c2",
            "value": " 136/136 [00:00&lt;00:00, 3.30kB/s]"
          }
        },
        "ed889cbd99f1480fb45e0c40633366d3": {
          "model_module": "@jupyter-widgets/base",
          "model_name": "LayoutModel",
          "model_module_version": "1.2.0",
          "state": {
            "_model_module": "@jupyter-widgets/base",
            "_model_module_version": "1.2.0",
            "_model_name": "LayoutModel",
            "_view_count": null,
            "_view_module": "@jupyter-widgets/base",
            "_view_module_version": "1.2.0",
            "_view_name": "LayoutView",
            "align_content": null,
            "align_items": null,
            "align_self": null,
            "border": null,
            "bottom": null,
            "display": null,
            "flex": null,
            "flex_flow": null,
            "grid_area": null,
            "grid_auto_columns": null,
            "grid_auto_flow": null,
            "grid_auto_rows": null,
            "grid_column": null,
            "grid_gap": null,
            "grid_row": null,
            "grid_template_areas": null,
            "grid_template_columns": null,
            "grid_template_rows": null,
            "height": null,
            "justify_content": null,
            "justify_items": null,
            "left": null,
            "margin": null,
            "max_height": null,
            "max_width": null,
            "min_height": null,
            "min_width": null,
            "object_fit": null,
            "object_position": null,
            "order": null,
            "overflow": null,
            "overflow_x": null,
            "overflow_y": null,
            "padding": null,
            "right": null,
            "top": null,
            "visibility": null,
            "width": null
          }
        },
        "97062db4441d43348abb409325ad32db": {
          "model_module": "@jupyter-widgets/base",
          "model_name": "LayoutModel",
          "model_module_version": "1.2.0",
          "state": {
            "_model_module": "@jupyter-widgets/base",
            "_model_module_version": "1.2.0",
            "_model_name": "LayoutModel",
            "_view_count": null,
            "_view_module": "@jupyter-widgets/base",
            "_view_module_version": "1.2.0",
            "_view_name": "LayoutView",
            "align_content": null,
            "align_items": null,
            "align_self": null,
            "border": null,
            "bottom": null,
            "display": null,
            "flex": null,
            "flex_flow": null,
            "grid_area": null,
            "grid_auto_columns": null,
            "grid_auto_flow": null,
            "grid_auto_rows": null,
            "grid_column": null,
            "grid_gap": null,
            "grid_row": null,
            "grid_template_areas": null,
            "grid_template_columns": null,
            "grid_template_rows": null,
            "height": null,
            "justify_content": null,
            "justify_items": null,
            "left": null,
            "margin": null,
            "max_height": null,
            "max_width": null,
            "min_height": null,
            "min_width": null,
            "object_fit": null,
            "object_position": null,
            "order": null,
            "overflow": null,
            "overflow_x": null,
            "overflow_y": null,
            "padding": null,
            "right": null,
            "top": null,
            "visibility": null,
            "width": null
          }
        },
        "ab6c7698b46d45a2a30b305176439f33": {
          "model_module": "@jupyter-widgets/controls",
          "model_name": "DescriptionStyleModel",
          "model_module_version": "1.5.0",
          "state": {
            "_model_module": "@jupyter-widgets/controls",
            "_model_module_version": "1.5.0",
            "_model_name": "DescriptionStyleModel",
            "_view_count": null,
            "_view_module": "@jupyter-widgets/base",
            "_view_module_version": "1.2.0",
            "_view_name": "StyleView",
            "description_width": ""
          }
        },
        "6ffb5408d05548b1a229192ce42546b4": {
          "model_module": "@jupyter-widgets/base",
          "model_name": "LayoutModel",
          "model_module_version": "1.2.0",
          "state": {
            "_model_module": "@jupyter-widgets/base",
            "_model_module_version": "1.2.0",
            "_model_name": "LayoutModel",
            "_view_count": null,
            "_view_module": "@jupyter-widgets/base",
            "_view_module_version": "1.2.0",
            "_view_name": "LayoutView",
            "align_content": null,
            "align_items": null,
            "align_self": null,
            "border": null,
            "bottom": null,
            "display": null,
            "flex": null,
            "flex_flow": null,
            "grid_area": null,
            "grid_auto_columns": null,
            "grid_auto_flow": null,
            "grid_auto_rows": null,
            "grid_column": null,
            "grid_gap": null,
            "grid_row": null,
            "grid_template_areas": null,
            "grid_template_columns": null,
            "grid_template_rows": null,
            "height": null,
            "justify_content": null,
            "justify_items": null,
            "left": null,
            "margin": null,
            "max_height": null,
            "max_width": null,
            "min_height": null,
            "min_width": null,
            "object_fit": null,
            "object_position": null,
            "order": null,
            "overflow": null,
            "overflow_x": null,
            "overflow_y": null,
            "padding": null,
            "right": null,
            "top": null,
            "visibility": null,
            "width": null
          }
        },
        "bbd9d9b49d89447ab01f24e3b144c31d": {
          "model_module": "@jupyter-widgets/controls",
          "model_name": "ProgressStyleModel",
          "model_module_version": "1.5.0",
          "state": {
            "_model_module": "@jupyter-widgets/controls",
            "_model_module_version": "1.5.0",
            "_model_name": "ProgressStyleModel",
            "_view_count": null,
            "_view_module": "@jupyter-widgets/base",
            "_view_module_version": "1.2.0",
            "_view_name": "StyleView",
            "bar_color": null,
            "description_width": ""
          }
        },
        "47dd7da7855a425c92d10b313e61eca5": {
          "model_module": "@jupyter-widgets/base",
          "model_name": "LayoutModel",
          "model_module_version": "1.2.0",
          "state": {
            "_model_module": "@jupyter-widgets/base",
            "_model_module_version": "1.2.0",
            "_model_name": "LayoutModel",
            "_view_count": null,
            "_view_module": "@jupyter-widgets/base",
            "_view_module_version": "1.2.0",
            "_view_name": "LayoutView",
            "align_content": null,
            "align_items": null,
            "align_self": null,
            "border": null,
            "bottom": null,
            "display": null,
            "flex": null,
            "flex_flow": null,
            "grid_area": null,
            "grid_auto_columns": null,
            "grid_auto_flow": null,
            "grid_auto_rows": null,
            "grid_column": null,
            "grid_gap": null,
            "grid_row": null,
            "grid_template_areas": null,
            "grid_template_columns": null,
            "grid_template_rows": null,
            "height": null,
            "justify_content": null,
            "justify_items": null,
            "left": null,
            "margin": null,
            "max_height": null,
            "max_width": null,
            "min_height": null,
            "min_width": null,
            "object_fit": null,
            "object_position": null,
            "order": null,
            "overflow": null,
            "overflow_x": null,
            "overflow_y": null,
            "padding": null,
            "right": null,
            "top": null,
            "visibility": null,
            "width": null
          }
        },
        "0607eb3a3dcf4869a111e4886b7390c2": {
          "model_module": "@jupyter-widgets/controls",
          "model_name": "DescriptionStyleModel",
          "model_module_version": "1.5.0",
          "state": {
            "_model_module": "@jupyter-widgets/controls",
            "_model_module_version": "1.5.0",
            "_model_name": "DescriptionStyleModel",
            "_view_count": null,
            "_view_module": "@jupyter-widgets/base",
            "_view_module_version": "1.2.0",
            "_view_name": "StyleView",
            "description_width": ""
          }
        },
        "f12f35c2366d45fe89827859ee921c27": {
          "model_module": "@jupyter-widgets/controls",
          "model_name": "HBoxModel",
          "model_module_version": "1.5.0",
          "state": {
            "_dom_classes": [],
            "_model_module": "@jupyter-widgets/controls",
            "_model_module_version": "1.5.0",
            "_model_name": "HBoxModel",
            "_view_count": null,
            "_view_module": "@jupyter-widgets/controls",
            "_view_module_version": "1.5.0",
            "_view_name": "HBoxView",
            "box_style": "",
            "children": [
              "IPY_MODEL_2fd7ea4aa6014e4d863b2e50727f7939",
              "IPY_MODEL_8eff019ed39543e48ff2e2ef4665fa0f",
              "IPY_MODEL_976188b16eca4aa3a0143e68baafbeb6"
            ],
            "layout": "IPY_MODEL_82b95f14d9bd491e9f682d8e52974215"
          }
        },
        "2fd7ea4aa6014e4d863b2e50727f7939": {
          "model_module": "@jupyter-widgets/controls",
          "model_name": "HTMLModel",
          "model_module_version": "1.5.0",
          "state": {
            "_dom_classes": [],
            "_model_module": "@jupyter-widgets/controls",
            "_model_module_version": "1.5.0",
            "_model_name": "HTMLModel",
            "_view_count": null,
            "_view_module": "@jupyter-widgets/controls",
            "_view_module_version": "1.5.0",
            "_view_name": "HTMLView",
            "description": "",
            "description_tooltip": null,
            "layout": "IPY_MODEL_8646d0fa6d9140309e00656d222711cc",
            "placeholder": "​",
            "style": "IPY_MODEL_1f576af31a344d5d8cf64971c494f094",
            "value": "config.json: 100%"
          }
        },
        "8eff019ed39543e48ff2e2ef4665fa0f": {
          "model_module": "@jupyter-widgets/controls",
          "model_name": "FloatProgressModel",
          "model_module_version": "1.5.0",
          "state": {
            "_dom_classes": [],
            "_model_module": "@jupyter-widgets/controls",
            "_model_module_version": "1.5.0",
            "_model_name": "FloatProgressModel",
            "_view_count": null,
            "_view_module": "@jupyter-widgets/controls",
            "_view_module_version": "1.5.0",
            "_view_name": "ProgressView",
            "bar_style": "success",
            "description": "",
            "description_tooltip": null,
            "layout": "IPY_MODEL_02a3a8ca9f5e43fbb51d06c423ecaf99",
            "max": 829,
            "min": 0,
            "orientation": "horizontal",
            "style": "IPY_MODEL_ca7d887e879048bca59117bd7dcc49b5",
            "value": 829
          }
        },
        "976188b16eca4aa3a0143e68baafbeb6": {
          "model_module": "@jupyter-widgets/controls",
          "model_name": "HTMLModel",
          "model_module_version": "1.5.0",
          "state": {
            "_dom_classes": [],
            "_model_module": "@jupyter-widgets/controls",
            "_model_module_version": "1.5.0",
            "_model_name": "HTMLModel",
            "_view_count": null,
            "_view_module": "@jupyter-widgets/controls",
            "_view_module_version": "1.5.0",
            "_view_name": "HTMLView",
            "description": "",
            "description_tooltip": null,
            "layout": "IPY_MODEL_caeb231511aa4075ae4ce468e7a1929c",
            "placeholder": "​",
            "style": "IPY_MODEL_923bb55fb937432484f23d6f903631d7",
            "value": " 829/829 [00:00&lt;00:00, 41.8kB/s]"
          }
        },
        "82b95f14d9bd491e9f682d8e52974215": {
          "model_module": "@jupyter-widgets/base",
          "model_name": "LayoutModel",
          "model_module_version": "1.2.0",
          "state": {
            "_model_module": "@jupyter-widgets/base",
            "_model_module_version": "1.2.0",
            "_model_name": "LayoutModel",
            "_view_count": null,
            "_view_module": "@jupyter-widgets/base",
            "_view_module_version": "1.2.0",
            "_view_name": "LayoutView",
            "align_content": null,
            "align_items": null,
            "align_self": null,
            "border": null,
            "bottom": null,
            "display": null,
            "flex": null,
            "flex_flow": null,
            "grid_area": null,
            "grid_auto_columns": null,
            "grid_auto_flow": null,
            "grid_auto_rows": null,
            "grid_column": null,
            "grid_gap": null,
            "grid_row": null,
            "grid_template_areas": null,
            "grid_template_columns": null,
            "grid_template_rows": null,
            "height": null,
            "justify_content": null,
            "justify_items": null,
            "left": null,
            "margin": null,
            "max_height": null,
            "max_width": null,
            "min_height": null,
            "min_width": null,
            "object_fit": null,
            "object_position": null,
            "order": null,
            "overflow": null,
            "overflow_x": null,
            "overflow_y": null,
            "padding": null,
            "right": null,
            "top": null,
            "visibility": null,
            "width": null
          }
        },
        "8646d0fa6d9140309e00656d222711cc": {
          "model_module": "@jupyter-widgets/base",
          "model_name": "LayoutModel",
          "model_module_version": "1.2.0",
          "state": {
            "_model_module": "@jupyter-widgets/base",
            "_model_module_version": "1.2.0",
            "_model_name": "LayoutModel",
            "_view_count": null,
            "_view_module": "@jupyter-widgets/base",
            "_view_module_version": "1.2.0",
            "_view_name": "LayoutView",
            "align_content": null,
            "align_items": null,
            "align_self": null,
            "border": null,
            "bottom": null,
            "display": null,
            "flex": null,
            "flex_flow": null,
            "grid_area": null,
            "grid_auto_columns": null,
            "grid_auto_flow": null,
            "grid_auto_rows": null,
            "grid_column": null,
            "grid_gap": null,
            "grid_row": null,
            "grid_template_areas": null,
            "grid_template_columns": null,
            "grid_template_rows": null,
            "height": null,
            "justify_content": null,
            "justify_items": null,
            "left": null,
            "margin": null,
            "max_height": null,
            "max_width": null,
            "min_height": null,
            "min_width": null,
            "object_fit": null,
            "object_position": null,
            "order": null,
            "overflow": null,
            "overflow_x": null,
            "overflow_y": null,
            "padding": null,
            "right": null,
            "top": null,
            "visibility": null,
            "width": null
          }
        },
        "1f576af31a344d5d8cf64971c494f094": {
          "model_module": "@jupyter-widgets/controls",
          "model_name": "DescriptionStyleModel",
          "model_module_version": "1.5.0",
          "state": {
            "_model_module": "@jupyter-widgets/controls",
            "_model_module_version": "1.5.0",
            "_model_name": "DescriptionStyleModel",
            "_view_count": null,
            "_view_module": "@jupyter-widgets/base",
            "_view_module_version": "1.2.0",
            "_view_name": "StyleView",
            "description_width": ""
          }
        },
        "02a3a8ca9f5e43fbb51d06c423ecaf99": {
          "model_module": "@jupyter-widgets/base",
          "model_name": "LayoutModel",
          "model_module_version": "1.2.0",
          "state": {
            "_model_module": "@jupyter-widgets/base",
            "_model_module_version": "1.2.0",
            "_model_name": "LayoutModel",
            "_view_count": null,
            "_view_module": "@jupyter-widgets/base",
            "_view_module_version": "1.2.0",
            "_view_name": "LayoutView",
            "align_content": null,
            "align_items": null,
            "align_self": null,
            "border": null,
            "bottom": null,
            "display": null,
            "flex": null,
            "flex_flow": null,
            "grid_area": null,
            "grid_auto_columns": null,
            "grid_auto_flow": null,
            "grid_auto_rows": null,
            "grid_column": null,
            "grid_gap": null,
            "grid_row": null,
            "grid_template_areas": null,
            "grid_template_columns": null,
            "grid_template_rows": null,
            "height": null,
            "justify_content": null,
            "justify_items": null,
            "left": null,
            "margin": null,
            "max_height": null,
            "max_width": null,
            "min_height": null,
            "min_width": null,
            "object_fit": null,
            "object_position": null,
            "order": null,
            "overflow": null,
            "overflow_x": null,
            "overflow_y": null,
            "padding": null,
            "right": null,
            "top": null,
            "visibility": null,
            "width": null
          }
        },
        "ca7d887e879048bca59117bd7dcc49b5": {
          "model_module": "@jupyter-widgets/controls",
          "model_name": "ProgressStyleModel",
          "model_module_version": "1.5.0",
          "state": {
            "_model_module": "@jupyter-widgets/controls",
            "_model_module_version": "1.5.0",
            "_model_name": "ProgressStyleModel",
            "_view_count": null,
            "_view_module": "@jupyter-widgets/base",
            "_view_module_version": "1.2.0",
            "_view_name": "StyleView",
            "bar_color": null,
            "description_width": ""
          }
        },
        "caeb231511aa4075ae4ce468e7a1929c": {
          "model_module": "@jupyter-widgets/base",
          "model_name": "LayoutModel",
          "model_module_version": "1.2.0",
          "state": {
            "_model_module": "@jupyter-widgets/base",
            "_model_module_version": "1.2.0",
            "_model_name": "LayoutModel",
            "_view_count": null,
            "_view_module": "@jupyter-widgets/base",
            "_view_module_version": "1.2.0",
            "_view_name": "LayoutView",
            "align_content": null,
            "align_items": null,
            "align_self": null,
            "border": null,
            "bottom": null,
            "display": null,
            "flex": null,
            "flex_flow": null,
            "grid_area": null,
            "grid_auto_columns": null,
            "grid_auto_flow": null,
            "grid_auto_rows": null,
            "grid_column": null,
            "grid_gap": null,
            "grid_row": null,
            "grid_template_areas": null,
            "grid_template_columns": null,
            "grid_template_rows": null,
            "height": null,
            "justify_content": null,
            "justify_items": null,
            "left": null,
            "margin": null,
            "max_height": null,
            "max_width": null,
            "min_height": null,
            "min_width": null,
            "object_fit": null,
            "object_position": null,
            "order": null,
            "overflow": null,
            "overflow_x": null,
            "overflow_y": null,
            "padding": null,
            "right": null,
            "top": null,
            "visibility": null,
            "width": null
          }
        },
        "923bb55fb937432484f23d6f903631d7": {
          "model_module": "@jupyter-widgets/controls",
          "model_name": "DescriptionStyleModel",
          "model_module_version": "1.5.0",
          "state": {
            "_model_module": "@jupyter-widgets/controls",
            "_model_module_version": "1.5.0",
            "_model_name": "DescriptionStyleModel",
            "_view_count": null,
            "_view_module": "@jupyter-widgets/base",
            "_view_module_version": "1.2.0",
            "_view_name": "StyleView",
            "description_width": ""
          }
        },
        "b3640a0e58f6459ba3ce3ddb00579fde": {
          "model_module": "@jupyter-widgets/controls",
          "model_name": "HBoxModel",
          "model_module_version": "1.5.0",
          "state": {
            "_dom_classes": [],
            "_model_module": "@jupyter-widgets/controls",
            "_model_module_version": "1.5.0",
            "_model_name": "HBoxModel",
            "_view_count": null,
            "_view_module": "@jupyter-widgets/controls",
            "_view_module_version": "1.5.0",
            "_view_name": "HBoxView",
            "box_style": "",
            "children": [
              "IPY_MODEL_42e96d2a9aed4d8e9a1c49d815505940",
              "IPY_MODEL_0aedbb4bef5f4873bf6f821e10d8e682",
              "IPY_MODEL_1a298da13bdc47118e49987bd86d1250"
            ],
            "layout": "IPY_MODEL_77e1c7bfe06d4a079c3b3f8d92ebc27b"
          }
        },
        "42e96d2a9aed4d8e9a1c49d815505940": {
          "model_module": "@jupyter-widgets/controls",
          "model_name": "HTMLModel",
          "model_module_version": "1.5.0",
          "state": {
            "_dom_classes": [],
            "_model_module": "@jupyter-widgets/controls",
            "_model_module_version": "1.5.0",
            "_model_name": "HTMLModel",
            "_view_count": null,
            "_view_module": "@jupyter-widgets/controls",
            "_view_module_version": "1.5.0",
            "_view_name": "HTMLView",
            "description": "",
            "description_tooltip": null,
            "layout": "IPY_MODEL_6f184431f6ca4804a759fa99337e93d5",
            "placeholder": "​",
            "style": "IPY_MODEL_a3ce237ebb514c44b83460a10303281c",
            "value": "vocab.txt: 100%"
          }
        },
        "0aedbb4bef5f4873bf6f821e10d8e682": {
          "model_module": "@jupyter-widgets/controls",
          "model_name": "FloatProgressModel",
          "model_module_version": "1.5.0",
          "state": {
            "_dom_classes": [],
            "_model_module": "@jupyter-widgets/controls",
            "_model_module_version": "1.5.0",
            "_model_name": "FloatProgressModel",
            "_view_count": null,
            "_view_module": "@jupyter-widgets/controls",
            "_view_module_version": "1.5.0",
            "_view_name": "ProgressView",
            "bar_style": "success",
            "description": "",
            "description_tooltip": null,
            "layout": "IPY_MODEL_1847fa792d2f4d9fb0fd406cf733ba91",
            "max": 242349,
            "min": 0,
            "orientation": "horizontal",
            "style": "IPY_MODEL_677a81387556429280ae8ebfbcce4db6",
            "value": 242349
          }
        },
        "1a298da13bdc47118e49987bd86d1250": {
          "model_module": "@jupyter-widgets/controls",
          "model_name": "HTMLModel",
          "model_module_version": "1.5.0",
          "state": {
            "_dom_classes": [],
            "_model_module": "@jupyter-widgets/controls",
            "_model_module_version": "1.5.0",
            "_model_name": "HTMLModel",
            "_view_count": null,
            "_view_module": "@jupyter-widgets/controls",
            "_view_module_version": "1.5.0",
            "_view_name": "HTMLView",
            "description": "",
            "description_tooltip": null,
            "layout": "IPY_MODEL_fdddb22a923a42dc9ac315fc505349bf",
            "placeholder": "​",
            "style": "IPY_MODEL_df36b4fc7cb941bbb312000c4c5fa918",
            "value": " 242k/242k [00:00&lt;00:00, 3.30MB/s]"
          }
        },
        "77e1c7bfe06d4a079c3b3f8d92ebc27b": {
          "model_module": "@jupyter-widgets/base",
          "model_name": "LayoutModel",
          "model_module_version": "1.2.0",
          "state": {
            "_model_module": "@jupyter-widgets/base",
            "_model_module_version": "1.2.0",
            "_model_name": "LayoutModel",
            "_view_count": null,
            "_view_module": "@jupyter-widgets/base",
            "_view_module_version": "1.2.0",
            "_view_name": "LayoutView",
            "align_content": null,
            "align_items": null,
            "align_self": null,
            "border": null,
            "bottom": null,
            "display": null,
            "flex": null,
            "flex_flow": null,
            "grid_area": null,
            "grid_auto_columns": null,
            "grid_auto_flow": null,
            "grid_auto_rows": null,
            "grid_column": null,
            "grid_gap": null,
            "grid_row": null,
            "grid_template_areas": null,
            "grid_template_columns": null,
            "grid_template_rows": null,
            "height": null,
            "justify_content": null,
            "justify_items": null,
            "left": null,
            "margin": null,
            "max_height": null,
            "max_width": null,
            "min_height": null,
            "min_width": null,
            "object_fit": null,
            "object_position": null,
            "order": null,
            "overflow": null,
            "overflow_x": null,
            "overflow_y": null,
            "padding": null,
            "right": null,
            "top": null,
            "visibility": null,
            "width": null
          }
        },
        "6f184431f6ca4804a759fa99337e93d5": {
          "model_module": "@jupyter-widgets/base",
          "model_name": "LayoutModel",
          "model_module_version": "1.2.0",
          "state": {
            "_model_module": "@jupyter-widgets/base",
            "_model_module_version": "1.2.0",
            "_model_name": "LayoutModel",
            "_view_count": null,
            "_view_module": "@jupyter-widgets/base",
            "_view_module_version": "1.2.0",
            "_view_name": "LayoutView",
            "align_content": null,
            "align_items": null,
            "align_self": null,
            "border": null,
            "bottom": null,
            "display": null,
            "flex": null,
            "flex_flow": null,
            "grid_area": null,
            "grid_auto_columns": null,
            "grid_auto_flow": null,
            "grid_auto_rows": null,
            "grid_column": null,
            "grid_gap": null,
            "grid_row": null,
            "grid_template_areas": null,
            "grid_template_columns": null,
            "grid_template_rows": null,
            "height": null,
            "justify_content": null,
            "justify_items": null,
            "left": null,
            "margin": null,
            "max_height": null,
            "max_width": null,
            "min_height": null,
            "min_width": null,
            "object_fit": null,
            "object_position": null,
            "order": null,
            "overflow": null,
            "overflow_x": null,
            "overflow_y": null,
            "padding": null,
            "right": null,
            "top": null,
            "visibility": null,
            "width": null
          }
        },
        "a3ce237ebb514c44b83460a10303281c": {
          "model_module": "@jupyter-widgets/controls",
          "model_name": "DescriptionStyleModel",
          "model_module_version": "1.5.0",
          "state": {
            "_model_module": "@jupyter-widgets/controls",
            "_model_module_version": "1.5.0",
            "_model_name": "DescriptionStyleModel",
            "_view_count": null,
            "_view_module": "@jupyter-widgets/base",
            "_view_module_version": "1.2.0",
            "_view_name": "StyleView",
            "description_width": ""
          }
        },
        "1847fa792d2f4d9fb0fd406cf733ba91": {
          "model_module": "@jupyter-widgets/base",
          "model_name": "LayoutModel",
          "model_module_version": "1.2.0",
          "state": {
            "_model_module": "@jupyter-widgets/base",
            "_model_module_version": "1.2.0",
            "_model_name": "LayoutModel",
            "_view_count": null,
            "_view_module": "@jupyter-widgets/base",
            "_view_module_version": "1.2.0",
            "_view_name": "LayoutView",
            "align_content": null,
            "align_items": null,
            "align_self": null,
            "border": null,
            "bottom": null,
            "display": null,
            "flex": null,
            "flex_flow": null,
            "grid_area": null,
            "grid_auto_columns": null,
            "grid_auto_flow": null,
            "grid_auto_rows": null,
            "grid_column": null,
            "grid_gap": null,
            "grid_row": null,
            "grid_template_areas": null,
            "grid_template_columns": null,
            "grid_template_rows": null,
            "height": null,
            "justify_content": null,
            "justify_items": null,
            "left": null,
            "margin": null,
            "max_height": null,
            "max_width": null,
            "min_height": null,
            "min_width": null,
            "object_fit": null,
            "object_position": null,
            "order": null,
            "overflow": null,
            "overflow_x": null,
            "overflow_y": null,
            "padding": null,
            "right": null,
            "top": null,
            "visibility": null,
            "width": null
          }
        },
        "677a81387556429280ae8ebfbcce4db6": {
          "model_module": "@jupyter-widgets/controls",
          "model_name": "ProgressStyleModel",
          "model_module_version": "1.5.0",
          "state": {
            "_model_module": "@jupyter-widgets/controls",
            "_model_module_version": "1.5.0",
            "_model_name": "ProgressStyleModel",
            "_view_count": null,
            "_view_module": "@jupyter-widgets/base",
            "_view_module_version": "1.2.0",
            "_view_name": "StyleView",
            "bar_color": null,
            "description_width": ""
          }
        },
        "fdddb22a923a42dc9ac315fc505349bf": {
          "model_module": "@jupyter-widgets/base",
          "model_name": "LayoutModel",
          "model_module_version": "1.2.0",
          "state": {
            "_model_module": "@jupyter-widgets/base",
            "_model_module_version": "1.2.0",
            "_model_name": "LayoutModel",
            "_view_count": null,
            "_view_module": "@jupyter-widgets/base",
            "_view_module_version": "1.2.0",
            "_view_name": "LayoutView",
            "align_content": null,
            "align_items": null,
            "align_self": null,
            "border": null,
            "bottom": null,
            "display": null,
            "flex": null,
            "flex_flow": null,
            "grid_area": null,
            "grid_auto_columns": null,
            "grid_auto_flow": null,
            "grid_auto_rows": null,
            "grid_column": null,
            "grid_gap": null,
            "grid_row": null,
            "grid_template_areas": null,
            "grid_template_columns": null,
            "grid_template_rows": null,
            "height": null,
            "justify_content": null,
            "justify_items": null,
            "left": null,
            "margin": null,
            "max_height": null,
            "max_width": null,
            "min_height": null,
            "min_width": null,
            "object_fit": null,
            "object_position": null,
            "order": null,
            "overflow": null,
            "overflow_x": null,
            "overflow_y": null,
            "padding": null,
            "right": null,
            "top": null,
            "visibility": null,
            "width": null
          }
        },
        "df36b4fc7cb941bbb312000c4c5fa918": {
          "model_module": "@jupyter-widgets/controls",
          "model_name": "DescriptionStyleModel",
          "model_module_version": "1.5.0",
          "state": {
            "_model_module": "@jupyter-widgets/controls",
            "_model_module_version": "1.5.0",
            "_model_name": "DescriptionStyleModel",
            "_view_count": null,
            "_view_module": "@jupyter-widgets/base",
            "_view_module_version": "1.2.0",
            "_view_name": "StyleView",
            "description_width": ""
          }
        },
        "b124471b31ce4a20996dd1f4a7d969a2": {
          "model_module": "@jupyter-widgets/controls",
          "model_name": "HBoxModel",
          "model_module_version": "1.5.0",
          "state": {
            "_dom_classes": [],
            "_model_module": "@jupyter-widgets/controls",
            "_model_module_version": "1.5.0",
            "_model_name": "HBoxModel",
            "_view_count": null,
            "_view_module": "@jupyter-widgets/controls",
            "_view_module_version": "1.5.0",
            "_view_name": "HBoxView",
            "box_style": "",
            "children": [
              "IPY_MODEL_845f8d8d0b0c408bb7a6a6a0d5b263d3",
              "IPY_MODEL_b1442c47152f46a2aa4aed46495ac62a",
              "IPY_MODEL_494c980ca0d54176adf8229694a86b2b"
            ],
            "layout": "IPY_MODEL_1cebcdc202764fe4958c1fad52b7561a"
          }
        },
        "845f8d8d0b0c408bb7a6a6a0d5b263d3": {
          "model_module": "@jupyter-widgets/controls",
          "model_name": "HTMLModel",
          "model_module_version": "1.5.0",
          "state": {
            "_dom_classes": [],
            "_model_module": "@jupyter-widgets/controls",
            "_model_module_version": "1.5.0",
            "_model_name": "HTMLModel",
            "_view_count": null,
            "_view_module": "@jupyter-widgets/controls",
            "_view_module_version": "1.5.0",
            "_view_name": "HTMLView",
            "description": "",
            "description_tooltip": null,
            "layout": "IPY_MODEL_6c8d11719cde426c8922d4457c09ef95",
            "placeholder": "​",
            "style": "IPY_MODEL_f6fdb71ca58449ecbf769b291d5c050f",
            "value": "special_tokens_map.json: 100%"
          }
        },
        "b1442c47152f46a2aa4aed46495ac62a": {
          "model_module": "@jupyter-widgets/controls",
          "model_name": "FloatProgressModel",
          "model_module_version": "1.5.0",
          "state": {
            "_dom_classes": [],
            "_model_module": "@jupyter-widgets/controls",
            "_model_module_version": "1.5.0",
            "_model_name": "FloatProgressModel",
            "_view_count": null,
            "_view_module": "@jupyter-widgets/controls",
            "_view_module_version": "1.5.0",
            "_view_name": "ProgressView",
            "bar_style": "success",
            "description": "",
            "description_tooltip": null,
            "layout": "IPY_MODEL_acf4e71c26e8482692bc173e4baebea6",
            "max": 112,
            "min": 0,
            "orientation": "horizontal",
            "style": "IPY_MODEL_175cb3dbf0774818bc3c703983efa248",
            "value": 112
          }
        },
        "494c980ca0d54176adf8229694a86b2b": {
          "model_module": "@jupyter-widgets/controls",
          "model_name": "HTMLModel",
          "model_module_version": "1.5.0",
          "state": {
            "_dom_classes": [],
            "_model_module": "@jupyter-widgets/controls",
            "_model_module_version": "1.5.0",
            "_model_name": "HTMLModel",
            "_view_count": null,
            "_view_module": "@jupyter-widgets/controls",
            "_view_module_version": "1.5.0",
            "_view_name": "HTMLView",
            "description": "",
            "description_tooltip": null,
            "layout": "IPY_MODEL_6383ccdce029494fb2c7a4ef3d9d84f5",
            "placeholder": "​",
            "style": "IPY_MODEL_bda502b227084fccace4b09b67e93128",
            "value": " 112/112 [00:00&lt;00:00, 2.84kB/s]"
          }
        },
        "1cebcdc202764fe4958c1fad52b7561a": {
          "model_module": "@jupyter-widgets/base",
          "model_name": "LayoutModel",
          "model_module_version": "1.2.0",
          "state": {
            "_model_module": "@jupyter-widgets/base",
            "_model_module_version": "1.2.0",
            "_model_name": "LayoutModel",
            "_view_count": null,
            "_view_module": "@jupyter-widgets/base",
            "_view_module_version": "1.2.0",
            "_view_name": "LayoutView",
            "align_content": null,
            "align_items": null,
            "align_self": null,
            "border": null,
            "bottom": null,
            "display": null,
            "flex": null,
            "flex_flow": null,
            "grid_area": null,
            "grid_auto_columns": null,
            "grid_auto_flow": null,
            "grid_auto_rows": null,
            "grid_column": null,
            "grid_gap": null,
            "grid_row": null,
            "grid_template_areas": null,
            "grid_template_columns": null,
            "grid_template_rows": null,
            "height": null,
            "justify_content": null,
            "justify_items": null,
            "left": null,
            "margin": null,
            "max_height": null,
            "max_width": null,
            "min_height": null,
            "min_width": null,
            "object_fit": null,
            "object_position": null,
            "order": null,
            "overflow": null,
            "overflow_x": null,
            "overflow_y": null,
            "padding": null,
            "right": null,
            "top": null,
            "visibility": null,
            "width": null
          }
        },
        "6c8d11719cde426c8922d4457c09ef95": {
          "model_module": "@jupyter-widgets/base",
          "model_name": "LayoutModel",
          "model_module_version": "1.2.0",
          "state": {
            "_model_module": "@jupyter-widgets/base",
            "_model_module_version": "1.2.0",
            "_model_name": "LayoutModel",
            "_view_count": null,
            "_view_module": "@jupyter-widgets/base",
            "_view_module_version": "1.2.0",
            "_view_name": "LayoutView",
            "align_content": null,
            "align_items": null,
            "align_self": null,
            "border": null,
            "bottom": null,
            "display": null,
            "flex": null,
            "flex_flow": null,
            "grid_area": null,
            "grid_auto_columns": null,
            "grid_auto_flow": null,
            "grid_auto_rows": null,
            "grid_column": null,
            "grid_gap": null,
            "grid_row": null,
            "grid_template_areas": null,
            "grid_template_columns": null,
            "grid_template_rows": null,
            "height": null,
            "justify_content": null,
            "justify_items": null,
            "left": null,
            "margin": null,
            "max_height": null,
            "max_width": null,
            "min_height": null,
            "min_width": null,
            "object_fit": null,
            "object_position": null,
            "order": null,
            "overflow": null,
            "overflow_x": null,
            "overflow_y": null,
            "padding": null,
            "right": null,
            "top": null,
            "visibility": null,
            "width": null
          }
        },
        "f6fdb71ca58449ecbf769b291d5c050f": {
          "model_module": "@jupyter-widgets/controls",
          "model_name": "DescriptionStyleModel",
          "model_module_version": "1.5.0",
          "state": {
            "_model_module": "@jupyter-widgets/controls",
            "_model_module_version": "1.5.0",
            "_model_name": "DescriptionStyleModel",
            "_view_count": null,
            "_view_module": "@jupyter-widgets/base",
            "_view_module_version": "1.2.0",
            "_view_name": "StyleView",
            "description_width": ""
          }
        },
        "acf4e71c26e8482692bc173e4baebea6": {
          "model_module": "@jupyter-widgets/base",
          "model_name": "LayoutModel",
          "model_module_version": "1.2.0",
          "state": {
            "_model_module": "@jupyter-widgets/base",
            "_model_module_version": "1.2.0",
            "_model_name": "LayoutModel",
            "_view_count": null,
            "_view_module": "@jupyter-widgets/base",
            "_view_module_version": "1.2.0",
            "_view_name": "LayoutView",
            "align_content": null,
            "align_items": null,
            "align_self": null,
            "border": null,
            "bottom": null,
            "display": null,
            "flex": null,
            "flex_flow": null,
            "grid_area": null,
            "grid_auto_columns": null,
            "grid_auto_flow": null,
            "grid_auto_rows": null,
            "grid_column": null,
            "grid_gap": null,
            "grid_row": null,
            "grid_template_areas": null,
            "grid_template_columns": null,
            "grid_template_rows": null,
            "height": null,
            "justify_content": null,
            "justify_items": null,
            "left": null,
            "margin": null,
            "max_height": null,
            "max_width": null,
            "min_height": null,
            "min_width": null,
            "object_fit": null,
            "object_position": null,
            "order": null,
            "overflow": null,
            "overflow_x": null,
            "overflow_y": null,
            "padding": null,
            "right": null,
            "top": null,
            "visibility": null,
            "width": null
          }
        },
        "175cb3dbf0774818bc3c703983efa248": {
          "model_module": "@jupyter-widgets/controls",
          "model_name": "ProgressStyleModel",
          "model_module_version": "1.5.0",
          "state": {
            "_model_module": "@jupyter-widgets/controls",
            "_model_module_version": "1.5.0",
            "_model_name": "ProgressStyleModel",
            "_view_count": null,
            "_view_module": "@jupyter-widgets/base",
            "_view_module_version": "1.2.0",
            "_view_name": "StyleView",
            "bar_color": null,
            "description_width": ""
          }
        },
        "6383ccdce029494fb2c7a4ef3d9d84f5": {
          "model_module": "@jupyter-widgets/base",
          "model_name": "LayoutModel",
          "model_module_version": "1.2.0",
          "state": {
            "_model_module": "@jupyter-widgets/base",
            "_model_module_version": "1.2.0",
            "_model_name": "LayoutModel",
            "_view_count": null,
            "_view_module": "@jupyter-widgets/base",
            "_view_module_version": "1.2.0",
            "_view_name": "LayoutView",
            "align_content": null,
            "align_items": null,
            "align_self": null,
            "border": null,
            "bottom": null,
            "display": null,
            "flex": null,
            "flex_flow": null,
            "grid_area": null,
            "grid_auto_columns": null,
            "grid_auto_flow": null,
            "grid_auto_rows": null,
            "grid_column": null,
            "grid_gap": null,
            "grid_row": null,
            "grid_template_areas": null,
            "grid_template_columns": null,
            "grid_template_rows": null,
            "height": null,
            "justify_content": null,
            "justify_items": null,
            "left": null,
            "margin": null,
            "max_height": null,
            "max_width": null,
            "min_height": null,
            "min_width": null,
            "object_fit": null,
            "object_position": null,
            "order": null,
            "overflow": null,
            "overflow_x": null,
            "overflow_y": null,
            "padding": null,
            "right": null,
            "top": null,
            "visibility": null,
            "width": null
          }
        },
        "bda502b227084fccace4b09b67e93128": {
          "model_module": "@jupyter-widgets/controls",
          "model_name": "DescriptionStyleModel",
          "model_module_version": "1.5.0",
          "state": {
            "_model_module": "@jupyter-widgets/controls",
            "_model_module_version": "1.5.0",
            "_model_name": "DescriptionStyleModel",
            "_view_count": null,
            "_view_module": "@jupyter-widgets/base",
            "_view_module_version": "1.2.0",
            "_view_name": "StyleView",
            "description_width": ""
          }
        },
        "46c8542f70f94bed89ef8d8f2926a126": {
          "model_module": "@jupyter-widgets/controls",
          "model_name": "HBoxModel",
          "model_module_version": "1.5.0",
          "state": {
            "_dom_classes": [],
            "_model_module": "@jupyter-widgets/controls",
            "_model_module_version": "1.5.0",
            "_model_name": "HBoxModel",
            "_view_count": null,
            "_view_module": "@jupyter-widgets/controls",
            "_view_module_version": "1.5.0",
            "_view_name": "HBoxView",
            "box_style": "",
            "children": [
              "IPY_MODEL_5269cb1c04ca41eeae141b3282c78258",
              "IPY_MODEL_fd44e8755f8b4c90b151d31f987a0f2c",
              "IPY_MODEL_5a75c48f712d48be89f7b9a4f54b88a0"
            ],
            "layout": "IPY_MODEL_2f673287a94c4c41bc502075d20934a0"
          }
        },
        "5269cb1c04ca41eeae141b3282c78258": {
          "model_module": "@jupyter-widgets/controls",
          "model_name": "HTMLModel",
          "model_module_version": "1.5.0",
          "state": {
            "_dom_classes": [],
            "_model_module": "@jupyter-widgets/controls",
            "_model_module_version": "1.5.0",
            "_model_name": "HTMLModel",
            "_view_count": null,
            "_view_module": "@jupyter-widgets/controls",
            "_view_module_version": "1.5.0",
            "_view_name": "HTMLView",
            "description": "",
            "description_tooltip": null,
            "layout": "IPY_MODEL_344e9f145422466dae0212deac8bc38f",
            "placeholder": "​",
            "style": "IPY_MODEL_ee64cfbf34ee4ccbbf50ee5d1303c36c",
            "value": "pytorch_model.bin: 100%"
          }
        },
        "fd44e8755f8b4c90b151d31f987a0f2c": {
          "model_module": "@jupyter-widgets/controls",
          "model_name": "FloatProgressModel",
          "model_module_version": "1.5.0",
          "state": {
            "_dom_classes": [],
            "_model_module": "@jupyter-widgets/controls",
            "_model_module_version": "1.5.0",
            "_model_name": "FloatProgressModel",
            "_view_count": null,
            "_view_module": "@jupyter-widgets/controls",
            "_view_module_version": "1.5.0",
            "_view_name": "ProgressView",
            "bar_style": "success",
            "description": "",
            "description_tooltip": null,
            "layout": "IPY_MODEL_c36816710d494223a4bbbd03f7b2b45d",
            "max": 439479419,
            "min": 0,
            "orientation": "horizontal",
            "style": "IPY_MODEL_8cebce8a7e634520b5ab2d6411267b3c",
            "value": 439479419
          }
        },
        "5a75c48f712d48be89f7b9a4f54b88a0": {
          "model_module": "@jupyter-widgets/controls",
          "model_name": "HTMLModel",
          "model_module_version": "1.5.0",
          "state": {
            "_dom_classes": [],
            "_model_module": "@jupyter-widgets/controls",
            "_model_module_version": "1.5.0",
            "_model_name": "HTMLModel",
            "_view_count": null,
            "_view_module": "@jupyter-widgets/controls",
            "_view_module_version": "1.5.0",
            "_view_name": "HTMLView",
            "description": "",
            "description_tooltip": null,
            "layout": "IPY_MODEL_6765eac926ad4570b80474a68afc3493",
            "placeholder": "​",
            "style": "IPY_MODEL_35963db3a9b2468aa52bf09c5d90e775",
            "value": " 439M/439M [00:02&lt;00:00, 178MB/s]"
          }
        },
        "2f673287a94c4c41bc502075d20934a0": {
          "model_module": "@jupyter-widgets/base",
          "model_name": "LayoutModel",
          "model_module_version": "1.2.0",
          "state": {
            "_model_module": "@jupyter-widgets/base",
            "_model_module_version": "1.2.0",
            "_model_name": "LayoutModel",
            "_view_count": null,
            "_view_module": "@jupyter-widgets/base",
            "_view_module_version": "1.2.0",
            "_view_name": "LayoutView",
            "align_content": null,
            "align_items": null,
            "align_self": null,
            "border": null,
            "bottom": null,
            "display": null,
            "flex": null,
            "flex_flow": null,
            "grid_area": null,
            "grid_auto_columns": null,
            "grid_auto_flow": null,
            "grid_auto_rows": null,
            "grid_column": null,
            "grid_gap": null,
            "grid_row": null,
            "grid_template_areas": null,
            "grid_template_columns": null,
            "grid_template_rows": null,
            "height": null,
            "justify_content": null,
            "justify_items": null,
            "left": null,
            "margin": null,
            "max_height": null,
            "max_width": null,
            "min_height": null,
            "min_width": null,
            "object_fit": null,
            "object_position": null,
            "order": null,
            "overflow": null,
            "overflow_x": null,
            "overflow_y": null,
            "padding": null,
            "right": null,
            "top": null,
            "visibility": null,
            "width": null
          }
        },
        "344e9f145422466dae0212deac8bc38f": {
          "model_module": "@jupyter-widgets/base",
          "model_name": "LayoutModel",
          "model_module_version": "1.2.0",
          "state": {
            "_model_module": "@jupyter-widgets/base",
            "_model_module_version": "1.2.0",
            "_model_name": "LayoutModel",
            "_view_count": null,
            "_view_module": "@jupyter-widgets/base",
            "_view_module_version": "1.2.0",
            "_view_name": "LayoutView",
            "align_content": null,
            "align_items": null,
            "align_self": null,
            "border": null,
            "bottom": null,
            "display": null,
            "flex": null,
            "flex_flow": null,
            "grid_area": null,
            "grid_auto_columns": null,
            "grid_auto_flow": null,
            "grid_auto_rows": null,
            "grid_column": null,
            "grid_gap": null,
            "grid_row": null,
            "grid_template_areas": null,
            "grid_template_columns": null,
            "grid_template_rows": null,
            "height": null,
            "justify_content": null,
            "justify_items": null,
            "left": null,
            "margin": null,
            "max_height": null,
            "max_width": null,
            "min_height": null,
            "min_width": null,
            "object_fit": null,
            "object_position": null,
            "order": null,
            "overflow": null,
            "overflow_x": null,
            "overflow_y": null,
            "padding": null,
            "right": null,
            "top": null,
            "visibility": null,
            "width": null
          }
        },
        "ee64cfbf34ee4ccbbf50ee5d1303c36c": {
          "model_module": "@jupyter-widgets/controls",
          "model_name": "DescriptionStyleModel",
          "model_module_version": "1.5.0",
          "state": {
            "_model_module": "@jupyter-widgets/controls",
            "_model_module_version": "1.5.0",
            "_model_name": "DescriptionStyleModel",
            "_view_count": null,
            "_view_module": "@jupyter-widgets/base",
            "_view_module_version": "1.2.0",
            "_view_name": "StyleView",
            "description_width": ""
          }
        },
        "c36816710d494223a4bbbd03f7b2b45d": {
          "model_module": "@jupyter-widgets/base",
          "model_name": "LayoutModel",
          "model_module_version": "1.2.0",
          "state": {
            "_model_module": "@jupyter-widgets/base",
            "_model_module_version": "1.2.0",
            "_model_name": "LayoutModel",
            "_view_count": null,
            "_view_module": "@jupyter-widgets/base",
            "_view_module_version": "1.2.0",
            "_view_name": "LayoutView",
            "align_content": null,
            "align_items": null,
            "align_self": null,
            "border": null,
            "bottom": null,
            "display": null,
            "flex": null,
            "flex_flow": null,
            "grid_area": null,
            "grid_auto_columns": null,
            "grid_auto_flow": null,
            "grid_auto_rows": null,
            "grid_column": null,
            "grid_gap": null,
            "grid_row": null,
            "grid_template_areas": null,
            "grid_template_columns": null,
            "grid_template_rows": null,
            "height": null,
            "justify_content": null,
            "justify_items": null,
            "left": null,
            "margin": null,
            "max_height": null,
            "max_width": null,
            "min_height": null,
            "min_width": null,
            "object_fit": null,
            "object_position": null,
            "order": null,
            "overflow": null,
            "overflow_x": null,
            "overflow_y": null,
            "padding": null,
            "right": null,
            "top": null,
            "visibility": null,
            "width": null
          }
        },
        "8cebce8a7e634520b5ab2d6411267b3c": {
          "model_module": "@jupyter-widgets/controls",
          "model_name": "ProgressStyleModel",
          "model_module_version": "1.5.0",
          "state": {
            "_model_module": "@jupyter-widgets/controls",
            "_model_module_version": "1.5.0",
            "_model_name": "ProgressStyleModel",
            "_view_count": null,
            "_view_module": "@jupyter-widgets/base",
            "_view_module_version": "1.2.0",
            "_view_name": "StyleView",
            "bar_color": null,
            "description_width": ""
          }
        },
        "6765eac926ad4570b80474a68afc3493": {
          "model_module": "@jupyter-widgets/base",
          "model_name": "LayoutModel",
          "model_module_version": "1.2.0",
          "state": {
            "_model_module": "@jupyter-widgets/base",
            "_model_module_version": "1.2.0",
            "_model_name": "LayoutModel",
            "_view_count": null,
            "_view_module": "@jupyter-widgets/base",
            "_view_module_version": "1.2.0",
            "_view_name": "LayoutView",
            "align_content": null,
            "align_items": null,
            "align_self": null,
            "border": null,
            "bottom": null,
            "display": null,
            "flex": null,
            "flex_flow": null,
            "grid_area": null,
            "grid_auto_columns": null,
            "grid_auto_flow": null,
            "grid_auto_rows": null,
            "grid_column": null,
            "grid_gap": null,
            "grid_row": null,
            "grid_template_areas": null,
            "grid_template_columns": null,
            "grid_template_rows": null,
            "height": null,
            "justify_content": null,
            "justify_items": null,
            "left": null,
            "margin": null,
            "max_height": null,
            "max_width": null,
            "min_height": null,
            "min_width": null,
            "object_fit": null,
            "object_position": null,
            "order": null,
            "overflow": null,
            "overflow_x": null,
            "overflow_y": null,
            "padding": null,
            "right": null,
            "top": null,
            "visibility": null,
            "width": null
          }
        },
        "35963db3a9b2468aa52bf09c5d90e775": {
          "model_module": "@jupyter-widgets/controls",
          "model_name": "DescriptionStyleModel",
          "model_module_version": "1.5.0",
          "state": {
            "_model_module": "@jupyter-widgets/controls",
            "_model_module_version": "1.5.0",
            "_model_name": "DescriptionStyleModel",
            "_view_count": null,
            "_view_module": "@jupyter-widgets/base",
            "_view_module_version": "1.2.0",
            "_view_name": "StyleView",
            "description_width": ""
          }
        }
      }
    }
  },
  "cells": [
    {
      "cell_type": "markdown",
      "source": [
        "# Reconocimiento de Entidades\n",
        "\n",
        "## Introducción\n",
        "\n",
        "El reconocimiento de entidades nombradas (NER) es una excelente herramienta para identificar personajes y relaciones en un texto, ya que permite localizar y clasificar entidades como nombres de personas, lugares y organizaciones. Para obtener información más compleja, como relaciones entre personajes, se puede combinar NER con otras técnicas de procesamiento de lenguaje natural.\n",
        "\n"
      ],
      "metadata": {
        "id": "Z3txOoW-9T5A"
      }
    },
    {
      "cell_type": "markdown",
      "source": [
        "\n",
        "## 1. Identificación de Personajes (Entidades)\n",
        "Para identificar los personajes en un texto utilizando NER, puedes seguir los siguientes pasos:\n",
        "\n",
        "1. **Preprocesamiento del texto**:\n",
        "   - **Limpieza**: Remueve caracteres especiales, URLs, y elementos que no aporten información (e.g., puntuación innecesaria).\n",
        "   - **Tokenización**: Divide el texto en oraciones o palabras para facilitar el procesamiento.\n",
        "\n",
        "2. **Aplicación del Modelo de NER**:\n",
        "   - Utiliza una herramienta o librería para realizar la identificación de las entidades.\n",
        "   - Librerías como **spaCy**, **Stanford NER**, o los modelos **Transformers** de Hugging Face (e.g., BERT o BETO para español) son buenas opciones para esta tarea.\n",
        "\n",
        "   Por ejemplo, con `spaCy` podrías hacer lo siguiente:\n",
        "\n"
      ],
      "metadata": {
        "id": "y_HoyyCW9Tl-"
      }
    },
    {
      "cell_type": "code",
      "source": [
        "!pip install spacy --quiet\n",
        "!python -m spacy download es_core_news_sm --quiet"
      ],
      "metadata": {
        "colab": {
          "base_uri": "https://localhost:8080/"
        },
        "id": "zeRZgLvhEDLw",
        "outputId": "2aee2b47-00b8-483c-dbee-644b541a4f14"
      },
      "execution_count": 1,
      "outputs": [
        {
          "output_type": "stream",
          "name": "stdout",
          "text": [
            "\u001b[2K     \u001b[90m━━━━━━━━━━━━━━━━━━━━━━━━━━━━━━━━━━━━━━━━\u001b[0m \u001b[32m12.9/12.9 MB\u001b[0m \u001b[31m52.8 MB/s\u001b[0m eta \u001b[36m0:00:00\u001b[0m\n",
            "\u001b[?25h\u001b[38;5;2m✔ Download and installation successful\u001b[0m\n",
            "You can now load the package via spacy.load('es_core_news_sm')\n",
            "\u001b[38;5;3m⚠ Restart to reload dependencies\u001b[0m\n",
            "If you are in a Jupyter or Colab notebook, you may need to restart Python in\n",
            "order to load all the package's dependencies. You can do this by selecting the\n",
            "'Restart kernel' or 'Restart runtime' option.\n"
          ]
        }
      ]
    },
    {
      "cell_type": "code",
      "source": [
        "import spacy\n",
        "\n",
        "# Cargar el modelo en español de spaCy\n",
        "nlp = spacy.load(\"es_core_news_sm\")"
      ],
      "metadata": {
        "id": "vvsCVvL87N-M"
      },
      "execution_count": null,
      "outputs": []
    },
    {
      "cell_type": "code",
      "source": [
        "# Procesar el texto\n",
        "texto = \"Pablo y Sancho Panza viajaron por La Mancha buscando aventuras.\"\n",
        "doc = nlp(texto)\n",
        "\n",
        "# Identificar y mostrar entidades\n",
        "for entidad in doc.ents:\n",
        "  #if entidad.label_ == \"PER\":  # Filtra solo entidades de tipo 'Persona'\n",
        "    print(f\"Entidad: { entidad.text }, Tipo: { entidad.label_ }\")"
      ],
      "metadata": {
        "colab": {
          "base_uri": "https://localhost:8080/"
        },
        "id": "M81t9QQWDRUu",
        "outputId": "a76aa1f7-6ba4-4ccf-8da2-7a4c2f7367b0"
      },
      "execution_count": 5,
      "outputs": [
        {
          "output_type": "stream",
          "name": "stdout",
          "text": [
            "Entidad: Pablo, Tipo: PER\n",
            "Entidad: Sancho Panza, Tipo: PER\n",
            "Entidad: La Mancha, Tipo: LOC\n"
          ]
        }
      ]
    },
    {
      "cell_type": "markdown",
      "source": [
        "\n",
        "Este script debería identificar \"Don Quijote de la Mancha\" y \"Sancho Panza\" como entidades del tipo `PER` (persona), pero identifica únicamente a Sancho Panza.\n",
        "\n",
        "## 2. Identificación de Relaciones entre Personajes\n",
        "Para ir más allá y detectar las relaciones entre personajes, puedes utilizar técnicas adicionales, como la extracción de relaciones. Aquí te explico cómo hacerlo:\n",
        "\n",
        "### 2.1 Análisis de Co-Ocurrencia\n",
        "Una manera simple de detectar relaciones entre personajes es **analizar la co-ocurrencia** de los nombres dentro de las mismas oraciones o párrafos. Si dos personajes aparecen frecuentemente en la misma oración, es posible que haya una relación significativa entre ellos.\n",
        "\n",
        "Pasos a seguir:\n",
        "1. **Dividir el texto en oraciones**.\n",
        "2. **Detectar personajes en cada oración** utilizando NER.\n",
        "3. **Registrar las co-ocurrencias**. Si dos personajes aparecen juntos, se establece una relación.\n",
        "\n",
        "Por ejemplo:"
      ],
      "metadata": {
        "id": "6VcmqxUvDJLY"
      }
    },
    {
      "cell_type": "code",
      "source": [
        "import spacy\n",
        "from collections import defaultdict\n",
        "\n",
        "# Cargar modelo en español\n",
        "nlp = spacy.load(\"es_core_news_sm\")"
      ],
      "metadata": {
        "id": "fmpUS2H17h5u"
      },
      "execution_count": 6,
      "outputs": []
    },
    {
      "cell_type": "code",
      "source": [
        "# Diccionario para registrar relaciones\n",
        "relaciones = defaultdict(set)\n",
        "\n",
        "# Procesar el texto\n",
        "texto = \"Don Quijote de la Mancha y Sancho Panza viajaron por La Mancha. Don Quijote era valiente, mientras que Sancho Panza lo acompañaba como su fiel escudero.\"\n",
        "doc = nlp(texto)\n",
        "\n",
        "for sent in doc.sents:  # Iterar sobre oraciones\n",
        "\n",
        "  # tomar los textos de las entidades del tipo 'persona' o 'miscelaneo'\n",
        "  personajes = [ent.text for ent in sent.ents if (ent.label_ == \"PER\" or ent.label_ == \"MISC\")]\n",
        "\n",
        "  for i in range(len(personajes)):\n",
        "    for j in range(i + 1, len(personajes)):\n",
        "      relaciones[personajes[i]].add(personajes[j])\n",
        "      relaciones[personajes[j]].add(personajes[i])\n",
        "\n",
        "# Mostrar las relaciones encontradas\n",
        "for personaje, relacionados in relaciones.items():\n",
        "  print(f\"{ personaje } está relacionado con { ', '.join(relacionados) }\")"
      ],
      "metadata": {
        "colab": {
          "base_uri": "https://localhost:8080/"
        },
        "id": "HQ9QjhHFDEjI",
        "outputId": "e61fdd5c-70a5-4547-c94e-dc7ce38d80b7"
      },
      "execution_count": 8,
      "outputs": [
        {
          "output_type": "stream",
          "name": "stdout",
          "text": [
            "Don Quijote de la Mancha está relacionado con Sancho Panza\n",
            "Sancho Panza está relacionado con Don Quijote, Don Quijote de la Mancha\n",
            "Don Quijote está relacionado con Sancho Panza\n"
          ]
        }
      ]
    },
    {
      "cell_type": "markdown",
      "source": [
        "\n",
        "Este script permitirá detectar la co-ocurrencia de personajes en las mismas oraciones, indicando que existe algún tipo de relación entre ellos.\n",
        "\n",
        "### 2.2 Extracción de Relaciones Usando Dependencias Sintácticas\n",
        "Otra forma de extraer relaciones entre personajes es utilizar **análisis de dependencias sintácticas**. Esto ayuda a entender el contexto en el que dos entidades aparecen, e incluso a determinar el tipo de relación.\n",
        "\n",
        "Por ejemplo, si el texto dice: \"Don Quijote ayudó a Sancho Panza\", se podría extraer que hay una relación de \"ayuda\" entre Don Quijote y Sancho Panza.\n",
        "\n",
        "Pasos a seguir:\n",
        "1. Utiliza una librería como **spaCy** para obtener las dependencias sintácticas de las oraciones.\n",
        "2. Busca patrones en las dependencias para identificar acciones (verbos) que conecten a las entidades.\n",
        "\n",
        "Por ejemplo:"
      ],
      "metadata": {
        "id": "WnAYGygTC9bo"
      }
    },
    {
      "cell_type": "code",
      "source": [
        "# Procesar el texto\n",
        "doc = nlp(\"Pablo ayuda a Sancho Panza en su aventura.\")\n",
        "\n",
        "# Identificar y mostrar entidades\n",
        "for entidad in doc.ents:\n",
        "  #if entidad.label_ == \"PER\":  # Filtra solo entidades de tipo 'Persona'\n",
        "    print(f\"Entidad: { entidad.text }, Tipo: { entidad.label_ }\")"
      ],
      "metadata": {
        "colab": {
          "base_uri": "https://localhost:8080/"
        },
        "id": "26tepMFAGA4V",
        "outputId": "ae1d5636-0d92-4d13-c8c8-8439b3557aa5"
      },
      "execution_count": 9,
      "outputs": [
        {
          "output_type": "stream",
          "name": "stdout",
          "text": [
            "Entidad: Pablo, Tipo: PER\n",
            "Entidad: Sancho Panza, Tipo: PER\n"
          ]
        }
      ]
    },
    {
      "cell_type": "code",
      "source": [
        "# Buscar relaciones a través de verbos\n",
        "for token in doc:\n",
        "  if token.pos_ == \"VERB\":                                    # buscar verbos\n",
        "    sujeto = [w for w in token.children if w.dep_ == \"nsubj\"] # sujeto del verbo\n",
        "    objeto = [w for w in token.children if w.dep_ == \"dobj\"]  # objeto del verbo\n",
        "    if sujeto and objeto:\n",
        "      print(f\"{ sujeto[0].text } { token.text } { objeto[0].text }\")"
      ],
      "metadata": {
        "id": "eYL6my9QC4DD"
      },
      "execution_count": 10,
      "outputs": []
    },
    {
      "cell_type": "markdown",
      "source": [
        "\n",
        "Este script buscará relaciones explícitas expresadas mediante verbos en las oraciones, lo cual proporciona una forma más profunda de analizar la conexión entre personajes."
      ],
      "metadata": {
        "id": "o-PSC97dCVlh"
      }
    },
    {
      "cell_type": "markdown",
      "source": [
        "\n",
        "## 3. Representación de Relaciones\n",
        "\n",
        "Una vez que hayas identificado los personajes y sus relaciones, puedes **visualizar estas relaciones** utilizando una red de grafos. Para esto, puedes usar una herramienta como **NetworkX** en Python:"
      ],
      "metadata": {
        "id": "SQLxQKZ6CmiA"
      }
    },
    {
      "cell_type": "code",
      "source": [
        "import matplotlib.pyplot as plt\n",
        "import networkx as nx\n",
        "\n",
        "# Crear un grafo\n",
        "G = nx.Graph()\n",
        "\n",
        "# Agregar nodos (personajes)\n",
        "for personaje in relaciones:\n",
        "  G.add_node(personaje)\n",
        "\n",
        "# Agregar aristas (relaciones)\n",
        "for personaje, relacionados in relaciones.items():\n",
        "  for relacionado in relacionados:\n",
        "    G.add_edge(personaje, relacionado)\n",
        "\n",
        "# Dibujar el grafo\n",
        "plt.figure(figsize=(8, 5))\n",
        "nx.draw(G, with_labels=True, node_size=3000, node_color=\"skyblue\", font_size=10, font_weight=\"bold\")\n",
        "plt.show()"
      ],
      "metadata": {
        "colab": {
          "base_uri": "https://localhost:8080/",
          "height": 536
        },
        "id": "uqhcnlB09VD3",
        "outputId": "6c32c8bd-4724-47c3-8805-a56fbe0022a4"
      },
      "execution_count": 11,
      "outputs": [
        {
          "output_type": "display_data",
          "data": {
            "text/plain": [
              "<Figure size 800x500 with 1 Axes>"
            ],
            "image/png": "[encoded data removed]"
          },
          "metadata": {}
        }
      ]
    },
    {
      "cell_type": "markdown",
      "source": [
        "\n",
        "Este grafo ayudará a visualizar qué personajes están relacionados entre sí y cómo se conectan en la narrativa.\n"
      ],
      "metadata": {
        "id": "oxOGuoi9CVZ9"
      }
    },
    {
      "cell_type": "markdown",
      "source": [
        "# Usando Transformers"
      ],
      "metadata": {
        "id": "J5vb7V1cGtLu"
      }
    },
    {
      "cell_type": "markdown",
      "source": [
        "## Objetivo del Tutorial\n",
        "El objetivo es enseñar cómo usar **Transformers** de Hugging Face para realizar tareas de reconocimiento de entidades nombradas (NER) en textos en español."
      ],
      "metadata": {
        "id": "jpw5xc7RGytt"
      }
    },
    {
      "cell_type": "markdown",
      "source": [
        "### Paso 1: Preparación del Entorno\n",
        "\n",
        "Primero, debemos configurar el entorno de Google Colab. Asegúrate de tener instalado `transformers` y `datasets`, dos librerías fundamentales para trabajar con modelos de Transformers y datos.\n",
        "\n",
        "Ejecuta el siguiente código en Google Colab para instalar las dependencias necesarias:"
      ],
      "metadata": {
        "id": "TKn5As3g-YDb"
      }
    },
    {
      "cell_type": "code",
      "source": [
        "!pip install transformers datasets --quiet"
      ],
      "metadata": {
        "id": "zrLdn05hHqS3"
      },
      "execution_count": 12,
      "outputs": []
    },
    {
      "cell_type": "markdown",
      "source": [
        "### Paso 2: Importar Librerías\n",
        "\n",
        "Importemos las librerías necesarias para trabajar con el modelo y preparar nuestro texto:"
      ],
      "metadata": {
        "id": "jbOkGmpZHmJY"
      }
    },
    {
      "cell_type": "code",
      "source": [
        "import numpy as np\n",
        "import torch\n",
        "from transformers import AutoTokenizer, AutoModelForTokenClassification\n",
        "from transformers import pipeline"
      ],
      "metadata": {
        "id": "f2jLc-qUHiT5"
      },
      "execution_count": 13,
      "outputs": []
    },
    {
      "cell_type": "markdown",
      "source": [
        "### Paso 3: Cargar el Modelo BETO para NER\n",
        "\n",
        "Utilizaremos el modelo **BETO**, que es un modelo BERT entrenado específicamente en español. BETO tiene una versión para clasificación de entidades (`d4data/beto-finetuned-ner`) que usaremos para identificar entidades nombradas.\n",
        "\n",
        "Cargamos el modelo y el tokenizador asociado:\n"
      ],
      "metadata": {
        "id": "Zn2F88fgHhPK"
      }
    },
    {
      "cell_type": "code",
      "source": [
        "# Nombre del modelo entrenado para NER en español\n",
        "modelo_ner = \"mrm8488/bert-spanish-cased-finetuned-ner\"\n",
        "\n",
        "# Cargar el tokenizador y el modelo para NER\n",
        "tokenizer = AutoTokenizer.from_pretrained(modelo_ner)\n",
        "model = AutoModelForTokenClassification.from_pretrained(modelo_ner)\n"
      ],
      "metadata": {
        "colab": {
          "base_uri": "https://localhost:8080/",
          "height": 358,
          "referenced_widgets": [
            "ea18f486865249d19129ccdeb17998e5",
            "261511e304a543f3b9a350a3da2db9b7",
            "95973d10ab9d4baaae04a27f28a57f8b",
            "deb205b00e114249aa1082999539fd43",
            "ed889cbd99f1480fb45e0c40633366d3",
            "97062db4441d43348abb409325ad32db",
            "ab6c7698b46d45a2a30b305176439f33",
            "6ffb5408d05548b1a229192ce42546b4",
            "bbd9d9b49d89447ab01f24e3b144c31d",
            "47dd7da7855a425c92d10b313e61eca5",
            "0607eb3a3dcf4869a111e4886b7390c2",
            "f12f35c2366d45fe89827859ee921c27",
            "2fd7ea4aa6014e4d863b2e50727f7939",
            "8eff019ed39543e48ff2e2ef4665fa0f",
            "976188b16eca4aa3a0143e68baafbeb6",
            "82b95f14d9bd491e9f682d8e52974215",
            "8646d0fa6d9140309e00656d222711cc",
            "1f576af31a344d5d8cf64971c494f094",
            "02a3a8ca9f5e43fbb51d06c423ecaf99",
            "ca7d887e879048bca59117bd7dcc49b5",
            "caeb231511aa4075ae4ce468e7a1929c",
            "923bb55fb937432484f23d6f903631d7",
            "b3640a0e58f6459ba3ce3ddb00579fde",
            "42e96d2a9aed4d8e9a1c49d815505940",
            "0aedbb4bef5f4873bf6f821e10d8e682",
            "1a298da13bdc47118e49987bd86d1250",
            "77e1c7bfe06d4a079c3b3f8d92ebc27b",
            "6f184431f6ca4804a759fa99337e93d5",
            "a3ce237ebb514c44b83460a10303281c",
            "1847fa792d2f4d9fb0fd406cf733ba91",
            "677a81387556429280ae8ebfbcce4db6",
            "fdddb22a923a42dc9ac315fc505349bf",
            "df36b4fc7cb941bbb312000c4c5fa918",
            "b124471b31ce4a20996dd1f4a7d969a2",
            "845f8d8d0b0c408bb7a6a6a0d5b263d3",
            "b1442c47152f46a2aa4aed46495ac62a",
            "494c980ca0d54176adf8229694a86b2b",
            "1cebcdc202764fe4958c1fad52b7561a",
            "6c8d11719cde426c8922d4457c09ef95",
            "f6fdb71ca58449ecbf769b291d5c050f",
            "acf4e71c26e8482692bc173e4baebea6",
            "175cb3dbf0774818bc3c703983efa248",
            "6383ccdce029494fb2c7a4ef3d9d84f5",
            "bda502b227084fccace4b09b67e93128",
            "46c8542f70f94bed89ef8d8f2926a126",
            "5269cb1c04ca41eeae141b3282c78258",
            "fd44e8755f8b4c90b151d31f987a0f2c",
            "5a75c48f712d48be89f7b9a4f54b88a0",
            "2f673287a94c4c41bc502075d20934a0",
            "344e9f145422466dae0212deac8bc38f",
            "ee64cfbf34ee4ccbbf50ee5d1303c36c",
            "c36816710d494223a4bbbd03f7b2b45d",
            "8cebce8a7e634520b5ab2d6411267b3c",
            "6765eac926ad4570b80474a68afc3493",
            "35963db3a9b2468aa52bf09c5d90e775"
          ]
        },
        "id": "qspIWvH3Ha52",
        "outputId": "3b897eaa-1a04-41db-d5fe-6447b4590037",
        "collapsed": true
      },
      "execution_count": 14,
      "outputs": [
        {
          "output_type": "stream",
          "name": "stderr",
          "text": [
            "/usr/local/lib/python3.11/dist-packages/huggingface_hub/utils/_auth.py:94: UserWarning: \n",
            "The secret `HF_TOKEN` does not exist in your Colab secrets.\n",
            "To authenticate with the Hugging Face Hub, create a token in your settings tab (https://huggingface.co/settings/tokens), set it as secret in your Google Colab and restart your session.\n",
            "You will be able to reuse this secret in all of your notebooks.\n",
            "Please note that authentication is recommended but still optional to access public models or datasets.\n",
            "  warnings.warn(\n"
          ]
        },
        {
          "output_type": "display_data",
          "data": {
            "text/plain": [
              "tokenizer_config.json:   0%|          | 0.00/136 [00:00<?, ?B/s]"
            ],
            "application/vnd.jupyter.widget-view+json": {
              "version_major": 2,
              "version_minor": 0,
              "model_id": "ea18f486865249d19129ccdeb17998e5"
            }
          },
          "metadata": {}
        },
        {
          "output_type": "display_data",
          "data": {
            "text/plain": [
              "config.json:   0%|          | 0.00/829 [00:00<?, ?B/s]"
            ],
            "application/vnd.jupyter.widget-view+json": {
              "version_major": 2,
              "version_minor": 0,
              "model_id": "f12f35c2366d45fe89827859ee921c27"
            }
          },
          "metadata": {}
        },
        {
          "output_type": "display_data",
          "data": {
            "text/plain": [
              "vocab.txt:   0%|          | 0.00/242k [00:00<?, ?B/s]"
            ],
            "application/vnd.jupyter.widget-view+json": {
              "version_major": 2,
              "version_minor": 0,
              "model_id": "b3640a0e58f6459ba3ce3ddb00579fde"
            }
          },
          "metadata": {}
        },
        {
          "output_type": "display_data",
          "data": {
            "text/plain": [
              "special_tokens_map.json:   0%|          | 0.00/112 [00:00<?, ?B/s]"
            ],
            "application/vnd.jupyter.widget-view+json": {
              "version_major": 2,
              "version_minor": 0,
              "model_id": "b124471b31ce4a20996dd1f4a7d969a2"
            }
          },
          "metadata": {}
        },
        {
          "output_type": "display_data",
          "data": {
            "text/plain": [
              "pytorch_model.bin:   0%|          | 0.00/439M [00:00<?, ?B/s]"
            ],
            "application/vnd.jupyter.widget-view+json": {
              "version_major": 2,
              "version_minor": 0,
              "model_id": "46c8542f70f94bed89ef8d8f2926a126"
            }
          },
          "metadata": {}
        },
        {
          "output_type": "stream",
          "name": "stderr",
          "text": [
            "Some weights of the model checkpoint at mrm8488/bert-spanish-cased-finetuned-ner were not used when initializing BertForTokenClassification: ['bert.pooler.dense.bias', 'bert.pooler.dense.weight']\n",
            "- This IS expected if you are initializing BertForTokenClassification from the checkpoint of a model trained on another task or with another architecture (e.g. initializing a BertForSequenceClassification model from a BertForPreTraining model).\n",
            "- This IS NOT expected if you are initializing BertForTokenClassification from the checkpoint of a model that you expect to be exactly identical (initializing a BertForSequenceClassification model from a BertForSequenceClassification model).\n"
          ]
        }
      ]
    },
    {
      "cell_type": "markdown",
      "source": [
        "### Paso 4: Crear un Pipeline para NER\n",
        "\n",
        "Para facilitar el uso del modelo y el tokenizador, utilizaremos un `pipeline` de Hugging Face para el reconocimiento de entidades nombradas.\n"
      ],
      "metadata": {
        "id": "t33a8brgHXc1"
      }
    },
    {
      "cell_type": "code",
      "source": [
        "# Crear el pipeline de NER\n",
        "nlp_ner = pipeline(\"ner\", model=model, tokenizer=tokenizer, aggregation_strategy=\"simple\")"
      ],
      "metadata": {
        "id": "zScpBMKHHUbQ",
        "colab": {
          "base_uri": "https://localhost:8080/"
        },
        "outputId": "07650a0d-a972-4a0d-e109-91f3f12e43c7"
      },
      "execution_count": 16,
      "outputs": [
        {
          "output_type": "stream",
          "name": "stderr",
          "text": [
            "Device set to use cpu\n"
          ]
        }
      ]
    },
    {
      "cell_type": "markdown",
      "source": [
        "La opción `aggregation_strategy=\"simple\"` permite que el pipeline agrupe automáticamente las entidades que corresponden a un mismo nombre (por ejemplo, las palabras de un nombre compuesto)."
      ],
      "metadata": {
        "id": "41Oo1Sh8AemX"
      }
    },
    {
      "cell_type": "markdown",
      "source": [
        "### Paso 5: Probar el Pipeline con un Texto en Español\n",
        "\n",
        "Definimos un texto en español para probar nuestro pipeline. Puedes cambiar el texto según tus necesidades.\n"
      ],
      "metadata": {
        "id": "pxT5eoTxHPd1"
      }
    },
    {
      "cell_type": "code",
      "source": [
        "# Texto para probar el reconocimiento de entidades\n",
        "texto = \"\"\"\n",
        "Don Quijote de la Mancha y Sancho Panza viajaron juntos en busca de aventuras.\n",
        "Cervantes escribió este libro en España, donde describe sus aventuras en la región de La Mancha.\n",
        "En el camino se encontraron con muchos personajes, incluyendo al Duque y a la Duquesa.\n",
        "\"\"\"\n",
        "\n",
        "# Aplicar el modelo de NER al texto\n",
        "entidades = nlp_ner(texto)\n",
        "\n",
        "# Imprimir los resultados\n",
        "for entidad in entidades:\n",
        "  print(f\"Entidad: { entidad['word'] }, Tipo: { entidad['entity_group'] }, Score: {entidad['score']:.2f}\")"
      ],
      "metadata": {
        "colab": {
          "base_uri": "https://localhost:8080/"
        },
        "id": "qEhvrdbcHKJQ",
        "outputId": "abd425b4-19fe-4655-ccdd-433602df3753"
      },
      "execution_count": 31,
      "outputs": [
        {
          "output_type": "stream",
          "name": "stdout",
          "text": [
            "Entidad: Don Quijote de la Mancha, Tipo: PER, Score: 0.99\n",
            "Entidad: Sancho Panza, Tipo: PER, Score: 1.00\n",
            "Entidad: Cervantes, Tipo: PER, Score: 0.96\n",
            "Entidad: España, Tipo: LOC, Score: 1.00\n",
            "Entidad: La Mancha, Tipo: LOC, Score: 1.00\n",
            "Entidad: Duque, Tipo: PER, Score: 1.00\n",
            "Entidad: Duquesa, Tipo: PER, Score: 0.76\n"
          ]
        }
      ]
    },
    {
      "cell_type": "markdown",
      "source": [
        "### Paso 6: Interpretar los Resultados\n",
        "\n",
        "El pipeline devuelve una lista de diccionarios, donde cada diccionario contiene:\n",
        "\n",
        "- **`word`**: El fragmento del texto identificado como una entidad.\n",
        "- **`entity_group`**: El tipo de entidad reconocida, que puede ser una persona (`PER`), un lugar (`LOC`), una organización (`ORG`), o una fecha, cantidad, etc.\n",
        "- **`score`**: La confianza del modelo en la predicción."
      ],
      "metadata": {
        "id": "h22Fd18BAm8-"
      }
    },
    {
      "cell_type": "markdown",
      "source": [
        "#### Ejemplo de Salida\n",
        "Después de ejecutar el pipeline, deberías obtener un resultado similar al siguiente:\n",
        "\n",
        "```\n",
        "Entidad: Don Quijote de la Mancha, Tipo: PER, Score: 0.98\n",
        "Entidad: Sancho Panza, Tipo: PER, Score: 0.99\n",
        "Entidad: Cervantes, Tipo: PER, Score: 0.98\n",
        "Entidad: España, Tipo: LOC, Score: 0.97\n",
        "Entidad: La Mancha, Tipo: LOC, Score: 0.95\n",
        "Entidad: Duque, Tipo: PER, Score: 0.85\n",
        "Entidad: Duquesa, Tipo: PER, Score: 0.87\n",
        "```"
      ],
      "metadata": {
        "id": "apO9JSr2HGGH"
      }
    },
    {
      "cell_type": "markdown",
      "source": [
        "### Paso 7: Visualización de Resultados\n",
        "\n",
        "Para visualizar las entidades identificadas dentro del texto, podemos usar una librería de visualización simple como **Matplotlib** para resaltar las entidades en colores."
      ],
      "metadata": {
        "id": "pJsYyWy4HAYA"
      }
    },
    {
      "cell_type": "code",
      "source": [
        "import matplotlib.pyplot as plt\n",
        "from IPython.display import display, HTML\n",
        "\n",
        "# Crear un HTML para resaltar las entidades\n",
        "html_text = texto\n",
        "\n",
        "# Resaltar entidades en el texto\n",
        "for entidad in entidades:\n",
        "  palabra = entidad['word']\n",
        "  tipo = entidad['entity_group']\n",
        "  score = entidad['score']\n",
        "  color = \"#ffd700\" if tipo == \"PER\" else \"#add8e6\" if tipo == \"LOC\" else \"#90ee90\"\n",
        "  html_text = html_text.replace(palabra, f\"<mark style='background-color:{ color }'>{ palabra } ({ tipo })</mark>\")\n",
        "\n",
        "# Mostrar el texto resaltado\n",
        "display(HTML(f\"<p>{ html_text }</p>\"))"
      ],
      "metadata": {
        "colab": {
          "base_uri": "https://localhost:8080/",
          "height": 64
        },
        "id": "ewjP-aN2G7by",
        "outputId": "a7fee7a3-1f8c-4db4-ee63-ebd513db57e1"
      },
      "execution_count": 33,
      "outputs": [
        {
          "output_type": "display_data",
          "data": {
            "text/plain": [
              "<IPython.core.display.HTML object>"
            ],
            "text/html": [
              "<p>\n",
              "<mark style='background-color:#ffd700'>Don Quijote de la Mancha (PER)</mark> y <mark style='background-color:#ffd700'>Sancho Panza (PER)</mark> viajaron juntos en busca de aventuras.\n",
              "<mark style='background-color:#ffd700'>Cervantes (PER)</mark> escribió este libro en <mark style='background-color:#add8e6'>España (LOC)</mark>, donde describe sus aventuras en la región de <mark style='background-color:#add8e6'>La Mancha (LOC)</mark>.\n",
              "En el camino se encontraron con muchos personajes, incluyendo al <mark style='background-color:#ffd700'>Duque (PER)</mark> y a la <mark style='background-color:#ffd700'>Duque (PER)</mark>sa.\n",
              "</p>"
            ]
          },
          "metadata": {}
        }
      ]
    },
    {
      "cell_type": "markdown",
      "source": [
        "### Paso 8: Extensiones y Mejora\n",
        "\n",
        "Este tutorial te proporciona una base para aplicar NER utilizando Transformers y BETO.\n",
        "\n",
        "A partir de aquí, puedes realizar otras mejoras y extensiones, como:\n",
        "\n",
        "1. **Procesar Documentos Complejos**: Puedes cargar archivos de texto o PDF y aplicar el pipeline a los documentos.\n",
        "2. **Entrenar tu Propio Modelo**: Si necesitas una mejor adaptación a un corpus específico, podrías considerar entrenar tu propio modelo utilizando `transformers` y `datasets`.\n",
        "3. **Aplicaciones Específicas**: Utiliza los resultados de NER en aplicaciones como análisis de opiniones, extracción de información, o análisis de redes entre personajes.\n"
      ],
      "metadata": {
        "id": "WEemHR-2G3oQ"
      }
    },
    {
      "cell_type": "markdown",
      "source": [
        "### Conclusión\n",
        "En este tutorial has aprendido a usar **Transformers** en Google Colab para realizar reconocimiento de entidades nombradas (NER) sobre textos en español, utilizando el modelo **BETO**. Aprovechar los Transformers y el poder de Hugging Face te permite realizar esta tarea de manera efectiva y con una precisión competitiva en textos complejos y multilingües.\n",
        "\n",
        "Este pipeline es una herramienta poderosa para trabajar con datos textuales y puede adaptarse a múltiples tareas, ayudándote a explorar y analizar texto en el idioma español de manera profunda y precisa."
      ],
      "metadata": {
        "id": "lmI2j16DBbf8"
      }
    }
  ]
}